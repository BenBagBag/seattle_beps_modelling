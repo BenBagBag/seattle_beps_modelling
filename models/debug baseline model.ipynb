{
 "cells": [
  {
   "cell_type": "code",
   "execution_count": 1,
   "id": "dc20d356-4b73-463d-9f03-f671b4e78e81",
   "metadata": {},
   "outputs": [],
   "source": [
    "import pandas as pd\n",
    "import numpy as np"
   ]
  },
  {
   "cell_type": "code",
   "execution_count": 2,
   "id": "e1b9819d-58e0-4563-9b57-aba5e668df9a",
   "metadata": {},
   "outputs": [],
   "source": [
    "from baseline_model import BaselineBEPSModel"
   ]
  },
  {
   "cell_type": "code",
   "execution_count": 3,
   "id": "b98db953-146d-4960-9a44-e6b659cff4f2",
   "metadata": {},
   "outputs": [],
   "source": [
    "pd.options.mode.chained_assignment = None"
   ]
  },
  {
   "cell_type": "code",
   "execution_count": 4,
   "id": "3d50adfe-a4d4-4fe2-80cb-14e42bd264e7",
   "metadata": {},
   "outputs": [],
   "source": [
    "JAN_TARGETS_PATH = '../data/input_data/jan_proposal_emissions_targets.csv'\n",
    "JUNE_TARGETS_PATH = '../data/input_data/june_proposal_emissions_targets.csv'\n",
    "EMISSIONS_PATH = '../data/input_data/energy_emissions.csv'\n",
    "BUILDING_DATA_PATH = '../data/input_data/cleaned_building_data_with_policy_gfa.csv'\n",
    "ORIG_BUILDING_DATA_PATH = '../data/input_data/rmi_building_analysis_with_new_col_names.csv'\n",
    "\n",
    "JAN_FINE_YEARS = [2027, 2030, 2035, 2040, 2045, 2050]\n",
    "JUNE_FINE_YEARS = [2030, 2035, 2040, 2045, 2050]\n",
    "FINE_PER_SQ_FT = 2.5"
   ]
  },
  {
   "cell_type": "code",
   "execution_count": null,
   "id": "1bd6ad53-75ba-4e56-bf25-ec7552d2e0ce",
   "metadata": {},
   "outputs": [],
   "source": [
    "rmi_buildings = pd.read_csv(ORIG_BUILDING_DATA_PATH)"
   ]
  },
  {
   "cell_type": "code",
   "execution_count": null,
   "id": "76d44925-f821-44cb-9547-23906910666c",
   "metadata": {},
   "outputs": [],
   "source": [
    "rmi_buildings[rmi_buildings['OSEBuildingID'] == 50259].iloc[0]"
   ]
  },
  {
   "cell_type": "code",
   "execution_count": null,
   "id": "7d7c0511-f654-42fa-afb8-3277cd467429",
   "metadata": {},
   "outputs": [],
   "source": [
    "rmi_buildings['LargestPropertyUseType OSE'].unique()"
   ]
  },
  {
   "cell_type": "code",
   "execution_count": null,
   "id": "6c67e31f-5fc2-4b2d-9e20-133a6d615083",
   "metadata": {},
   "outputs": [],
   "source": [
    "timeline = pd.read_csv(JAN_TARGETS_PATH)"
   ]
  },
  {
   "cell_type": "code",
   "execution_count": null,
   "id": "43f5c31a-4965-4382-8825-6cbd49f12580",
   "metadata": {},
   "outputs": [],
   "source": [
    "timeline.columns"
   ]
  },
  {
   "cell_type": "code",
   "execution_count": null,
   "id": "380f9daa-1859-45a4-a090-23e14ca3c29c",
   "metadata": {},
   "outputs": [],
   "source": [
    "row = timeline[(timeline['year'] == 2030) & (timeline['sq_ft_classification'] == 'B') & (timeline['building_type'] == np.nan)]"
   ]
  },
  {
   "cell_type": "code",
   "execution_count": null,
   "id": "a7f0ccd3-9733-421a-8776-50086164116f",
   "metadata": {},
   "outputs": [],
   "source": [
    "row.iloc[0]"
   ]
  },
  {
   "cell_type": "code",
   "execution_count": null,
   "id": "e7e9740b-9a0d-4cac-9d2b-6b7415bd798d",
   "metadata": {},
   "outputs": [],
   "source": [
    "rmi_buildings[rmi_buildings['LargestPropertyUseType OSE'].isna()][['LargestPropertyUseType OSE', 'SecondLargestPropertyUseType OSE', 'ThirdLargestPropertyUseType OSE']]"
   ]
  },
  {
   "cell_type": "code",
   "execution_count": null,
   "id": "dd87398b-49b1-46da-8dac-831351b4b9f2",
   "metadata": {},
   "outputs": [],
   "source": [
    "sample_building = rmi_buildings[rmi_buildings['LargestPropertyUseType OSE'].isna()].iloc[0]"
   ]
  },
  {
   "cell_type": "code",
   "execution_count": null,
   "id": "08ee72e4-212f-41d2-b977-03d9c3e632ec",
   "metadata": {},
   "outputs": [],
   "source": [
    "'cow' if pd.isna(sample_building['LargestPropertyUseType OSE']) else 'moose'"
   ]
  },
  {
   "cell_type": "markdown",
   "id": "cbc7e6d7-1fa2-4544-acf6-bc2cfe7615a6",
   "metadata": {},
   "source": [
    "So it looks like the final row in `_get_city_ghgi` should work correctly. Let's test that theory."
   ]
  },
  {
   "cell_type": "code",
   "execution_count": null,
   "id": "d2c50b06-417f-43c7-a85e-9ba48ce928b4",
   "metadata": {},
   "outputs": [],
   "source": [
    "all_nan_building_types = rmi_buildings[(rmi_buildings['LargestPropertyUseType OSE'].isna()) & (rmi_buildings['SecondLargestPropertyUseType OSE'].isna()) & (rmi_buildings['ThirdLargestPropertyUseType OSE'].isna())]"
   ]
  },
  {
   "cell_type": "code",
   "execution_count": null,
   "id": "0e2ec16b-2d6b-40fe-b697-7921d0391a72",
   "metadata": {},
   "outputs": [],
   "source": [
    "all_nan_building_types"
   ]
  },
  {
   "cell_type": "code",
   "execution_count": null,
   "id": "613922d2-5f80-4d06-90d0-d4e9ae7ec4bb",
   "metadata": {},
   "outputs": [],
   "source": [
    "all_nan_building_types.to_csv('nan_buildings.csv')"
   ]
  },
  {
   "cell_type": "code",
   "execution_count": null,
   "id": "327925d6-8d60-4fda-b04a-07cea095e00b",
   "metadata": {},
   "outputs": [],
   "source": [
    "nan_buildings_model = BaselineBEPSModel(EMISSIONS_PATH, JAN_TARGETS_PATH, 'nan_buildings.csv', JAN_FINE_YEARS, FINE_PER_SQ_FT)"
   ]
  },
  {
   "cell_type": "code",
   "execution_count": null,
   "id": "9474cba7-8445-4a90-947b-ffe2a53e9f86",
   "metadata": {},
   "outputs": [],
   "source": [
    "nan_buildings_model.calculate_baseline_model(2027, 2030)"
   ]
  },
  {
   "cell_type": "code",
   "execution_count": null,
   "id": "1223ee99-9143-46d6-a014-ba1dfb7cf8c2",
   "metadata": {},
   "outputs": [],
   "source": [
    "nan_buildings_model.scenario_results[nan_buildings_model.scenario_results['OSEBuildingID'] == 50542].iloc[0]"
   ]
  },
  {
   "cell_type": "code",
   "execution_count": null,
   "id": "2a3d70a2-b7b9-485b-9c89-c51a4f96fb83",
   "metadata": {},
   "outputs": [],
   "source": [
    "# do any buildings report 0 energy use?\n",
    "\n",
    "raw_buildings = pd.read_csv('../data/input_data/Reproducing RMI building data cleaning/seattle_large_building_data_2019.csv')\n",
    "raw_buildings.columns"
   ]
  },
  {
   "cell_type": "code",
   "execution_count": null,
   "id": "87966613-e5ed-4728-bee4-b6b9b834ee61",
   "metadata": {},
   "outputs": [],
   "source": [
    "raw_buildings[(raw_buildings['NaturalGas(kBtu)'] == 0) & (raw_buildings['Electricity(kWh)'] == 0) & (raw_buildings['SteamUse(kBtu)'] == 0)].iloc[0]"
   ]
  },
  {
   "cell_type": "code",
   "execution_count": null,
   "id": "56013d53-317b-4b94-99c2-98384cac33fe",
   "metadata": {},
   "outputs": [],
   "source": [
    "# try to run now"
   ]
  },
  {
   "cell_type": "code",
   "execution_count": 5,
   "id": "35c7b4f5-13ef-458a-bf6e-b41ca7dffcc7",
   "metadata": {},
   "outputs": [],
   "source": [
    "jan_model = BaselineBEPSModel(EMISSIONS_PATH, JAN_TARGETS_PATH, ORIG_BUILDING_DATA_PATH, JAN_FINE_YEARS, FINE_PER_SQ_FT)"
   ]
  },
  {
   "cell_type": "code",
   "execution_count": 9,
   "id": "1d204b40-f2eb-4baa-8fcf-55085b89d662",
   "metadata": {},
   "outputs": [
    {
     "data": {
      "text/html": [
       "<div>\n",
       "<style scoped>\n",
       "    .dataframe tbody tr th:only-of-type {\n",
       "        vertical-align: middle;\n",
       "    }\n",
       "\n",
       "    .dataframe tbody tr th {\n",
       "        vertical-align: top;\n",
       "    }\n",
       "\n",
       "    .dataframe thead th {\n",
       "        text-align: right;\n",
       "    }\n",
       "</style>\n",
       "<table border=\"1\" class=\"dataframe\">\n",
       "  <thead>\n",
       "    <tr style=\"text-align: right;\">\n",
       "      <th></th>\n",
       "      <th>OSEBuildingID</th>\n",
       "      <th>BuildingName</th>\n",
       "      <th>Total GFA for Policy</th>\n",
       "      <th>sq_ft_classification</th>\n",
       "      <th>LargestPropertyUseType OSE</th>\n",
       "      <th>SecondLargestPropertyUseType OSE</th>\n",
       "      <th>ThirdLargestPropertyUseType OSE</th>\n",
       "      <th>year</th>\n",
       "      <th>expected_baseline</th>\n",
       "      <th>expected_baseline_ghgi</th>\n",
       "      <th>city_ghgi_target</th>\n",
       "      <th>compliant_ghgi</th>\n",
       "      <th>compliant_emissions</th>\n",
       "      <th>compliance_status</th>\n",
       "      <th>compliance_fees</th>\n",
       "    </tr>\n",
       "  </thead>\n",
       "  <tbody>\n",
       "    <tr>\n",
       "      <th>0</th>\n",
       "      <td>1</td>\n",
       "      <td>MAYFLOWER PARK HOTEL</td>\n",
       "      <td>88434</td>\n",
       "      <td>C</td>\n",
       "      <td>Hotel</td>\n",
       "      <td>NaN</td>\n",
       "      <td>NaN</td>\n",
       "      <td>2027.0</td>\n",
       "      <td>2.705014e+05</td>\n",
       "      <td>3.058794</td>\n",
       "      <td>3.058794</td>\n",
       "      <td>3.058794</td>\n",
       "      <td>2.705014e+05</td>\n",
       "      <td>No</td>\n",
       "      <td>221085.0</td>\n",
       "    </tr>\n",
       "    <tr>\n",
       "      <th>1</th>\n",
       "      <td>2</td>\n",
       "      <td>PARAMOUNT HOTEL</td>\n",
       "      <td>88502</td>\n",
       "      <td>C</td>\n",
       "      <td>Hotel</td>\n",
       "      <td>NaN</td>\n",
       "      <td>Restaurant</td>\n",
       "      <td>2027.0</td>\n",
       "      <td>2.843616e+05</td>\n",
       "      <td>3.213052</td>\n",
       "      <td>3.213052</td>\n",
       "      <td>3.213052</td>\n",
       "      <td>2.843616e+05</td>\n",
       "      <td>No</td>\n",
       "      <td>221255.0</td>\n",
       "    </tr>\n",
       "    <tr>\n",
       "      <th>2</th>\n",
       "      <td>3</td>\n",
       "      <td>WESTIN HOTEL (Parent Building)</td>\n",
       "      <td>756493</td>\n",
       "      <td>A</td>\n",
       "      <td>Hotel</td>\n",
       "      <td>NaN</td>\n",
       "      <td>Recreation</td>\n",
       "      <td>2027.0</td>\n",
       "      <td>2.193901e+06</td>\n",
       "      <td>2.900095</td>\n",
       "      <td>2.220000</td>\n",
       "      <td>2.220000</td>\n",
       "      <td>1.679414e+06</td>\n",
       "      <td>No</td>\n",
       "      <td>1891232.5</td>\n",
       "    </tr>\n",
       "    <tr>\n",
       "      <th>3</th>\n",
       "      <td>5</td>\n",
       "      <td>HOTEL MAX</td>\n",
       "      <td>61320</td>\n",
       "      <td>C</td>\n",
       "      <td>Hotel</td>\n",
       "      <td>NaN</td>\n",
       "      <td>NaN</td>\n",
       "      <td>2027.0</td>\n",
       "      <td>2.934861e+05</td>\n",
       "      <td>4.786141</td>\n",
       "      <td>4.786141</td>\n",
       "      <td>4.786141</td>\n",
       "      <td>2.934861e+05</td>\n",
       "      <td>No</td>\n",
       "      <td>153300.0</td>\n",
       "    </tr>\n",
       "    <tr>\n",
       "      <th>4</th>\n",
       "      <td>8</td>\n",
       "      <td>WARWICK SEATTLE HOTEL</td>\n",
       "      <td>123445</td>\n",
       "      <td>B</td>\n",
       "      <td>Hotel</td>\n",
       "      <td>NaN</td>\n",
       "      <td>Recreation</td>\n",
       "      <td>2027.0</td>\n",
       "      <td>5.827520e+05</td>\n",
       "      <td>4.720742</td>\n",
       "      <td>2.220000</td>\n",
       "      <td>2.220000</td>\n",
       "      <td>2.740479e+05</td>\n",
       "      <td>No</td>\n",
       "      <td>308612.5</td>\n",
       "    </tr>\n",
       "  </tbody>\n",
       "</table>\n",
       "</div>"
      ],
      "text/plain": [
       "  OSEBuildingID                    BuildingName Total GFA for Policy  \\\n",
       "0             1            MAYFLOWER PARK HOTEL                88434   \n",
       "1             2                 PARAMOUNT HOTEL                88502   \n",
       "2             3  WESTIN HOTEL (Parent Building)               756493   \n",
       "3             5                       HOTEL MAX                61320   \n",
       "4             8           WARWICK SEATTLE HOTEL               123445   \n",
       "\n",
       "  sq_ft_classification LargestPropertyUseType OSE  \\\n",
       "0                    C                      Hotel   \n",
       "1                    C                      Hotel   \n",
       "2                    A                      Hotel   \n",
       "3                    C                      Hotel   \n",
       "4                    B                      Hotel   \n",
       "\n",
       "  SecondLargestPropertyUseType OSE ThirdLargestPropertyUseType OSE    year  \\\n",
       "0                              NaN                             NaN  2027.0   \n",
       "1                              NaN                      Restaurant  2027.0   \n",
       "2                              NaN                      Recreation  2027.0   \n",
       "3                              NaN                             NaN  2027.0   \n",
       "4                              NaN                      Recreation  2027.0   \n",
       "\n",
       "   expected_baseline  expected_baseline_ghgi  city_ghgi_target  \\\n",
       "0       2.705014e+05                3.058794          3.058794   \n",
       "1       2.843616e+05                3.213052          3.213052   \n",
       "2       2.193901e+06                2.900095          2.220000   \n",
       "3       2.934861e+05                4.786141          4.786141   \n",
       "4       5.827520e+05                4.720742          2.220000   \n",
       "\n",
       "   compliant_ghgi  compliant_emissions compliance_status  compliance_fees  \n",
       "0        3.058794         2.705014e+05                No         221085.0  \n",
       "1        3.213052         2.843616e+05                No         221255.0  \n",
       "2        2.220000         1.679414e+06                No        1891232.5  \n",
       "3        4.786141         2.934861e+05                No         153300.0  \n",
       "4        2.220000         2.740479e+05                No         308612.5  "
      ]
     },
     "execution_count": 9,
     "metadata": {},
     "output_type": "execute_result"
    }
   ],
   "source": [
    "jan_model.scenario_results.head()"
   ]
  },
  {
   "cell_type": "code",
   "execution_count": null,
   "id": "d837d86f-1111-4b17-b9aa-bf98b7842b65",
   "metadata": {},
   "outputs": [],
   "source": []
  }
 ],
 "metadata": {
  "kernelspec": {
   "display_name": "Python 3 (ipykernel)",
   "language": "python",
   "name": "python3"
  },
  "language_info": {
   "codemirror_mode": {
    "name": "ipython",
    "version": 3
   },
   "file_extension": ".py",
   "mimetype": "text/x-python",
   "name": "python",
   "nbconvert_exporter": "python",
   "pygments_lexer": "ipython3",
   "version": "3.11.3"
  }
 },
 "nbformat": 4,
 "nbformat_minor": 5
}
