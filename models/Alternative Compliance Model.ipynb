{
 "cells": [
  {
   "cell_type": "markdown",
   "id": "d25a3ae9-e5ad-49fa-ac6a-7fb365b3d392",
   "metadata": {},
   "source": [
    "# Alternative Compliance Model \n",
    "\n",
    "Model for a proposal with exceptions for campuses, highly polluting buildings, and unclassified buildings.\n",
    "\n",
    "In this proposed ammendment, buildings can use the alternate compliance for all compliance periods if the building is:\n",
    "\n",
    "- A building portfolio, district campus, or connected buildings\n",
    "    - NB: We do not have data to let us determine reliably if a building is part of a portfolio or connected buildings\n",
    "- A nonresidential building with more than 50% of the covered building with the building activity type of “Other” or of a type not covered by legislation's building use types\n",
    "- A covered building that has a baseline GHGI greater than 3.5 times the covered building’s standard GHGIT for the 2031-2035 compliance interval.\n",
    "    - NB: this model assumes this is the city standard GHGIT for that building in 2035.\n",
    "\n",
    "## Definitions of Alternative GHGITs:\n",
    "\n",
    "### For nonresidential buildings:\n",
    "\n",
    "- 75% of the baseline GHGI for the 2027-2030 compliance interval\n",
    "- 50% of the baseline GHGI for the 2031-2035 compliance interval\n",
    "- 25% of the baseline GHGI for the 2036-2040 compliance interval\n",
    "- Net zero for the 2041-2045 compliance interval\n",
    "\n",
    "\n",
    "### For multifamily residential buildings:\n",
    "\n",
    "- 75% of the baseline GHGI for the 2031-2035 compliance interval\n",
    "- 50% of the baseline GHGI for the 2036-2040 compliance interval\n",
    "- 25% of the baseline GHGI for the 2041-2045 compliance interval\n",
    "- Net zero for the 2046-2050 compliance interval"
   ]
  },
  {
   "cell_type": "code",
   "execution_count": 1,
   "id": "06a39357-5391-40bf-a2f9-393797e417d6",
   "metadata": {},
   "outputs": [],
   "source": [
    "import pandas as pd\n",
    "import numpy as np\n",
    "\n",
    "import seaborn as sns\n",
    "import matplotlib.pyplot as plt"
   ]
  },
  {
   "cell_type": "code",
   "execution_count": 2,
   "id": "5aa29dae-769d-491f-b525-977be0ba215b",
   "metadata": {},
   "outputs": [],
   "source": [
    "from alternative_compliance_model import AlternativeComplianceModel"
   ]
  },
  {
   "cell_type": "code",
   "execution_count": 3,
   "id": "05652fd3-7eb4-4437-8363-ebc662febb56",
   "metadata": {},
   "outputs": [],
   "source": [
    "pd.options.mode.chained_assignment = None"
   ]
  },
  {
   "cell_type": "code",
   "execution_count": 4,
   "id": "b61c534b-13b6-4ed7-b52e-1caf8c315385",
   "metadata": {},
   "outputs": [],
   "source": [
    "# Use only June proposal, because that's what the alternative compliance proposal was designed for\n",
    "\n",
    "JUNE_TARGETS_PATH = '../data/input_data/june_proposal_emissions_targets.csv'\n",
    "EMISSIONS_PATH = '../data/input_data/energy_emissions.csv'\n",
    "BUILDING_DATA_PATH = '../data/input_data/Data cleaning/cleaned_building_data_with_policy_gfa.csv'\n",
    "\n",
    "JUNE_FINE_YEARS = [2030, 2035, 2040, 2045, 2050]\n",
    "FINE_PER_SQ_FT = 2.5"
   ]
  },
  {
   "cell_type": "code",
   "execution_count": 5,
   "id": "14682346-003d-45b6-8c13-c0219825515b",
   "metadata": {},
   "outputs": [],
   "source": [
    "alt_compliance_model = AlternativeComplianceModel(EMISSIONS_PATH, JUNE_TARGETS_PATH, BUILDING_DATA_PATH, JUNE_FINE_YEARS, FINE_PER_SQ_FT)"
   ]
  },
  {
   "cell_type": "code",
   "execution_count": 6,
   "id": "0823ace7-ea76-492c-b06c-d7d10a841a52",
   "metadata": {},
   "outputs": [
    {
     "name": "stdout",
     "output_type": "stream",
     "text": [
      "Model calculations complete. Access the model dataframe as model_name.scenario_results\n"
     ]
    }
   ],
   "source": [
    "alt_compliance_model.calculate_alternative_compliance_model(2050)"
   ]
  },
  {
   "cell_type": "code",
   "execution_count": null,
   "id": "41d3f871-81c0-49dd-afa8-039d997671a5",
   "metadata": {},
   "outputs": [],
   "source": [
    "alt_compliance_model.scenario_results.to_csv('alternative_compliance_model_results.csv')"
   ]
  }
 ],
 "metadata": {
  "kernelspec": {
   "display_name": "Python 3 (ipykernel)",
   "language": "python",
   "name": "python3"
  },
  "language_info": {
   "codemirror_mode": {
    "name": "ipython",
    "version": 3
   },
   "file_extension": ".py",
   "mimetype": "text/x-python",
   "name": "python",
   "nbconvert_exporter": "python",
   "pygments_lexer": "ipython3",
   "version": "3.11.3"
  }
 },
 "nbformat": 4,
 "nbformat_minor": 5
}
