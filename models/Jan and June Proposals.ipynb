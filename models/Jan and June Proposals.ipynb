{
 "cells": [
  {
   "cell_type": "markdown",
   "id": "871af8a3",
   "metadata": {},
   "source": [
    "# Benchmark calculcations for January and June proposals\n",
    "\n",
    "**A Note About Source Data**\n",
    "\n",
    "We ran our original calculations using RMI's building data. The first set of models run in this notebook used the publicly available building data from 2019, with calculations to reproduce the new fields created in the RMI dataset. This gave us massively skewed results. We're not sure if this is because the datasets were really off from one another or there's a calculation error. This will need to be investigated.\n",
    "\n",
    "At the bottom of the notebook are these same proposals remodelled with RMI's building data, which shows us results consistent with what we've seen in the past. \n",
    "\n",
    "\n",
    "**Assumptions**:\n",
    "\n",
    "- Buildings will produce the max amount of emissions, **unless** their predicted emissions is lower than the target GHGI, in which case they will produce that amount.\n",
    "- Predicted emissions are calculated based off of the emissions predictions found in [the emissions data input file](../data/input_data/energy_emissions.csv). \n",
    "\n",
    "\n",
    "For each building, in each year (2027-2050), we need to calculate (column references given refer to the 2027 calculations in [the original RMI spreadsheet](https://docs.google.com/spreadsheets/d/175uipAHHQHGelq7i1n9sKWQXNQi-B1IJiF6-XQRVnE8/edit#gid=1811888818):\n",
    "\n",
    "- `city_ghgi_target`: The GHGI target, as calculated by the sum of: use type * city's target GHGI for that use type * percent of GFA for that use type, for each of the three given use types (col A). If there is no target for any of the use types, this is NaN. If a building is multi-use, and some of the building's uses have a compliance threshold, but others don't, use the expected GHGI (greenhouse gas emissions intensity) if nothing is changed as the GHGI for the portion of the building that is not subject to BEPS yet.\n",
    "    - Example: A building is 50% retail and 50% multifamily housing. The target for retail in 2033 is 1.03 and there is no target for multifamily housing. This building would have a GHGI of 4.0 in 2033 if no changes were made to it. We estimate the GHGHI target as `(0.5 * 1.03) + (0.5 * 4.0) = 2.515`. \n",
    "    - NB: These numbers will be different than the RMI calculations. The RMI model mistakenly used a GHGI of zero for parts of buildings that are not yet subject to BEPS. So in the example above, RMI's model would list the GHGI target as`0.5 * 1.03 + 0.5 * 0 = 0.515`, which leaves out half the building. Then the target GHGI would actually go **up** when the multifamily part of the building became subject to BEPS! This model corrects that error.\n",
    "- `expected_baseline`: The expected emissions if nothing is changed about the building, as calculated by the sum of: `total use energy for type * energy emissions factor for energy type` for the three energy types (col C)\n",
    "- `expected_baseline_ghgi`: The expected GHGI if nothing is changed about the building (col B), as calculated by the `expected emissions / total GFA`\n",
    "- `compliant_ghgi`: The expected GHGI if the building is compliant with BEPS, as defined by (col H):\n",
    "    - if the BEPS GHGI target is lower than the expected GHGI, use the BEPS GHGI target\n",
    "    - if the expected GHGI is lower than the BEPS GHGI target, use the expected GHGI\n",
    "- `compliant_emissions`: The expected emissions if the building is compliant with BEPS, as defined by the `compliant GHGI * total GFA` (col J)\n",
    "- `compliance_status`: Whether or not the building is compliant (col K):\n",
    "    - yes: the baseline GHGI is lower than the expected compliant GHGI for this year\n",
    "    - no: the baseline GHGI is higher than the expected compliant GHGI for this year\n",
    "    - no requirement yet: the building doesn't have a compliance requirement for this year\n",
    "- `compliance_fees`: Noncompliance fees. For years where buildings will be taxed for being noncompliant, this is `$2.50 * total GFA`    "
   ]
  },
  {
   "cell_type": "code",
   "execution_count": 1,
   "id": "d8090f3b",
   "metadata": {},
   "outputs": [],
   "source": [
    "import pandas as pd\n",
    "import numpy as np"
   ]
  },
  {
   "cell_type": "code",
   "execution_count": 2,
   "id": "01d49814-15a0-4d04-82aa-6fb464598fe9",
   "metadata": {},
   "outputs": [],
   "source": [
    "from baseline_model import BaselineBEPSModel"
   ]
  },
  {
   "cell_type": "code",
   "execution_count": 3,
   "id": "86d0008b",
   "metadata": {},
   "outputs": [],
   "source": [
    "pd.options.mode.chained_assignment = None"
   ]
  },
  {
   "cell_type": "code",
   "execution_count": 4,
   "id": "f76ebfd1",
   "metadata": {},
   "outputs": [],
   "source": [
    "JAN_TARGETS_PATH = '../data/input_data/jan_proposal_emissions_targets.csv'\n",
    "JUNE_TARGETS_PATH = '../data/input_data/june_proposal_emissions_targets.csv'\n",
    "EMISSIONS_PATH = '../data/input_data/energy_emissions.csv'\n",
    "BUILDING_DATA_PATH = '../data/input_data/cleaned_building_data_with_policy_gfa.csv'\n",
    "\n",
    "JAN_FINE_YEARS = [2027, 2030, 2035, 2040, 2045, 2050]\n",
    "JUNE_FINE_YEARS = [2030, 2035, 2040, 2045, 2050]\n",
    "FINE_PER_SQ_FT = 2.5"
   ]
  },
  {
   "cell_type": "markdown",
   "id": "4af189da",
   "metadata": {},
   "source": [
    "## January Proposal"
   ]
  },
  {
   "cell_type": "code",
   "execution_count": null,
   "id": "4495316f",
   "metadata": {},
   "outputs": [],
   "source": [
    "jan_model = BaselineBEPSModel(EMISSIONS_PATH, JAN_TARGETS_PATH, BUILDING_DATA_PATH, JAN_FINE_YEARS, FINE_PER_SQ_FT)"
   ]
  },
  {
   "cell_type": "code",
   "execution_count": null,
   "id": "c74ac6e6-459f-4abc-91d3-31062a5850b0",
   "metadata": {},
   "outputs": [],
   "source": [
    "jan_model.calculate_baseline_model(2027,2050)"
   ]
  },
  {
   "cell_type": "code",
   "execution_count": null,
   "id": "0d42023c-eabf-428f-baa6-c77af0eb1397",
   "metadata": {},
   "outputs": [],
   "source": [
    "jan_model.scenario_results.head()"
   ]
  },
  {
   "cell_type": "markdown",
   "id": "182a2028-4bef-4c4c-9c80-b464a09a1e74",
   "metadata": {},
   "source": [
    "## Summary stats for January Proposal"
   ]
  },
  {
   "cell_type": "code",
   "execution_count": null,
   "id": "a2dfd348",
   "metadata": {},
   "outputs": [],
   "source": [
    "jan_model.get_total_emissions_by_year()"
   ]
  },
  {
   "cell_type": "code",
   "execution_count": null,
   "id": "ff76207a",
   "metadata": {},
   "outputs": [],
   "source": [
    "jan_model.emissions_by_year"
   ]
  },
  {
   "cell_type": "code",
   "execution_count": null,
   "id": "dc891fc4",
   "metadata": {},
   "outputs": [],
   "source": [
    "# Calculate percent of CO2 reduction by 2040\n",
    "\n",
    "jan_model.get_percent_emissions_reduction_by_given_year(2040)"
   ]
  },
  {
   "cell_type": "markdown",
   "id": "4cc4b502-3c51-4ab0-9969-14f2940b9d40",
   "metadata": {},
   "source": [
    "## June proposal"
   ]
  },
  {
   "cell_type": "code",
   "execution_count": null,
   "id": "1a7ecfd9-d2c4-49d8-82e4-acf51f88f476",
   "metadata": {},
   "outputs": [],
   "source": [
    "june_model = BaselineBEPSModel(EMISSIONS_PATH, JUNE_TARGETS_PATH, BUILDING_DATA_PATH, JUNE_FINE_YEARS, FINE_PER_SQ_FT)"
   ]
  },
  {
   "cell_type": "code",
   "execution_count": null,
   "id": "e8dd4cc2-f288-43f4-a553-04560db44fff",
   "metadata": {},
   "outputs": [],
   "source": [
    "june_model.calculate_baseline_model(2027,2050)"
   ]
  },
  {
   "cell_type": "code",
   "execution_count": null,
   "id": "8aa19657-3cbe-4a87-a6c2-259c8a5a187a",
   "metadata": {},
   "outputs": [],
   "source": [
    "june_model.scenario_results.head()"
   ]
  },
  {
   "cell_type": "markdown",
   "id": "3ae4add0-6924-42b3-920d-221944b49fa3",
   "metadata": {},
   "source": [
    "## Summary stats for June"
   ]
  },
  {
   "cell_type": "code",
   "execution_count": null,
   "id": "7d2ac166-2067-41fe-b552-560158fd4ce6",
   "metadata": {},
   "outputs": [],
   "source": [
    "june_model.get_total_emissions_by_year()"
   ]
  },
  {
   "cell_type": "code",
   "execution_count": null,
   "id": "9fb7b2e6-04c3-4f38-b097-4b05265f3750",
   "metadata": {},
   "outputs": [],
   "source": [
    "june_model.emissions_by_year"
   ]
  },
  {
   "cell_type": "code",
   "execution_count": null,
   "id": "1db2eeff-aaf6-433d-9c7c-5a88f7d3ef3d",
   "metadata": {},
   "outputs": [],
   "source": [
    "june_model.get_percent_emissions_reduction_by_given_year(2040)"
   ]
  },
  {
   "cell_type": "markdown",
   "id": "4ace0dd1-7dd6-4dd8-b1b8-b2b047adcda5",
   "metadata": {},
   "source": [
    "## Comparing January and June"
   ]
  },
  {
   "cell_type": "code",
   "execution_count": null,
   "id": "f8b9f78f-2222-44d6-9297-140d478d272d",
   "metadata": {},
   "outputs": [],
   "source": [
    "june_model.scenario_results['compliant_emissions'].sum()"
   ]
  },
  {
   "cell_type": "code",
   "execution_count": null,
   "id": "e4a0f089-0580-4927-ae45-4384825bffbe",
   "metadata": {},
   "outputs": [],
   "source": [
    "jan_model.scenario_results['compliant_emissions'].sum()"
   ]
  },
  {
   "cell_type": "markdown",
   "id": "b6c8b0fc-aa72-4936-b5b0-43e306e457b3",
   "metadata": {},
   "source": [
    "That's twice as much emissions in June vs January. Something is wrong. Let's look at the original RMI building spreadsheet."
   ]
  },
  {
   "cell_type": "markdown",
   "id": "4bea6f9d-1e79-4698-a5bf-20c0c0796033",
   "metadata": {},
   "source": [
    "## Proposals with Original RMI Spreadsheet\n",
    "\n",
    "Something is wrong with the numbers we see above. Let's run the numbers again with the original RMI spreadsheet to verify that our model works correctly. If so, we can dig into what is wrong with the numbers we calculated for the public city data.\n",
    "\n",
    "We'll rerun the numbers with the original RMI spreadsheet. Two things are added to this spreadsheet:\n",
    "\n",
    "- building classification (A, B, C, etc. based on GFA that is subject to the policy)\n",
    "- updated column names to match the model: 'Total_GFA' -> 'Total GFA for Policy', 'Steam(kBtu)' -> 'SteamUse(kBtu)', and 'percent_sqft_1st' -> 'LargestPropertyUseType Percent GFA', etc."
   ]
  },
  {
   "cell_type": "markdown",
   "id": "f114d709-5732-4430-9b2f-2a576da1af59",
   "metadata": {},
   "source": [
    "### January model"
   ]
  },
  {
   "cell_type": "code",
   "execution_count": 5,
   "id": "c7ef5400-e76e-4cce-9c3e-374166d5d57a",
   "metadata": {},
   "outputs": [],
   "source": [
    "ORIG_BUILDING_DATA_PATH = '../data/input_data/rmi_building_analysis_with_new_col_names.csv'"
   ]
  },
  {
   "cell_type": "code",
   "execution_count": 6,
   "id": "5362b02a-b4e4-431a-9bb5-0814dc521aad",
   "metadata": {},
   "outputs": [],
   "source": [
    "orig_jan_model = BaselineBEPSModel(EMISSIONS_PATH, JAN_TARGETS_PATH, ORIG_BUILDING_DATA_PATH, JAN_FINE_YEARS, FINE_PER_SQ_FT)"
   ]
  },
  {
   "cell_type": "code",
   "execution_count": 7,
   "id": "62695388-3641-4837-bcdb-274ab42b464b",
   "metadata": {},
   "outputs": [
    {
     "name": "stdout",
     "output_type": "stream",
     "text": [
      "Model calculations complete. Access the model dataframe as model_name.scenario_results\n"
     ]
    }
   ],
   "source": [
    "orig_jan_model.calculate_baseline_model(2027, 2050)"
   ]
  },
  {
   "cell_type": "code",
   "execution_count": 8,
   "id": "f72103fc-78fb-4fb5-9251-2d06b795d6e0",
   "metadata": {},
   "outputs": [
    {
     "data": {
      "text/plain": [
       "3430889229.1106"
      ]
     },
     "execution_count": 8,
     "metadata": {},
     "output_type": "execute_result"
    }
   ],
   "source": [
    "# Total emissions (kg) for Jan\n",
    "\n",
    "orig_jan_model.scenario_results['compliant_emissions'].sum()"
   ]
  },
  {
   "cell_type": "code",
   "execution_count": 9,
   "id": "68bf948a-da7e-4d88-b696-61d5bafcd294",
   "metadata": {},
   "outputs": [
    {
     "data": {
      "text/plain": [
       "0.7457294950189703"
      ]
     },
     "execution_count": 9,
     "metadata": {},
     "output_type": "execute_result"
    }
   ],
   "source": [
    "# Percent reduction by 2040\n",
    "\n",
    "orig_jan_model.get_percent_emissions_reduction_by_given_year(2040)"
   ]
  },
  {
   "cell_type": "code",
   "execution_count": 10,
   "id": "5f9a4892-7761-4ce8-bef7-bce71e38f92d",
   "metadata": {},
   "outputs": [
    {
     "name": "stdout",
     "output_type": "stream",
     "text": [
      "Emissions by year calculations complete. Access the annual emissions dataframe as model_name.emissions_by_year\n"
     ]
    }
   ],
   "source": [
    "orig_jan_model.get_total_emissions_by_year()"
   ]
  },
  {
   "cell_type": "code",
   "execution_count": 11,
   "id": "27d4ebde-5e2e-4598-ab78-a43d93112d5c",
   "metadata": {},
   "outputs": [
    {
     "data": {
      "text/html": [
       "<div>\n",
       "<style scoped>\n",
       "    .dataframe tbody tr th:only-of-type {\n",
       "        vertical-align: middle;\n",
       "    }\n",
       "\n",
       "    .dataframe tbody tr th {\n",
       "        vertical-align: top;\n",
       "    }\n",
       "\n",
       "    .dataframe thead th {\n",
       "        text-align: right;\n",
       "    }\n",
       "</style>\n",
       "<table border=\"1\" class=\"dataframe\">\n",
       "  <thead>\n",
       "    <tr style=\"text-align: right;\">\n",
       "      <th></th>\n",
       "      <th>compliant_emissions</th>\n",
       "    </tr>\n",
       "    <tr>\n",
       "      <th>year</th>\n",
       "      <th></th>\n",
       "    </tr>\n",
       "  </thead>\n",
       "  <tbody>\n",
       "    <tr>\n",
       "      <th>2027.0</th>\n",
       "      <td>3.406050e+08</td>\n",
       "    </tr>\n",
       "    <tr>\n",
       "      <th>2028.0</th>\n",
       "      <td>3.164388e+08</td>\n",
       "    </tr>\n",
       "    <tr>\n",
       "      <th>2029.0</th>\n",
       "      <td>2.984933e+08</td>\n",
       "    </tr>\n",
       "    <tr>\n",
       "      <th>2030.0</th>\n",
       "      <td>2.653944e+08</td>\n",
       "    </tr>\n",
       "    <tr>\n",
       "      <th>2031.0</th>\n",
       "      <td>2.405039e+08</td>\n",
       "    </tr>\n",
       "    <tr>\n",
       "      <th>2032.0</th>\n",
       "      <td>2.194513e+08</td>\n",
       "    </tr>\n",
       "    <tr>\n",
       "      <th>2033.0</th>\n",
       "      <td>2.009708e+08</td>\n",
       "    </tr>\n",
       "    <tr>\n",
       "      <th>2034.0</th>\n",
       "      <td>1.851488e+08</td>\n",
       "    </tr>\n",
       "    <tr>\n",
       "      <th>2035.0</th>\n",
       "      <td>1.702612e+08</td>\n",
       "    </tr>\n",
       "    <tr>\n",
       "      <th>2036.0</th>\n",
       "      <td>1.448638e+08</td>\n",
       "    </tr>\n",
       "    <tr>\n",
       "      <th>2037.0</th>\n",
       "      <td>1.309632e+08</td>\n",
       "    </tr>\n",
       "    <tr>\n",
       "      <th>2038.0</th>\n",
       "      <td>1.243389e+08</td>\n",
       "    </tr>\n",
       "    <tr>\n",
       "      <th>2039.0</th>\n",
       "      <td>1.190128e+08</td>\n",
       "    </tr>\n",
       "    <tr>\n",
       "      <th>2040.0</th>\n",
       "      <td>1.115653e+08</td>\n",
       "    </tr>\n",
       "    <tr>\n",
       "      <th>2041.0</th>\n",
       "      <td>6.536080e+07</td>\n",
       "    </tr>\n",
       "    <tr>\n",
       "      <th>2042.0</th>\n",
       "      <td>4.329297e+07</td>\n",
       "    </tr>\n",
       "    <tr>\n",
       "      <th>2043.0</th>\n",
       "      <td>3.239839e+07</td>\n",
       "    </tr>\n",
       "    <tr>\n",
       "      <th>2044.0</th>\n",
       "      <td>2.400834e+07</td>\n",
       "    </tr>\n",
       "    <tr>\n",
       "      <th>2045.0</th>\n",
       "      <td>1.851393e+07</td>\n",
       "    </tr>\n",
       "    <tr>\n",
       "      <th>2046.0</th>\n",
       "      <td>1.322147e+07</td>\n",
       "    </tr>\n",
       "    <tr>\n",
       "      <th>2047.0</th>\n",
       "      <td>6.737815e+06</td>\n",
       "    </tr>\n",
       "    <tr>\n",
       "      <th>2048.0</th>\n",
       "      <td>3.512910e+06</td>\n",
       "    </tr>\n",
       "    <tr>\n",
       "      <th>2049.0</th>\n",
       "      <td>1.493075e+06</td>\n",
       "    </tr>\n",
       "    <tr>\n",
       "      <th>2050.0</th>\n",
       "      <td>0.000000e+00</td>\n",
       "    </tr>\n",
       "  </tbody>\n",
       "</table>\n",
       "</div>"
      ],
      "text/plain": [
       "        compliant_emissions\n",
       "year                       \n",
       "2027.0         3.406050e+08\n",
       "2028.0         3.164388e+08\n",
       "2029.0         2.984933e+08\n",
       "2030.0         2.653944e+08\n",
       "2031.0         2.405039e+08\n",
       "2032.0         2.194513e+08\n",
       "2033.0         2.009708e+08\n",
       "2034.0         1.851488e+08\n",
       "2035.0         1.702612e+08\n",
       "2036.0         1.448638e+08\n",
       "2037.0         1.309632e+08\n",
       "2038.0         1.243389e+08\n",
       "2039.0         1.190128e+08\n",
       "2040.0         1.115653e+08\n",
       "2041.0         6.536080e+07\n",
       "2042.0         4.329297e+07\n",
       "2043.0         3.239839e+07\n",
       "2044.0         2.400834e+07\n",
       "2045.0         1.851393e+07\n",
       "2046.0         1.322147e+07\n",
       "2047.0         6.737815e+06\n",
       "2048.0         3.512910e+06\n",
       "2049.0         1.493075e+06\n",
       "2050.0         0.000000e+00"
      ]
     },
     "execution_count": 11,
     "metadata": {},
     "output_type": "execute_result"
    }
   ],
   "source": [
    "orig_jan_model.emissions_by_year"
   ]
  },
  {
   "cell_type": "code",
   "execution_count": 13,
   "id": "f1a7c780-9f3d-496b-88ac-e192508be7a7",
   "metadata": {},
   "outputs": [
    {
     "data": {
      "text/html": [
       "<div>\n",
       "<style scoped>\n",
       "    .dataframe tbody tr th:only-of-type {\n",
       "        vertical-align: middle;\n",
       "    }\n",
       "\n",
       "    .dataframe tbody tr th {\n",
       "        vertical-align: top;\n",
       "    }\n",
       "\n",
       "    .dataframe thead th {\n",
       "        text-align: right;\n",
       "    }\n",
       "</style>\n",
       "<table border=\"1\" class=\"dataframe\">\n",
       "  <thead>\n",
       "    <tr style=\"text-align: right;\">\n",
       "      <th></th>\n",
       "      <th>OSEBuildingID</th>\n",
       "      <th>BuildingName</th>\n",
       "      <th>Total GFA for Policy</th>\n",
       "      <th>sq_ft_classification</th>\n",
       "      <th>LargestPropertyUseType OSE</th>\n",
       "      <th>SecondLargestPropertyUseType OSE</th>\n",
       "      <th>ThirdLargestPropertyUseType OSE</th>\n",
       "      <th>year</th>\n",
       "      <th>expected_baseline</th>\n",
       "      <th>expected_baseline_ghgi</th>\n",
       "      <th>city_ghgi_target</th>\n",
       "      <th>compliant_ghgi</th>\n",
       "      <th>compliant_emissions</th>\n",
       "      <th>compliance_status</th>\n",
       "      <th>compliance_fees</th>\n",
       "    </tr>\n",
       "  </thead>\n",
       "  <tbody>\n",
       "  </tbody>\n",
       "</table>\n",
       "</div>"
      ],
      "text/plain": [
       "Empty DataFrame\n",
       "Columns: [OSEBuildingID, BuildingName, Total GFA for Policy, sq_ft_classification, LargestPropertyUseType OSE, SecondLargestPropertyUseType OSE, ThirdLargestPropertyUseType OSE, year, expected_baseline, expected_baseline_ghgi, city_ghgi_target, compliant_ghgi, compliant_emissions, compliance_status, compliance_fees]\n",
       "Index: []"
      ]
     },
     "execution_count": 13,
     "metadata": {},
     "output_type": "execute_result"
    }
   ],
   "source": [
    "orig_jan_model.scenario_results[orig_jan_model.scenario_results['LargestPropertyUseType OSE'] == np.nan ]"
   ]
  },
  {
   "cell_type": "markdown",
   "id": "276af4d5-7217-4c75-ae7b-ab3fb978962a",
   "metadata": {},
   "source": [
    "### June proposal"
   ]
  },
  {
   "cell_type": "code",
   "execution_count": 14,
   "id": "b843a2eb-2de1-445a-bd21-11e0fd040ead",
   "metadata": {},
   "outputs": [],
   "source": [
    "orig_june_model = BaselineBEPSModel(EMISSIONS_PATH, JUNE_TARGETS_PATH, ORIG_BUILDING_DATA_PATH, JUNE_FINE_YEARS, FINE_PER_SQ_FT)"
   ]
  },
  {
   "cell_type": "code",
   "execution_count": 15,
   "id": "19481f83-27b7-4b57-b564-76c4a5aed7bd",
   "metadata": {},
   "outputs": [
    {
     "name": "stdout",
     "output_type": "stream",
     "text": [
      "Model calculations complete. Access the model dataframe as model_name.scenario_results\n"
     ]
    }
   ],
   "source": [
    "orig_june_model.calculate_baseline_model(2027, 2050)"
   ]
  },
  {
   "cell_type": "code",
   "execution_count": 16,
   "id": "dc9c5dc6-ac46-4067-ae06-4fa485d670ef",
   "metadata": {},
   "outputs": [
    {
     "data": {
      "text/plain": [
       "4896559099.697521"
      ]
     },
     "execution_count": 16,
     "metadata": {},
     "output_type": "execute_result"
    }
   ],
   "source": [
    "orig_june_model.scenario_results['compliant_emissions'].sum()"
   ]
  },
  {
   "cell_type": "code",
   "execution_count": 17,
   "id": "64257c28-e742-41a0-8f27-159c2e55297f",
   "metadata": {},
   "outputs": [
    {
     "data": {
      "text/plain": [
       "0.65034777451687"
      ]
     },
     "execution_count": 17,
     "metadata": {},
     "output_type": "execute_result"
    }
   ],
   "source": [
    "orig_june_model.get_percent_emissions_reduction_by_given_year(2040)"
   ]
  },
  {
   "cell_type": "code",
   "execution_count": 18,
   "id": "80ea8c7f-5338-47c2-a651-acf48bc65954",
   "metadata": {},
   "outputs": [
    {
     "name": "stdout",
     "output_type": "stream",
     "text": [
      "Emissions by year calculations complete. Access the annual emissions dataframe as model_name.emissions_by_year\n"
     ]
    }
   ],
   "source": [
    "orig_june_model.get_total_emissions_by_year()"
   ]
  },
  {
   "cell_type": "code",
   "execution_count": 19,
   "id": "fbbc9023-57cf-4038-bcd3-531bfeaded37",
   "metadata": {},
   "outputs": [
    {
     "data": {
      "text/html": [
       "<div>\n",
       "<style scoped>\n",
       "    .dataframe tbody tr th:only-of-type {\n",
       "        vertical-align: middle;\n",
       "    }\n",
       "\n",
       "    .dataframe tbody tr th {\n",
       "        vertical-align: top;\n",
       "    }\n",
       "\n",
       "    .dataframe thead th {\n",
       "        text-align: right;\n",
       "    }\n",
       "</style>\n",
       "<table border=\"1\" class=\"dataframe\">\n",
       "  <thead>\n",
       "    <tr style=\"text-align: right;\">\n",
       "      <th></th>\n",
       "      <th>compliant_emissions</th>\n",
       "    </tr>\n",
       "    <tr>\n",
       "      <th>year</th>\n",
       "      <th></th>\n",
       "    </tr>\n",
       "  </thead>\n",
       "  <tbody>\n",
       "    <tr>\n",
       "      <th>2027.0</th>\n",
       "      <td>4.387396e+08</td>\n",
       "    </tr>\n",
       "    <tr>\n",
       "      <th>2028.0</th>\n",
       "      <td>4.387396e+08</td>\n",
       "    </tr>\n",
       "    <tr>\n",
       "      <th>2029.0</th>\n",
       "      <td>4.387396e+08</td>\n",
       "    </tr>\n",
       "    <tr>\n",
       "      <th>2030.0</th>\n",
       "      <td>4.051007e+08</td>\n",
       "    </tr>\n",
       "    <tr>\n",
       "      <th>2031.0</th>\n",
       "      <td>3.478464e+08</td>\n",
       "    </tr>\n",
       "    <tr>\n",
       "      <th>2032.0</th>\n",
       "      <td>3.148110e+08</td>\n",
       "    </tr>\n",
       "    <tr>\n",
       "      <th>2033.0</th>\n",
       "      <td>2.923256e+08</td>\n",
       "    </tr>\n",
       "    <tr>\n",
       "      <th>2034.0</th>\n",
       "      <td>2.757478e+08</td>\n",
       "    </tr>\n",
       "    <tr>\n",
       "      <th>2035.0</th>\n",
       "      <td>2.465763e+08</td>\n",
       "    </tr>\n",
       "    <tr>\n",
       "      <th>2036.0</th>\n",
       "      <td>2.126504e+08</td>\n",
       "    </tr>\n",
       "    <tr>\n",
       "      <th>2037.0</th>\n",
       "      <td>1.905491e+08</td>\n",
       "    </tr>\n",
       "    <tr>\n",
       "      <th>2038.0</th>\n",
       "      <td>1.758386e+08</td>\n",
       "    </tr>\n",
       "    <tr>\n",
       "      <th>2039.0</th>\n",
       "      <td>1.652858e+08</td>\n",
       "    </tr>\n",
       "    <tr>\n",
       "      <th>2040.0</th>\n",
       "      <td>1.534156e+08</td>\n",
       "    </tr>\n",
       "    <tr>\n",
       "      <th>2041.0</th>\n",
       "      <td>9.595735e+07</td>\n",
       "    </tr>\n",
       "    <tr>\n",
       "      <th>2042.0</th>\n",
       "      <td>6.995108e+07</td>\n",
       "    </tr>\n",
       "    <tr>\n",
       "      <th>2043.0</th>\n",
       "      <td>6.534575e+07</td>\n",
       "    </tr>\n",
       "    <tr>\n",
       "      <th>2044.0</th>\n",
       "      <td>5.552164e+07</td>\n",
       "    </tr>\n",
       "    <tr>\n",
       "      <th>2045.0</th>\n",
       "      <td>4.993816e+07</td>\n",
       "    </tr>\n",
       "    <tr>\n",
       "      <th>2046.0</th>\n",
       "      <td>3.023368e+07</td>\n",
       "    </tr>\n",
       "    <tr>\n",
       "      <th>2047.0</th>\n",
       "      <td>2.783242e+07</td>\n",
       "    </tr>\n",
       "    <tr>\n",
       "      <th>2048.0</th>\n",
       "      <td>2.616556e+07</td>\n",
       "    </tr>\n",
       "    <tr>\n",
       "      <th>2049.0</th>\n",
       "      <td>2.490915e+07</td>\n",
       "    </tr>\n",
       "    <tr>\n",
       "      <th>2050.0</th>\n",
       "      <td>0.000000e+00</td>\n",
       "    </tr>\n",
       "  </tbody>\n",
       "</table>\n",
       "</div>"
      ],
      "text/plain": [
       "        compliant_emissions\n",
       "year                       \n",
       "2027.0         4.387396e+08\n",
       "2028.0         4.387396e+08\n",
       "2029.0         4.387396e+08\n",
       "2030.0         4.051007e+08\n",
       "2031.0         3.478464e+08\n",
       "2032.0         3.148110e+08\n",
       "2033.0         2.923256e+08\n",
       "2034.0         2.757478e+08\n",
       "2035.0         2.465763e+08\n",
       "2036.0         2.126504e+08\n",
       "2037.0         1.905491e+08\n",
       "2038.0         1.758386e+08\n",
       "2039.0         1.652858e+08\n",
       "2040.0         1.534156e+08\n",
       "2041.0         9.595735e+07\n",
       "2042.0         6.995108e+07\n",
       "2043.0         6.534575e+07\n",
       "2044.0         5.552164e+07\n",
       "2045.0         4.993816e+07\n",
       "2046.0         3.023368e+07\n",
       "2047.0         2.783242e+07\n",
       "2048.0         2.616556e+07\n",
       "2049.0         2.490915e+07\n",
       "2050.0         0.000000e+00"
      ]
     },
     "execution_count": 19,
     "metadata": {},
     "output_type": "execute_result"
    }
   ],
   "source": [
    "orig_june_model.emissions_by_year"
   ]
  },
  {
   "cell_type": "markdown",
   "id": "067791ed-5971-4f25-8983-82d6111743e3",
   "metadata": {},
   "source": [
    "### Difference between January and June\n",
    "\n",
    "How much less CO2 (in kgs) will be released with the original January plan vs. the original June plan?"
   ]
  },
  {
   "cell_type": "code",
   "execution_count": 20,
   "id": "e705ba84-63b9-4918-9db8-8809c934bdd2",
   "metadata": {},
   "outputs": [
    {
     "data": {
      "text/plain": [
       "0.2993264945331633"
      ]
     },
     "execution_count": 20,
     "metadata": {},
     "output_type": "execute_result"
    }
   ],
   "source": [
    "1 - (orig_jan_model.scenario_results['compliant_emissions'].sum() / orig_june_model.scenario_results['compliant_emissions'].sum())"
   ]
  },
  {
   "cell_type": "markdown",
   "id": "a55b113e-2b0e-494d-933a-36f2a33008f1",
   "metadata": {},
   "source": [
    "## Orig RMI spreadsheet with proper column names\n",
    "\n",
    "The numbers above are off. That's because the wrong column was labeled for the 'Total GFA for Policy' column. It should have been the 'Total_sqft' column. \n",
    "\n",
    "Running againt."
   ]
  },
  {
   "cell_type": "code",
   "execution_count": null,
   "id": "94f9c02f-66ff-4fcb-a8b0-f3c5562aed13",
   "metadata": {},
   "outputs": [],
   "source": [
    "orig_building = pd.read_csv(ORIG_BUILDING_DATA_PATH)\n",
    "orig_building.columns"
   ]
  },
  {
   "cell_type": "code",
   "execution_count": null,
   "id": "d0d6c6c5-5de0-413a-9b6b-f924d0cb654f",
   "metadata": {},
   "outputs": [],
   "source": [
    "orig_building.columns = ['Unnamed: 0.3', 'Unnamed: 0.2', 'Unnamed: 0.1', 'Unnamed: 0',\n",
    "       'OSEBuildingID', 'BuildingName', 'BuildingType', 'Type_of_Bulding',\n",
    "       'PropertyGFATotal', 'PropertyGFABuilding(s)', 'PropertyGFAParking',\n",
    "       'Total GFA for Policy', 'LargestPropertyUseType Percent GFA',\n",
    "       'SecondLargestPropertyUseType Percent GFA',\n",
    "       'ThirdLargestPropertyUseType Percent GFA', 'LargestPropertyUseType',\n",
    "       'LargestPropertyUseType OSE', 'LargestPropertyUseTypeGFA',\n",
    "       'LargestPropertyUseTypeGFA Analysis', 'SecondLargestPropertyUseType',\n",
    "       'SecondLargestPropertyUseType OSE', 'SecondLargestPropertyUseTypeGFA',\n",
    "       'SecondLargestPropertyUseTypeGFA Analysis',\n",
    "       'ThirdLargestPropertyUseType', 'ThirdLargestPropertyUseType OSE',\n",
    "       'ThirdLargestPropertyUseTypeGFA',\n",
    "       'ThirdLargestPropertyUseTypeGFA Analysis', 'Electricity(kBtu)',\n",
    "       'SteamUse(kBtu)', 'NaturalGas(kBtu)', 'TotalGHGEmissions',\n",
    "       'GHGEmissionsIntensity', 'Total_GFA',\n",
    "       'sq_ft_classification']"
   ]
  },
  {
   "cell_type": "code",
   "execution_count": null,
   "id": "61b176d4-d2e8-45e5-82f7-445b047c64ba",
   "metadata": {},
   "outputs": [],
   "source": [
    "orig_building.to_csv(ORIG_BUILDING_DATA_PATH)"
   ]
  },
  {
   "cell_type": "code",
   "execution_count": null,
   "id": "45abca96-904b-4b78-8c68-1b6d6ed44eb0",
   "metadata": {},
   "outputs": [],
   "source": [
    "orig_jan_model_updated_col_name = BaselineBEPSModel(EMISSIONS_PATH, JAN_TARGETS_PATH, ORIG_BUILDING_DATA_PATH, JAN_FINE_YEARS, FINE_PER_SQ_FT)"
   ]
  },
  {
   "cell_type": "code",
   "execution_count": null,
   "id": "25507ee4-0abf-4068-8f24-d034267162da",
   "metadata": {},
   "outputs": [],
   "source": [
    "orig_jan_model_updated_col_name.calculate_baseline_model(2027, 2050)"
   ]
  },
  {
   "cell_type": "code",
   "execution_count": null,
   "id": "8a0e6816-8824-4d17-9f44-f08728ff32a3",
   "metadata": {},
   "outputs": [],
   "source": [
    "# Total emissions (kg) for Jan\n",
    "\n",
    "orig_jan_model_updated_col_name.scenario_results['compliant_emissions'].sum()"
   ]
  },
  {
   "cell_type": "code",
   "execution_count": null,
   "id": "0069b3b4-a278-4dc6-962e-cad6553d7301",
   "metadata": {},
   "outputs": [],
   "source": [
    "orig_jan_model_updated_col_name.get_percent_emissions_reduction_by_given_year(2040)"
   ]
  },
  {
   "cell_type": "code",
   "execution_count": null,
   "id": "08d7feb6-cbfe-4142-aaa2-b7313abfa2aa",
   "metadata": {},
   "outputs": [],
   "source": [
    "orig_jan_model_updated_col_name.get_total_emissions_by_year()"
   ]
  },
  {
   "cell_type": "code",
   "execution_count": null,
   "id": "a69aa28d-cb2d-40ad-8b06-e9ebca191475",
   "metadata": {},
   "outputs": [],
   "source": [
    "orig_jan_model_updated_col_name.emissions_by_year"
   ]
  },
  {
   "cell_type": "code",
   "execution_count": null,
   "id": "9dd7fe8f-cd53-4b58-a46e-e7d58438bd3e",
   "metadata": {},
   "outputs": [],
   "source": [
    "orig_june_model_updated_col_name = BaselineBEPSModel(EMISSIONS_PATH, JUNE_TARGETS_PATH, ORIG_BUILDING_DATA_PATH, JUNE_FINE_YEARS, FINE_PER_SQ_FT)"
   ]
  },
  {
   "cell_type": "code",
   "execution_count": null,
   "id": "1de5c5f8-a31f-466a-806b-827444af5079",
   "metadata": {},
   "outputs": [],
   "source": [
    "orig_june_model_updated_col_name.calculate_baseline_model(2027, 2050)"
   ]
  },
  {
   "cell_type": "code",
   "execution_count": null,
   "id": "55b8e0ef-e482-4ea2-9768-b77eec3c9bf4",
   "metadata": {},
   "outputs": [],
   "source": [
    "# Total emissions (kg) for June\n",
    "\n",
    "orig_june_model_updated_col_name.scenario_results['compliant_emissions'].sum()"
   ]
  },
  {
   "cell_type": "code",
   "execution_count": null,
   "id": "51418864-1c7e-4d82-8ebd-2df7592ca95f",
   "metadata": {},
   "outputs": [],
   "source": [
    "orig_june_model_updated_col_name.get_percent_emissions_reduction_by_given_year(2040)"
   ]
  },
  {
   "cell_type": "code",
   "execution_count": null,
   "id": "e492ecea-2bd5-4c05-9e16-53b6cedc908f",
   "metadata": {},
   "outputs": [],
   "source": [
    "orig_june_model_updated_col_name.get_total_emissions_by_year()\n",
    "orig_june_model_updated_col_name.emissions_by_year"
   ]
  },
  {
   "cell_type": "code",
   "execution_count": null,
   "id": "bf02a4b5-865f-4955-b7a2-6840f4bf0918",
   "metadata": {},
   "outputs": [],
   "source": [
    "# diff btwn jan and june\n",
    "1 - (orig_jan_model_updated_col_name.scenario_results['compliant_emissions'].sum() / orig_june_model_updated_col_name.scenario_results['compliant_emissions'].sum())"
   ]
  }
 ],
 "metadata": {
  "kernelspec": {
   "display_name": "Python 3 (ipykernel)",
   "language": "python",
   "name": "python3"
  },
  "language_info": {
   "codemirror_mode": {
    "name": "ipython",
    "version": 3
   },
   "file_extension": ".py",
   "mimetype": "text/x-python",
   "name": "python",
   "nbconvert_exporter": "python",
   "pygments_lexer": "ipython3",
   "version": "3.11.3"
  }
 },
 "nbformat": 4,
 "nbformat_minor": 5
}
