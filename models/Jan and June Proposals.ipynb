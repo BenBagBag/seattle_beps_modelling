{
 "cells": [
  {
   "cell_type": "markdown",
   "id": "871af8a3",
   "metadata": {},
   "source": [
    "# Benchmark calculcations for January and June proposals\n",
    "\n",
    "**A Note About Source Data**\n",
    "\n",
    "We ran our original calculations using RMI's building data. The first set of models run in this notebook used the publicly available building data from 2019, with calculations to reproduce the new fields created in the RMI dataset. This gave us massively skewed results. We're not sure if this is because the datasets were really off from one another or there's a calculation error. This will need to be investigated.\n",
    "\n",
    "At the bottom of the notebook are these same proposals remodelled with RMI's building data, which shows us results consistent with what we've seen in the past. \n",
    "\n",
    "\n",
    "**Assumptions**:\n",
    "\n",
    "- Buildings will produce the max amount of emissions, **unless** their predicted emissions is lower than the target GHGI, in which case they will produce that amount.\n",
    "- Predicted emissions are calculated based off of the emissions predictions found in [the emissions data input file](../data/input_data/energy_emissions.csv). \n",
    "\n",
    "\n",
    "For each building, in each year (2027-2050), we need to calculate (column references given refer to the 2027 calculations in [the original RMI spreadsheet](https://docs.google.com/spreadsheets/d/175uipAHHQHGelq7i1n9sKWQXNQi-B1IJiF6-XQRVnE8/edit#gid=1811888818):\n",
    "\n",
    "- `city_ghgi_target`: The GHGI target, as calculated by the sum of: use type * city's target GHGI for that use type * percent of GFA for that use type, for each of the three given use types (col A). If there is no target for any of the use types, this is NaN. If a building is multi-use, and some of the building's uses have a compliance threshold, but others don't, use the expected GHGI (greenhouse gas emissions intensity) if nothing is changed as the GHGI for the portion of the building that is not subject to BEPS yet.\n",
    "    - Example: A building is 50% retail and 50% multifamily housing. The target for retail in 2033 is 1.03 and there is no target for multifamily housing. This building would have a GHGI of 4.0 in 2033 if no changes were made to it. We estimate the GHGHI target as `(0.5 * 1.03) + (0.5 * 4.0) = 2.515`. \n",
    "    - NB: These numbers will be different than the RMI calculations. The RMI model mistakenly used a GHGI of zero for parts of buildings that are not yet subject to BEPS. So in the example above, RMI's model would list the GHGI target as`0.5 * 1.03 + 0.5 * 0 = 0.515`, which leaves out half the building. Then the target GHGI would actually go **up** when the multifamily part of the building became subject to BEPS! This model corrects that error.\n",
    "- `expected_baseline`: The expected emissions if nothing is changed about the building, as calculated by the sum of: `total use energy for type * energy emissions factor for energy type` for the three energy types (col C)\n",
    "- `expected_baseline_ghgi`: The expected GHGI if nothing is changed about the building (col B), as calculated by the `expected emissions / total GFA`\n",
    "- `compliant_ghgi`: The expected GHGI if the building is compliant with BEPS, as defined by (col H):\n",
    "    - if the BEPS GHGI target is lower than the expected GHGI, use the BEPS GHGI target\n",
    "    - if the expected GHGI is lower than the BEPS GHGI target, use the expected GHGI\n",
    "- `compliant_emissions`: The expected emissions if the building is compliant with BEPS, as defined by the `compliant GHGI * total GFA` (col J)\n",
    "- `compliance_status`: Whether or not the building is compliant (col K):\n",
    "    - yes: the baseline GHGI is lower than the expected compliant GHGI for this year\n",
    "    - no: the baseline GHGI is higher than the expected compliant GHGI for this year\n",
    "    - no requirement yet: the building doesn't have a compliance requirement for this year\n",
    "- `compliance_fees`: Noncompliance fees. For years where buildings will be taxed for being noncompliant, this is `$2.50 * total GFA`    "
   ]
  },
  {
   "cell_type": "code",
   "execution_count": 51,
   "id": "d8090f3b",
   "metadata": {},
   "outputs": [],
   "source": [
    "import pandas as pd\n",
    "import numpy as np\n",
    "\n",
    "import seaborn as sns\n",
    "import matplotlib.pyplot as plt"
   ]
  },
  {
   "cell_type": "code",
   "execution_count": 2,
   "id": "01d49814-15a0-4d04-82aa-6fb464598fe9",
   "metadata": {},
   "outputs": [],
   "source": [
    "from baseline_model import BaselineBEPSModel"
   ]
  },
  {
   "cell_type": "code",
   "execution_count": 3,
   "id": "86d0008b",
   "metadata": {},
   "outputs": [],
   "source": [
    "pd.options.mode.chained_assignment = None"
   ]
  },
  {
   "cell_type": "code",
   "execution_count": 25,
   "id": "f76ebfd1",
   "metadata": {},
   "outputs": [],
   "source": [
    "JAN_TARGETS_PATH = '../data/input_data/jan_proposal_emissions_targets.csv'\n",
    "JUNE_TARGETS_PATH = '../data/input_data/june_proposal_emissions_targets.csv'\n",
    "EMISSIONS_PATH = '../data/input_data/energy_emissions.csv'\n",
    "BUILDING_DATA_PATH = '../data/input_data/Reproducing RMI building data cleaning/cleaned_building_data_with_policy_gfa_8_24.csv'\n",
    "\n",
    "JAN_FINE_YEARS = [2027, 2030, 2035, 2040, 2045, 2050]\n",
    "JUNE_FINE_YEARS = [2030, 2035, 2040, 2045, 2050]\n",
    "FINE_PER_SQ_FT = 2.5"
   ]
  },
  {
   "cell_type": "markdown",
   "id": "4af189da",
   "metadata": {},
   "source": [
    "## January Proposal"
   ]
  },
  {
   "cell_type": "code",
   "execution_count": 27,
   "id": "4495316f",
   "metadata": {},
   "outputs": [],
   "source": [
    "jan_model = BaselineBEPSModel(EMISSIONS_PATH, JAN_TARGETS_PATH, BUILDING_DATA_PATH, JAN_FINE_YEARS, FINE_PER_SQ_FT)"
   ]
  },
  {
   "cell_type": "code",
   "execution_count": 28,
   "id": "c74ac6e6-459f-4abc-91d3-31062a5850b0",
   "metadata": {},
   "outputs": [
    {
     "name": "stdout",
     "output_type": "stream",
     "text": [
      "Model calculations complete. Access the model dataframe as model_name.scenario_results\n"
     ]
    }
   ],
   "source": [
    "jan_model.calculate_baseline_model(2027,2050)"
   ]
  },
  {
   "cell_type": "code",
   "execution_count": 29,
   "id": "0d42023c-eabf-428f-baa6-c77af0eb1397",
   "metadata": {},
   "outputs": [
    {
     "data": {
      "text/html": [
       "<div>\n",
       "<style scoped>\n",
       "    .dataframe tbody tr th:only-of-type {\n",
       "        vertical-align: middle;\n",
       "    }\n",
       "\n",
       "    .dataframe tbody tr th {\n",
       "        vertical-align: top;\n",
       "    }\n",
       "\n",
       "    .dataframe thead th {\n",
       "        text-align: right;\n",
       "    }\n",
       "</style>\n",
       "<table border=\"1\" class=\"dataframe\">\n",
       "  <thead>\n",
       "    <tr style=\"text-align: right;\">\n",
       "      <th></th>\n",
       "      <th>OSEBuildingID</th>\n",
       "      <th>BuildingName</th>\n",
       "      <th>Total GFA for Policy</th>\n",
       "      <th>sq_ft_classification</th>\n",
       "      <th>LargestPropertyUseType OSE</th>\n",
       "      <th>SecondLargestPropertyUseType OSE</th>\n",
       "      <th>ThirdLargestPropertyUseType OSE</th>\n",
       "      <th>year</th>\n",
       "      <th>expected_baseline</th>\n",
       "      <th>expected_baseline_ghgi</th>\n",
       "      <th>city_ghgi_target</th>\n",
       "      <th>compliant_ghgi</th>\n",
       "      <th>compliant_emissions</th>\n",
       "      <th>compliance_status</th>\n",
       "      <th>compliance_fees</th>\n",
       "    </tr>\n",
       "  </thead>\n",
       "  <tbody>\n",
       "    <tr>\n",
       "      <th>0</th>\n",
       "      <td>1</td>\n",
       "      <td>MAYFLOWER PARK HOTEL</td>\n",
       "      <td>88434.0</td>\n",
       "      <td>C</td>\n",
       "      <td>Hotel</td>\n",
       "      <td>NaN</td>\n",
       "      <td>NaN</td>\n",
       "      <td>2027.0</td>\n",
       "      <td>2.705014e+05</td>\n",
       "      <td>3.058794</td>\n",
       "      <td>3.058794</td>\n",
       "      <td>3.058794</td>\n",
       "      <td>2.705014e+05</td>\n",
       "      <td>No</td>\n",
       "      <td>221085.0</td>\n",
       "    </tr>\n",
       "    <tr>\n",
       "      <th>1</th>\n",
       "      <td>2</td>\n",
       "      <td>PARAMOUNT HOTEL</td>\n",
       "      <td>103566.0</td>\n",
       "      <td>B</td>\n",
       "      <td>Hotel</td>\n",
       "      <td>NaN</td>\n",
       "      <td>Restaurant</td>\n",
       "      <td>2027.0</td>\n",
       "      <td>2.843616e+05</td>\n",
       "      <td>2.745704</td>\n",
       "      <td>2.059096</td>\n",
       "      <td>2.059096</td>\n",
       "      <td>2.132523e+05</td>\n",
       "      <td>No</td>\n",
       "      <td>258915.0</td>\n",
       "    </tr>\n",
       "    <tr>\n",
       "      <th>2</th>\n",
       "      <td>3</td>\n",
       "      <td>WESTIN HOTEL (Parent Building)</td>\n",
       "      <td>895128.0</td>\n",
       "      <td>A</td>\n",
       "      <td>Hotel</td>\n",
       "      <td>NaN</td>\n",
       "      <td>Recreation</td>\n",
       "      <td>2027.0</td>\n",
       "      <td>2.193901e+06</td>\n",
       "      <td>2.450936</td>\n",
       "      <td>1.876172</td>\n",
       "      <td>1.876172</td>\n",
       "      <td>1.679414e+06</td>\n",
       "      <td>No</td>\n",
       "      <td>2237820.0</td>\n",
       "    </tr>\n",
       "    <tr>\n",
       "      <th>3</th>\n",
       "      <td>5</td>\n",
       "      <td>HOTEL MAX</td>\n",
       "      <td>61320.0</td>\n",
       "      <td>C</td>\n",
       "      <td>Hotel</td>\n",
       "      <td>NaN</td>\n",
       "      <td>NaN</td>\n",
       "      <td>2027.0</td>\n",
       "      <td>2.934861e+05</td>\n",
       "      <td>4.786141</td>\n",
       "      <td>4.786141</td>\n",
       "      <td>4.786141</td>\n",
       "      <td>2.934861e+05</td>\n",
       "      <td>No</td>\n",
       "      <td>153300.0</td>\n",
       "    </tr>\n",
       "    <tr>\n",
       "      <th>4</th>\n",
       "      <td>8</td>\n",
       "      <td>WARWICK SEATTLE HOTEL</td>\n",
       "      <td>191454.0</td>\n",
       "      <td>B</td>\n",
       "      <td>Hotel</td>\n",
       "      <td>NaN</td>\n",
       "      <td>Recreation</td>\n",
       "      <td>2027.0</td>\n",
       "      <td>5.827520e+05</td>\n",
       "      <td>3.043822</td>\n",
       "      <td>1.431403</td>\n",
       "      <td>1.431403</td>\n",
       "      <td>2.740479e+05</td>\n",
       "      <td>No</td>\n",
       "      <td>478635.0</td>\n",
       "    </tr>\n",
       "  </tbody>\n",
       "</table>\n",
       "</div>"
      ],
      "text/plain": [
       "  OSEBuildingID                    BuildingName  Total GFA for Policy  \\\n",
       "0             1            MAYFLOWER PARK HOTEL               88434.0   \n",
       "1             2                 PARAMOUNT HOTEL              103566.0   \n",
       "2             3  WESTIN HOTEL (Parent Building)              895128.0   \n",
       "3             5                       HOTEL MAX               61320.0   \n",
       "4             8           WARWICK SEATTLE HOTEL              191454.0   \n",
       "\n",
       "  sq_ft_classification LargestPropertyUseType OSE  \\\n",
       "0                    C                      Hotel   \n",
       "1                    B                      Hotel   \n",
       "2                    A                      Hotel   \n",
       "3                    C                      Hotel   \n",
       "4                    B                      Hotel   \n",
       "\n",
       "  SecondLargestPropertyUseType OSE ThirdLargestPropertyUseType OSE    year  \\\n",
       "0                              NaN                             NaN  2027.0   \n",
       "1                              NaN                      Restaurant  2027.0   \n",
       "2                              NaN                      Recreation  2027.0   \n",
       "3                              NaN                             NaN  2027.0   \n",
       "4                              NaN                      Recreation  2027.0   \n",
       "\n",
       "   expected_baseline  expected_baseline_ghgi  city_ghgi_target  \\\n",
       "0       2.705014e+05                3.058794          3.058794   \n",
       "1       2.843616e+05                2.745704          2.059096   \n",
       "2       2.193901e+06                2.450936          1.876172   \n",
       "3       2.934861e+05                4.786141          4.786141   \n",
       "4       5.827520e+05                3.043822          1.431403   \n",
       "\n",
       "   compliant_ghgi  compliant_emissions compliance_status  compliance_fees  \n",
       "0        3.058794         2.705014e+05                No         221085.0  \n",
       "1        2.059096         2.132523e+05                No         258915.0  \n",
       "2        1.876172         1.679414e+06                No        2237820.0  \n",
       "3        4.786141         2.934861e+05                No         153300.0  \n",
       "4        1.431403         2.740479e+05                No         478635.0  "
      ]
     },
     "execution_count": 29,
     "metadata": {},
     "output_type": "execute_result"
    }
   ],
   "source": [
    "jan_model.scenario_results.head()"
   ]
  },
  {
   "cell_type": "markdown",
   "id": "182a2028-4bef-4c4c-9c80-b464a09a1e74",
   "metadata": {},
   "source": [
    "## Summary stats for January Proposal"
   ]
  },
  {
   "cell_type": "code",
   "execution_count": 30,
   "id": "a2dfd348",
   "metadata": {},
   "outputs": [
    {
     "name": "stdout",
     "output_type": "stream",
     "text": [
      "Emissions by year calculations complete. Access the annual emissions dataframe as model_name.emissions_by_year\n"
     ]
    }
   ],
   "source": [
    "jan_model.get_total_emissions_by_year()"
   ]
  },
  {
   "cell_type": "code",
   "execution_count": 34,
   "id": "ff76207a",
   "metadata": {},
   "outputs": [
    {
     "data": {
      "text/html": [
       "<div>\n",
       "<style scoped>\n",
       "    .dataframe tbody tr th:only-of-type {\n",
       "        vertical-align: middle;\n",
       "    }\n",
       "\n",
       "    .dataframe tbody tr th {\n",
       "        vertical-align: top;\n",
       "    }\n",
       "\n",
       "    .dataframe thead th {\n",
       "        text-align: right;\n",
       "    }\n",
       "</style>\n",
       "<table border=\"1\" class=\"dataframe\">\n",
       "  <thead>\n",
       "    <tr style=\"text-align: right;\">\n",
       "      <th></th>\n",
       "      <th>compliant_emissions</th>\n",
       "    </tr>\n",
       "    <tr>\n",
       "      <th>year</th>\n",
       "      <th></th>\n",
       "    </tr>\n",
       "  </thead>\n",
       "  <tbody>\n",
       "    <tr>\n",
       "      <th>2027.0</th>\n",
       "      <td>3.283464e+08</td>\n",
       "    </tr>\n",
       "    <tr>\n",
       "      <th>2028.0</th>\n",
       "      <td>3.173584e+08</td>\n",
       "    </tr>\n",
       "    <tr>\n",
       "      <th>2029.0</th>\n",
       "      <td>3.015364e+08</td>\n",
       "    </tr>\n",
       "    <tr>\n",
       "      <th>2030.0</th>\n",
       "      <td>2.731560e+08</td>\n",
       "    </tr>\n",
       "    <tr>\n",
       "      <th>2031.0</th>\n",
       "      <td>2.421511e+08</td>\n",
       "    </tr>\n",
       "    <tr>\n",
       "      <th>2032.0</th>\n",
       "      <td>2.236918e+08</td>\n",
       "    </tr>\n",
       "    <tr>\n",
       "      <th>2033.0</th>\n",
       "      <td>2.155818e+08</td>\n",
       "    </tr>\n",
       "    <tr>\n",
       "      <th>2034.0</th>\n",
       "      <td>2.060524e+08</td>\n",
       "    </tr>\n",
       "    <tr>\n",
       "      <th>2035.0</th>\n",
       "      <td>1.935561e+08</td>\n",
       "    </tr>\n",
       "    <tr>\n",
       "      <th>2036.0</th>\n",
       "      <td>1.581554e+08</td>\n",
       "    </tr>\n",
       "    <tr>\n",
       "      <th>2037.0</th>\n",
       "      <td>1.441781e+08</td>\n",
       "    </tr>\n",
       "    <tr>\n",
       "      <th>2038.0</th>\n",
       "      <td>1.381583e+08</td>\n",
       "    </tr>\n",
       "    <tr>\n",
       "      <th>2039.0</th>\n",
       "      <td>1.328783e+08</td>\n",
       "    </tr>\n",
       "    <tr>\n",
       "      <th>2040.0</th>\n",
       "      <td>1.249076e+08</td>\n",
       "    </tr>\n",
       "    <tr>\n",
       "      <th>2041.0</th>\n",
       "      <td>6.570907e+07</td>\n",
       "    </tr>\n",
       "    <tr>\n",
       "      <th>2042.0</th>\n",
       "      <td>4.341998e+07</td>\n",
       "    </tr>\n",
       "    <tr>\n",
       "      <th>2043.0</th>\n",
       "      <td>3.352822e+07</td>\n",
       "    </tr>\n",
       "    <tr>\n",
       "      <th>2044.0</th>\n",
       "      <td>2.547827e+07</td>\n",
       "    </tr>\n",
       "    <tr>\n",
       "      <th>2045.0</th>\n",
       "      <td>2.024079e+07</td>\n",
       "    </tr>\n",
       "    <tr>\n",
       "      <th>2046.0</th>\n",
       "      <td>1.252702e+07</td>\n",
       "    </tr>\n",
       "    <tr>\n",
       "      <th>2047.0</th>\n",
       "      <td>6.069427e+06</td>\n",
       "    </tr>\n",
       "    <tr>\n",
       "      <th>2048.0</th>\n",
       "      <td>3.290352e+06</td>\n",
       "    </tr>\n",
       "    <tr>\n",
       "      <th>2049.0</th>\n",
       "      <td>1.313857e+06</td>\n",
       "    </tr>\n",
       "    <tr>\n",
       "      <th>2050.0</th>\n",
       "      <td>0.000000e+00</td>\n",
       "    </tr>\n",
       "  </tbody>\n",
       "</table>\n",
       "</div>"
      ],
      "text/plain": [
       "        compliant_emissions\n",
       "year                       \n",
       "2027.0         3.283464e+08\n",
       "2028.0         3.173584e+08\n",
       "2029.0         3.015364e+08\n",
       "2030.0         2.731560e+08\n",
       "2031.0         2.421511e+08\n",
       "2032.0         2.236918e+08\n",
       "2033.0         2.155818e+08\n",
       "2034.0         2.060524e+08\n",
       "2035.0         1.935561e+08\n",
       "2036.0         1.581554e+08\n",
       "2037.0         1.441781e+08\n",
       "2038.0         1.381583e+08\n",
       "2039.0         1.328783e+08\n",
       "2040.0         1.249076e+08\n",
       "2041.0         6.570907e+07\n",
       "2042.0         4.341998e+07\n",
       "2043.0         3.352822e+07\n",
       "2044.0         2.547827e+07\n",
       "2045.0         2.024079e+07\n",
       "2046.0         1.252702e+07\n",
       "2047.0         6.069427e+06\n",
       "2048.0         3.290352e+06\n",
       "2049.0         1.313857e+06\n",
       "2050.0         0.000000e+00"
      ]
     },
     "execution_count": 34,
     "metadata": {},
     "output_type": "execute_result"
    }
   ],
   "source": [
    "jan_model.emissions_by_year"
   ]
  },
  {
   "cell_type": "code",
   "execution_count": 32,
   "id": "dc891fc4",
   "metadata": {},
   "outputs": [
    {
     "data": {
      "text/plain": [
       "0.8667660030711456"
      ]
     },
     "execution_count": 32,
     "metadata": {},
     "output_type": "execute_result"
    }
   ],
   "source": [
    "# Calculate percent of CO2 reduction by 2040\n",
    "\n",
    "jan_model.get_percent_emissions_reduction_by_given_year(2040)"
   ]
  },
  {
   "cell_type": "code",
   "execution_count": 35,
   "id": "2bc25007-4b22-4633-9632-df3dd77f6d82",
   "metadata": {},
   "outputs": [
    {
     "data": {
      "text/plain": [
       "compliant_emissions    3.211285e+09\n",
       "dtype: float64"
      ]
     },
     "execution_count": 35,
     "metadata": {},
     "output_type": "execute_result"
    }
   ],
   "source": [
    "jan_model.emissions_by_year.sum()"
   ]
  },
  {
   "cell_type": "markdown",
   "id": "4cc4b502-3c51-4ab0-9969-14f2940b9d40",
   "metadata": {},
   "source": [
    "## June proposal"
   ]
  },
  {
   "cell_type": "code",
   "execution_count": 36,
   "id": "1a7ecfd9-d2c4-49d8-82e4-acf51f88f476",
   "metadata": {},
   "outputs": [],
   "source": [
    "june_model = BaselineBEPSModel(EMISSIONS_PATH, JUNE_TARGETS_PATH, BUILDING_DATA_PATH, JUNE_FINE_YEARS, FINE_PER_SQ_FT)"
   ]
  },
  {
   "cell_type": "code",
   "execution_count": 37,
   "id": "e8dd4cc2-f288-43f4-a553-04560db44fff",
   "metadata": {},
   "outputs": [
    {
     "name": "stdout",
     "output_type": "stream",
     "text": [
      "Model calculations complete. Access the model dataframe as model_name.scenario_results\n"
     ]
    }
   ],
   "source": [
    "june_model.calculate_baseline_model(2027,2050)"
   ]
  },
  {
   "cell_type": "code",
   "execution_count": 38,
   "id": "8aa19657-3cbe-4a87-a6c2-259c8a5a187a",
   "metadata": {},
   "outputs": [
    {
     "data": {
      "text/html": [
       "<div>\n",
       "<style scoped>\n",
       "    .dataframe tbody tr th:only-of-type {\n",
       "        vertical-align: middle;\n",
       "    }\n",
       "\n",
       "    .dataframe tbody tr th {\n",
       "        vertical-align: top;\n",
       "    }\n",
       "\n",
       "    .dataframe thead th {\n",
       "        text-align: right;\n",
       "    }\n",
       "</style>\n",
       "<table border=\"1\" class=\"dataframe\">\n",
       "  <thead>\n",
       "    <tr style=\"text-align: right;\">\n",
       "      <th></th>\n",
       "      <th>OSEBuildingID</th>\n",
       "      <th>BuildingName</th>\n",
       "      <th>Total GFA for Policy</th>\n",
       "      <th>sq_ft_classification</th>\n",
       "      <th>LargestPropertyUseType OSE</th>\n",
       "      <th>SecondLargestPropertyUseType OSE</th>\n",
       "      <th>ThirdLargestPropertyUseType OSE</th>\n",
       "      <th>year</th>\n",
       "      <th>expected_baseline</th>\n",
       "      <th>expected_baseline_ghgi</th>\n",
       "      <th>city_ghgi_target</th>\n",
       "      <th>compliant_ghgi</th>\n",
       "      <th>compliant_emissions</th>\n",
       "      <th>compliance_status</th>\n",
       "      <th>compliance_fees</th>\n",
       "    </tr>\n",
       "  </thead>\n",
       "  <tbody>\n",
       "    <tr>\n",
       "      <th>0</th>\n",
       "      <td>1</td>\n",
       "      <td>MAYFLOWER PARK HOTEL</td>\n",
       "      <td>88434.0</td>\n",
       "      <td>C</td>\n",
       "      <td>Hotel</td>\n",
       "      <td>NaN</td>\n",
       "      <td>NaN</td>\n",
       "      <td>2027.0</td>\n",
       "      <td>2.705014e+05</td>\n",
       "      <td>3.058794</td>\n",
       "      <td>3.058794</td>\n",
       "      <td>3.058794</td>\n",
       "      <td>2.705014e+05</td>\n",
       "      <td>No</td>\n",
       "      <td>0.0</td>\n",
       "    </tr>\n",
       "    <tr>\n",
       "      <th>1</th>\n",
       "      <td>2</td>\n",
       "      <td>PARAMOUNT HOTEL</td>\n",
       "      <td>103566.0</td>\n",
       "      <td>B</td>\n",
       "      <td>Hotel</td>\n",
       "      <td>NaN</td>\n",
       "      <td>Restaurant</td>\n",
       "      <td>2027.0</td>\n",
       "      <td>2.843616e+05</td>\n",
       "      <td>2.745704</td>\n",
       "      <td>2.346333</td>\n",
       "      <td>2.346333</td>\n",
       "      <td>2.430003e+05</td>\n",
       "      <td>No</td>\n",
       "      <td>0.0</td>\n",
       "    </tr>\n",
       "    <tr>\n",
       "      <th>2</th>\n",
       "      <td>3</td>\n",
       "      <td>WESTIN HOTEL (Parent Building)</td>\n",
       "      <td>895128.0</td>\n",
       "      <td>A</td>\n",
       "      <td>Hotel</td>\n",
       "      <td>NaN</td>\n",
       "      <td>Recreation</td>\n",
       "      <td>2027.0</td>\n",
       "      <td>2.193901e+06</td>\n",
       "      <td>2.450936</td>\n",
       "      <td>2.071342</td>\n",
       "      <td>2.071342</td>\n",
       "      <td>1.854116e+06</td>\n",
       "      <td>No</td>\n",
       "      <td>0.0</td>\n",
       "    </tr>\n",
       "    <tr>\n",
       "      <th>3</th>\n",
       "      <td>5</td>\n",
       "      <td>HOTEL MAX</td>\n",
       "      <td>61320.0</td>\n",
       "      <td>C</td>\n",
       "      <td>Hotel</td>\n",
       "      <td>NaN</td>\n",
       "      <td>NaN</td>\n",
       "      <td>2027.0</td>\n",
       "      <td>2.934861e+05</td>\n",
       "      <td>4.786141</td>\n",
       "      <td>4.786141</td>\n",
       "      <td>4.786141</td>\n",
       "      <td>2.934861e+05</td>\n",
       "      <td>No</td>\n",
       "      <td>0.0</td>\n",
       "    </tr>\n",
       "    <tr>\n",
       "      <th>4</th>\n",
       "      <td>8</td>\n",
       "      <td>WARWICK SEATTLE HOTEL</td>\n",
       "      <td>191454.0</td>\n",
       "      <td>B</td>\n",
       "      <td>Hotel</td>\n",
       "      <td>NaN</td>\n",
       "      <td>Recreation</td>\n",
       "      <td>2027.0</td>\n",
       "      <td>5.827520e+05</td>\n",
       "      <td>3.043822</td>\n",
       "      <td>1.962584</td>\n",
       "      <td>1.962584</td>\n",
       "      <td>3.757446e+05</td>\n",
       "      <td>No</td>\n",
       "      <td>0.0</td>\n",
       "    </tr>\n",
       "  </tbody>\n",
       "</table>\n",
       "</div>"
      ],
      "text/plain": [
       "  OSEBuildingID                    BuildingName  Total GFA for Policy  \\\n",
       "0             1            MAYFLOWER PARK HOTEL               88434.0   \n",
       "1             2                 PARAMOUNT HOTEL              103566.0   \n",
       "2             3  WESTIN HOTEL (Parent Building)              895128.0   \n",
       "3             5                       HOTEL MAX               61320.0   \n",
       "4             8           WARWICK SEATTLE HOTEL              191454.0   \n",
       "\n",
       "  sq_ft_classification LargestPropertyUseType OSE  \\\n",
       "0                    C                      Hotel   \n",
       "1                    B                      Hotel   \n",
       "2                    A                      Hotel   \n",
       "3                    C                      Hotel   \n",
       "4                    B                      Hotel   \n",
       "\n",
       "  SecondLargestPropertyUseType OSE ThirdLargestPropertyUseType OSE    year  \\\n",
       "0                              NaN                             NaN  2027.0   \n",
       "1                              NaN                      Restaurant  2027.0   \n",
       "2                              NaN                      Recreation  2027.0   \n",
       "3                              NaN                             NaN  2027.0   \n",
       "4                              NaN                      Recreation  2027.0   \n",
       "\n",
       "   expected_baseline  expected_baseline_ghgi  city_ghgi_target  \\\n",
       "0       2.705014e+05                3.058794          3.058794   \n",
       "1       2.843616e+05                2.745704          2.346333   \n",
       "2       2.193901e+06                2.450936          2.071342   \n",
       "3       2.934861e+05                4.786141          4.786141   \n",
       "4       5.827520e+05                3.043822          1.962584   \n",
       "\n",
       "   compliant_ghgi  compliant_emissions compliance_status  compliance_fees  \n",
       "0        3.058794         2.705014e+05                No              0.0  \n",
       "1        2.346333         2.430003e+05                No              0.0  \n",
       "2        2.071342         1.854116e+06                No              0.0  \n",
       "3        4.786141         2.934861e+05                No              0.0  \n",
       "4        1.962584         3.757446e+05                No              0.0  "
      ]
     },
     "execution_count": 38,
     "metadata": {},
     "output_type": "execute_result"
    }
   ],
   "source": [
    "june_model.scenario_results.head()"
   ]
  },
  {
   "cell_type": "markdown",
   "id": "3ae4add0-6924-42b3-920d-221944b49fa3",
   "metadata": {},
   "source": [
    "## Summary stats for June"
   ]
  },
  {
   "cell_type": "code",
   "execution_count": 40,
   "id": "7d2ac166-2067-41fe-b552-560158fd4ce6",
   "metadata": {},
   "outputs": [
    {
     "name": "stdout",
     "output_type": "stream",
     "text": [
      "Emissions by year calculations complete. Access the annual emissions dataframe as model_name.emissions_by_year\n"
     ]
    }
   ],
   "source": [
    "june_model.get_total_emissions_by_year()"
   ]
  },
  {
   "cell_type": "code",
   "execution_count": 41,
   "id": "9fb7b2e6-04c3-4f38-b097-4b05265f3750",
   "metadata": {},
   "outputs": [
    {
     "data": {
      "text/html": [
       "<div>\n",
       "<style scoped>\n",
       "    .dataframe tbody tr th:only-of-type {\n",
       "        vertical-align: middle;\n",
       "    }\n",
       "\n",
       "    .dataframe tbody tr th {\n",
       "        vertical-align: top;\n",
       "    }\n",
       "\n",
       "    .dataframe thead th {\n",
       "        text-align: right;\n",
       "    }\n",
       "</style>\n",
       "<table border=\"1\" class=\"dataframe\">\n",
       "  <thead>\n",
       "    <tr style=\"text-align: right;\">\n",
       "      <th></th>\n",
       "      <th>compliant_emissions</th>\n",
       "    </tr>\n",
       "    <tr>\n",
       "      <th>year</th>\n",
       "      <th></th>\n",
       "    </tr>\n",
       "  </thead>\n",
       "  <tbody>\n",
       "    <tr>\n",
       "      <th>2027.0</th>\n",
       "      <td>8.519759e+08</td>\n",
       "    </tr>\n",
       "    <tr>\n",
       "      <th>2028.0</th>\n",
       "      <td>8.519759e+08</td>\n",
       "    </tr>\n",
       "    <tr>\n",
       "      <th>2029.0</th>\n",
       "      <td>8.519759e+08</td>\n",
       "    </tr>\n",
       "    <tr>\n",
       "      <th>2030.0</th>\n",
       "      <td>8.217749e+08</td>\n",
       "    </tr>\n",
       "    <tr>\n",
       "      <th>2031.0</th>\n",
       "      <td>3.286203e+08</td>\n",
       "    </tr>\n",
       "    <tr>\n",
       "      <th>2032.0</th>\n",
       "      <td>3.029888e+08</td>\n",
       "    </tr>\n",
       "    <tr>\n",
       "      <th>2033.0</th>\n",
       "      <td>2.932968e+08</td>\n",
       "    </tr>\n",
       "    <tr>\n",
       "      <th>2034.0</th>\n",
       "      <td>2.788920e+08</td>\n",
       "    </tr>\n",
       "    <tr>\n",
       "      <th>2035.0</th>\n",
       "      <td>2.579890e+08</td>\n",
       "    </tr>\n",
       "    <tr>\n",
       "      <th>2036.0</th>\n",
       "      <td>2.193085e+08</td>\n",
       "    </tr>\n",
       "    <tr>\n",
       "      <th>2037.0</th>\n",
       "      <td>2.040410e+08</td>\n",
       "    </tr>\n",
       "    <tr>\n",
       "      <th>2038.0</th>\n",
       "      <td>1.941452e+08</td>\n",
       "    </tr>\n",
       "    <tr>\n",
       "      <th>2039.0</th>\n",
       "      <td>1.853372e+08</td>\n",
       "    </tr>\n",
       "    <tr>\n",
       "      <th>2040.0</th>\n",
       "      <td>1.694530e+08</td>\n",
       "    </tr>\n",
       "    <tr>\n",
       "      <th>2041.0</th>\n",
       "      <td>9.785270e+07</td>\n",
       "    </tr>\n",
       "    <tr>\n",
       "      <th>2042.0</th>\n",
       "      <td>7.202752e+07</td>\n",
       "    </tr>\n",
       "    <tr>\n",
       "      <th>2043.0</th>\n",
       "      <td>6.799089e+07</td>\n",
       "    </tr>\n",
       "    <tr>\n",
       "      <th>2044.0</th>\n",
       "      <td>5.856830e+07</td>\n",
       "    </tr>\n",
       "    <tr>\n",
       "      <th>2045.0</th>\n",
       "      <td>5.091129e+07</td>\n",
       "    </tr>\n",
       "    <tr>\n",
       "      <th>2046.0</th>\n",
       "      <td>3.204157e+07</td>\n",
       "    </tr>\n",
       "    <tr>\n",
       "      <th>2047.0</th>\n",
       "      <td>2.996163e+07</td>\n",
       "    </tr>\n",
       "    <tr>\n",
       "      <th>2048.0</th>\n",
       "      <td>2.833503e+07</td>\n",
       "    </tr>\n",
       "    <tr>\n",
       "      <th>2049.0</th>\n",
       "      <td>2.723481e+07</td>\n",
       "    </tr>\n",
       "    <tr>\n",
       "      <th>2050.0</th>\n",
       "      <td>0.000000e+00</td>\n",
       "    </tr>\n",
       "  </tbody>\n",
       "</table>\n",
       "</div>"
      ],
      "text/plain": [
       "        compliant_emissions\n",
       "year                       \n",
       "2027.0         8.519759e+08\n",
       "2028.0         8.519759e+08\n",
       "2029.0         8.519759e+08\n",
       "2030.0         8.217749e+08\n",
       "2031.0         3.286203e+08\n",
       "2032.0         3.029888e+08\n",
       "2033.0         2.932968e+08\n",
       "2034.0         2.788920e+08\n",
       "2035.0         2.579890e+08\n",
       "2036.0         2.193085e+08\n",
       "2037.0         2.040410e+08\n",
       "2038.0         1.941452e+08\n",
       "2039.0         1.853372e+08\n",
       "2040.0         1.694530e+08\n",
       "2041.0         9.785270e+07\n",
       "2042.0         7.202752e+07\n",
       "2043.0         6.799089e+07\n",
       "2044.0         5.856830e+07\n",
       "2045.0         5.091129e+07\n",
       "2046.0         3.204157e+07\n",
       "2047.0         2.996163e+07\n",
       "2048.0         2.833503e+07\n",
       "2049.0         2.723481e+07\n",
       "2050.0         0.000000e+00"
      ]
     },
     "execution_count": 41,
     "metadata": {},
     "output_type": "execute_result"
    }
   ],
   "source": [
    "june_model.emissions_by_year"
   ]
  },
  {
   "cell_type": "code",
   "execution_count": 42,
   "id": "1db2eeff-aaf6-433d-9c7c-5a88f7d3ef3d",
   "metadata": {},
   "outputs": [
    {
     "data": {
      "text/plain": [
       "0.8192512014911764"
      ]
     },
     "execution_count": 42,
     "metadata": {},
     "output_type": "execute_result"
    }
   ],
   "source": [
    "june_model.get_percent_emissions_reduction_by_given_year(2040)"
   ]
  },
  {
   "cell_type": "code",
   "execution_count": 55,
   "id": "680acaf3-fd20-4390-8115-b4bfa9404e4d",
   "metadata": {},
   "outputs": [],
   "source": [
    "june_model.scenario_results.to_csv('../data/output_data/cleaned_public_data_june_scenario.csv')\n",
    "june_model.emissions_by_year.to_csv('../data/output_data/cleaned_public_data_june_scenario_by_year.csv')\n",
    "\n",
    "jan_model.scenario_results.to_csv('../data/output_data/cleaned_public_data_jan_scenario.csv')\n",
    "jan_model.emissions_by_year.to_csv('../data/output_data/cleaned_public_data_jan_scenario_by_year.csv')"
   ]
  },
  {
   "cell_type": "markdown",
   "id": "4ace0dd1-7dd6-4dd8-b1b8-b2b047adcda5",
   "metadata": {},
   "source": [
    "## Comparing January and June"
   ]
  },
  {
   "cell_type": "code",
   "execution_count": 44,
   "id": "f8b9f78f-2222-44d6-9297-140d478d272d",
   "metadata": {},
   "outputs": [
    {
     "data": {
      "text/plain": [
       "compliant_emissions    6.276698e+09\n",
       "dtype: float64"
      ]
     },
     "execution_count": 44,
     "metadata": {},
     "output_type": "execute_result"
    }
   ],
   "source": [
    "june_model.emissions_by_year.sum()"
   ]
  },
  {
   "cell_type": "code",
   "execution_count": 45,
   "id": "e4a0f089-0580-4927-ae45-4384825bffbe",
   "metadata": {},
   "outputs": [
    {
     "data": {
      "text/plain": [
       "compliant_emissions    3.211285e+09\n",
       "dtype: float64"
      ]
     },
     "execution_count": 45,
     "metadata": {},
     "output_type": "execute_result"
    }
   ],
   "source": [
    "jan_model.emissions_by_year.sum()"
   ]
  },
  {
   "cell_type": "code",
   "execution_count": 52,
   "id": "182b7385-af8c-40de-a975-4c9d42acfb59",
   "metadata": {},
   "outputs": [
    {
     "data": {
      "image/png": "[encoded data removed]",
      "text/plain": [
       "<Figure size 640x480 with 1 Axes>"
      ]
     },
     "metadata": {},
     "output_type": "display_data"
    }
   ],
   "source": [
    "sns.lineplot(data=june_model.emissions_by_year)\n",
    "plt.show()"
   ]
  },
  {
   "cell_type": "code",
   "execution_count": 53,
   "id": "2303628f-1cf6-4858-8ce9-2bcf1fb7eba2",
   "metadata": {},
   "outputs": [
    {
     "data": {
      "image/png": "[encoded data removed]",
      "text/plain": [
       "<Figure size 640x480 with 1 Axes>"
      ]
     },
     "metadata": {},
     "output_type": "display_data"
    }
   ],
   "source": [
    "sns.lineplot(data=jan_model.emissions_by_year)\n",
    "plt.show()"
   ]
  },
  {
   "cell_type": "markdown",
   "id": "b6c8b0fc-aa72-4936-b5b0-43e306e457b3",
   "metadata": {},
   "source": [
    "That's twice as much emissions in June vs January. Something is wrong. \n",
    "\n",
    "However, the steep drop in the June proposal isn't completely out of whack. What's going on is that the electricity emissions factor drops by 50% in 2030. So that's a huge reduction. Then the first targets go into effect in 2031. Between those two things, \n",
    "\n",
    "Let's look at the original RMI building spreadsheet."
   ]
  },
  {
   "cell_type": "markdown",
   "id": "4bea6f9d-1e79-4698-a5bf-20c0c0796033",
   "metadata": {},
   "source": [
    "## Proposals with Original RMI Spreadsheet\n",
    "\n",
    "Something is wrong with the numbers we see above. Let's run the numbers again with the original RMI spreadsheet to verify that our model works correctly. If so, we can dig into what is wrong with the numbers we calculated for the public city data.\n",
    "\n",
    "We'll rerun the numbers with the original RMI spreadsheet. Two things are added to this spreadsheet:\n",
    "\n",
    "- building classification (A, B, C, etc. based on GFA that is subject to the policy)\n",
    "- updated column names to match the model: 'Total_GFA' -> 'Total GFA for Policy', 'Steam(kBtu)' -> 'SteamUse(kBtu)', and 'percent_sqft_1st' -> 'LargestPropertyUseType Percent GFA', etc."
   ]
  },
  {
   "cell_type": "markdown",
   "id": "f114d709-5732-4430-9b2f-2a576da1af59",
   "metadata": {},
   "source": [
    "### January model"
   ]
  },
  {
   "cell_type": "code",
   "execution_count": 5,
   "id": "c7ef5400-e76e-4cce-9c3e-374166d5d57a",
   "metadata": {},
   "outputs": [],
   "source": [
    "ORIG_BUILDING_DATA_PATH = '../data/input_data/rmi_building_analysis_with_new_col_names.csv'"
   ]
  },
  {
   "cell_type": "code",
   "execution_count": 6,
   "id": "5362b02a-b4e4-431a-9bb5-0814dc521aad",
   "metadata": {},
   "outputs": [],
   "source": [
    "orig_jan_model = BaselineBEPSModel(EMISSIONS_PATH, JAN_TARGETS_PATH, ORIG_BUILDING_DATA_PATH, JAN_FINE_YEARS, FINE_PER_SQ_FT)"
   ]
  },
  {
   "cell_type": "code",
   "execution_count": 7,
   "id": "62695388-3641-4837-bcdb-274ab42b464b",
   "metadata": {},
   "outputs": [
    {
     "name": "stdout",
     "output_type": "stream",
     "text": [
      "Model calculations complete. Access the model dataframe as model_name.scenario_results\n"
     ]
    }
   ],
   "source": [
    "orig_jan_model.calculate_baseline_model(2027, 2050)"
   ]
  },
  {
   "cell_type": "code",
   "execution_count": 8,
   "id": "f72103fc-78fb-4fb5-9251-2d06b795d6e0",
   "metadata": {},
   "outputs": [
    {
     "data": {
      "text/plain": [
       "3430889229.1106"
      ]
     },
     "execution_count": 8,
     "metadata": {},
     "output_type": "execute_result"
    }
   ],
   "source": [
    "# Total emissions (kg) for Jan\n",
    "\n",
    "orig_jan_model.scenario_results['compliant_emissions'].sum()"
   ]
  },
  {
   "cell_type": "code",
   "execution_count": 9,
   "id": "68bf948a-da7e-4d88-b696-61d5bafcd294",
   "metadata": {},
   "outputs": [
    {
     "data": {
      "text/plain": [
       "0.7457294950189703"
      ]
     },
     "execution_count": 9,
     "metadata": {},
     "output_type": "execute_result"
    }
   ],
   "source": [
    "# Percent reduction by 2040\n",
    "\n",
    "orig_jan_model.get_percent_emissions_reduction_by_given_year(2040)"
   ]
  },
  {
   "cell_type": "code",
   "execution_count": 10,
   "id": "5f9a4892-7761-4ce8-bef7-bce71e38f92d",
   "metadata": {},
   "outputs": [
    {
     "name": "stdout",
     "output_type": "stream",
     "text": [
      "Emissions by year calculations complete. Access the annual emissions dataframe as model_name.emissions_by_year\n"
     ]
    }
   ],
   "source": [
    "orig_jan_model.get_total_emissions_by_year()"
   ]
  },
  {
   "cell_type": "code",
   "execution_count": 11,
   "id": "27d4ebde-5e2e-4598-ab78-a43d93112d5c",
   "metadata": {},
   "outputs": [
    {
     "data": {
      "text/html": [
       "<div>\n",
       "<style scoped>\n",
       "    .dataframe tbody tr th:only-of-type {\n",
       "        vertical-align: middle;\n",
       "    }\n",
       "\n",
       "    .dataframe tbody tr th {\n",
       "        vertical-align: top;\n",
       "    }\n",
       "\n",
       "    .dataframe thead th {\n",
       "        text-align: right;\n",
       "    }\n",
       "</style>\n",
       "<table border=\"1\" class=\"dataframe\">\n",
       "  <thead>\n",
       "    <tr style=\"text-align: right;\">\n",
       "      <th></th>\n",
       "      <th>compliant_emissions</th>\n",
       "    </tr>\n",
       "    <tr>\n",
       "      <th>year</th>\n",
       "      <th></th>\n",
       "    </tr>\n",
       "  </thead>\n",
       "  <tbody>\n",
       "    <tr>\n",
       "      <th>2027.0</th>\n",
       "      <td>3.406050e+08</td>\n",
       "    </tr>\n",
       "    <tr>\n",
       "      <th>2028.0</th>\n",
       "      <td>3.164388e+08</td>\n",
       "    </tr>\n",
       "    <tr>\n",
       "      <th>2029.0</th>\n",
       "      <td>2.984933e+08</td>\n",
       "    </tr>\n",
       "    <tr>\n",
       "      <th>2030.0</th>\n",
       "      <td>2.653944e+08</td>\n",
       "    </tr>\n",
       "    <tr>\n",
       "      <th>2031.0</th>\n",
       "      <td>2.405039e+08</td>\n",
       "    </tr>\n",
       "    <tr>\n",
       "      <th>2032.0</th>\n",
       "      <td>2.194513e+08</td>\n",
       "    </tr>\n",
       "    <tr>\n",
       "      <th>2033.0</th>\n",
       "      <td>2.009708e+08</td>\n",
       "    </tr>\n",
       "    <tr>\n",
       "      <th>2034.0</th>\n",
       "      <td>1.851488e+08</td>\n",
       "    </tr>\n",
       "    <tr>\n",
       "      <th>2035.0</th>\n",
       "      <td>1.702612e+08</td>\n",
       "    </tr>\n",
       "    <tr>\n",
       "      <th>2036.0</th>\n",
       "      <td>1.448638e+08</td>\n",
       "    </tr>\n",
       "    <tr>\n",
       "      <th>2037.0</th>\n",
       "      <td>1.309632e+08</td>\n",
       "    </tr>\n",
       "    <tr>\n",
       "      <th>2038.0</th>\n",
       "      <td>1.243389e+08</td>\n",
       "    </tr>\n",
       "    <tr>\n",
       "      <th>2039.0</th>\n",
       "      <td>1.190128e+08</td>\n",
       "    </tr>\n",
       "    <tr>\n",
       "      <th>2040.0</th>\n",
       "      <td>1.115653e+08</td>\n",
       "    </tr>\n",
       "    <tr>\n",
       "      <th>2041.0</th>\n",
       "      <td>6.536080e+07</td>\n",
       "    </tr>\n",
       "    <tr>\n",
       "      <th>2042.0</th>\n",
       "      <td>4.329297e+07</td>\n",
       "    </tr>\n",
       "    <tr>\n",
       "      <th>2043.0</th>\n",
       "      <td>3.239839e+07</td>\n",
       "    </tr>\n",
       "    <tr>\n",
       "      <th>2044.0</th>\n",
       "      <td>2.400834e+07</td>\n",
       "    </tr>\n",
       "    <tr>\n",
       "      <th>2045.0</th>\n",
       "      <td>1.851393e+07</td>\n",
       "    </tr>\n",
       "    <tr>\n",
       "      <th>2046.0</th>\n",
       "      <td>1.322147e+07</td>\n",
       "    </tr>\n",
       "    <tr>\n",
       "      <th>2047.0</th>\n",
       "      <td>6.737815e+06</td>\n",
       "    </tr>\n",
       "    <tr>\n",
       "      <th>2048.0</th>\n",
       "      <td>3.512910e+06</td>\n",
       "    </tr>\n",
       "    <tr>\n",
       "      <th>2049.0</th>\n",
       "      <td>1.493075e+06</td>\n",
       "    </tr>\n",
       "    <tr>\n",
       "      <th>2050.0</th>\n",
       "      <td>0.000000e+00</td>\n",
       "    </tr>\n",
       "  </tbody>\n",
       "</table>\n",
       "</div>"
      ],
      "text/plain": [
       "        compliant_emissions\n",
       "year                       \n",
       "2027.0         3.406050e+08\n",
       "2028.0         3.164388e+08\n",
       "2029.0         2.984933e+08\n",
       "2030.0         2.653944e+08\n",
       "2031.0         2.405039e+08\n",
       "2032.0         2.194513e+08\n",
       "2033.0         2.009708e+08\n",
       "2034.0         1.851488e+08\n",
       "2035.0         1.702612e+08\n",
       "2036.0         1.448638e+08\n",
       "2037.0         1.309632e+08\n",
       "2038.0         1.243389e+08\n",
       "2039.0         1.190128e+08\n",
       "2040.0         1.115653e+08\n",
       "2041.0         6.536080e+07\n",
       "2042.0         4.329297e+07\n",
       "2043.0         3.239839e+07\n",
       "2044.0         2.400834e+07\n",
       "2045.0         1.851393e+07\n",
       "2046.0         1.322147e+07\n",
       "2047.0         6.737815e+06\n",
       "2048.0         3.512910e+06\n",
       "2049.0         1.493075e+06\n",
       "2050.0         0.000000e+00"
      ]
     },
     "execution_count": 11,
     "metadata": {},
     "output_type": "execute_result"
    }
   ],
   "source": [
    "orig_jan_model.emissions_by_year"
   ]
  },
  {
   "cell_type": "code",
   "execution_count": 13,
   "id": "f1a7c780-9f3d-496b-88ac-e192508be7a7",
   "metadata": {},
   "outputs": [
    {
     "data": {
      "text/html": [
       "<div>\n",
       "<style scoped>\n",
       "    .dataframe tbody tr th:only-of-type {\n",
       "        vertical-align: middle;\n",
       "    }\n",
       "\n",
       "    .dataframe tbody tr th {\n",
       "        vertical-align: top;\n",
       "    }\n",
       "\n",
       "    .dataframe thead th {\n",
       "        text-align: right;\n",
       "    }\n",
       "</style>\n",
       "<table border=\"1\" class=\"dataframe\">\n",
       "  <thead>\n",
       "    <tr style=\"text-align: right;\">\n",
       "      <th></th>\n",
       "      <th>OSEBuildingID</th>\n",
       "      <th>BuildingName</th>\n",
       "      <th>Total GFA for Policy</th>\n",
       "      <th>sq_ft_classification</th>\n",
       "      <th>LargestPropertyUseType OSE</th>\n",
       "      <th>SecondLargestPropertyUseType OSE</th>\n",
       "      <th>ThirdLargestPropertyUseType OSE</th>\n",
       "      <th>year</th>\n",
       "      <th>expected_baseline</th>\n",
       "      <th>expected_baseline_ghgi</th>\n",
       "      <th>city_ghgi_target</th>\n",
       "      <th>compliant_ghgi</th>\n",
       "      <th>compliant_emissions</th>\n",
       "      <th>compliance_status</th>\n",
       "      <th>compliance_fees</th>\n",
       "    </tr>\n",
       "  </thead>\n",
       "  <tbody>\n",
       "  </tbody>\n",
       "</table>\n",
       "</div>"
      ],
      "text/plain": [
       "Empty DataFrame\n",
       "Columns: [OSEBuildingID, BuildingName, Total GFA for Policy, sq_ft_classification, LargestPropertyUseType OSE, SecondLargestPropertyUseType OSE, ThirdLargestPropertyUseType OSE, year, expected_baseline, expected_baseline_ghgi, city_ghgi_target, compliant_ghgi, compliant_emissions, compliance_status, compliance_fees]\n",
       "Index: []"
      ]
     },
     "execution_count": 13,
     "metadata": {},
     "output_type": "execute_result"
    }
   ],
   "source": [
    "orig_jan_model.scenario_results[orig_jan_model.scenario_results['LargestPropertyUseType OSE'] == np.nan ]"
   ]
  },
  {
   "cell_type": "code",
   "execution_count": 56,
   "id": "127b77ad-2df1-4740-87e5-5ebab1f4d139",
   "metadata": {},
   "outputs": [],
   "source": [
    "orig_jan_model.scenario_results.to_csv('../data/output_data/orig_rmi_data_jan_scenario.csv')\n",
    "orig_jan_model.emissions_by_year.to_csv('../data/output_data/orig_rmi_data_jan_scenario_by_year.csv')"
   ]
  },
  {
   "cell_type": "markdown",
   "id": "276af4d5-7217-4c75-ae7b-ab3fb978962a",
   "metadata": {},
   "source": [
    "### June proposal"
   ]
  },
  {
   "cell_type": "code",
   "execution_count": 14,
   "id": "b843a2eb-2de1-445a-bd21-11e0fd040ead",
   "metadata": {},
   "outputs": [],
   "source": [
    "orig_june_model = BaselineBEPSModel(EMISSIONS_PATH, JUNE_TARGETS_PATH, ORIG_BUILDING_DATA_PATH, JUNE_FINE_YEARS, FINE_PER_SQ_FT)"
   ]
  },
  {
   "cell_type": "code",
   "execution_count": 15,
   "id": "19481f83-27b7-4b57-b564-76c4a5aed7bd",
   "metadata": {},
   "outputs": [
    {
     "name": "stdout",
     "output_type": "stream",
     "text": [
      "Model calculations complete. Access the model dataframe as model_name.scenario_results\n"
     ]
    }
   ],
   "source": [
    "orig_june_model.calculate_baseline_model(2027, 2050)"
   ]
  },
  {
   "cell_type": "code",
   "execution_count": 16,
   "id": "dc9c5dc6-ac46-4067-ae06-4fa485d670ef",
   "metadata": {},
   "outputs": [
    {
     "data": {
      "text/plain": [
       "4896559099.697521"
      ]
     },
     "execution_count": 16,
     "metadata": {},
     "output_type": "execute_result"
    }
   ],
   "source": [
    "orig_june_model.scenario_results['compliant_emissions'].sum()"
   ]
  },
  {
   "cell_type": "code",
   "execution_count": 17,
   "id": "64257c28-e742-41a0-8f27-159c2e55297f",
   "metadata": {},
   "outputs": [
    {
     "data": {
      "text/plain": [
       "0.65034777451687"
      ]
     },
     "execution_count": 17,
     "metadata": {},
     "output_type": "execute_result"
    }
   ],
   "source": [
    "orig_june_model.get_percent_emissions_reduction_by_given_year(2040)"
   ]
  },
  {
   "cell_type": "code",
   "execution_count": 18,
   "id": "80ea8c7f-5338-47c2-a651-acf48bc65954",
   "metadata": {},
   "outputs": [
    {
     "name": "stdout",
     "output_type": "stream",
     "text": [
      "Emissions by year calculations complete. Access the annual emissions dataframe as model_name.emissions_by_year\n"
     ]
    }
   ],
   "source": [
    "orig_june_model.get_total_emissions_by_year()"
   ]
  },
  {
   "cell_type": "code",
   "execution_count": 19,
   "id": "fbbc9023-57cf-4038-bcd3-531bfeaded37",
   "metadata": {},
   "outputs": [
    {
     "data": {
      "text/html": [
       "<div>\n",
       "<style scoped>\n",
       "    .dataframe tbody tr th:only-of-type {\n",
       "        vertical-align: middle;\n",
       "    }\n",
       "\n",
       "    .dataframe tbody tr th {\n",
       "        vertical-align: top;\n",
       "    }\n",
       "\n",
       "    .dataframe thead th {\n",
       "        text-align: right;\n",
       "    }\n",
       "</style>\n",
       "<table border=\"1\" class=\"dataframe\">\n",
       "  <thead>\n",
       "    <tr style=\"text-align: right;\">\n",
       "      <th></th>\n",
       "      <th>compliant_emissions</th>\n",
       "    </tr>\n",
       "    <tr>\n",
       "      <th>year</th>\n",
       "      <th></th>\n",
       "    </tr>\n",
       "  </thead>\n",
       "  <tbody>\n",
       "    <tr>\n",
       "      <th>2027.0</th>\n",
       "      <td>4.387396e+08</td>\n",
       "    </tr>\n",
       "    <tr>\n",
       "      <th>2028.0</th>\n",
       "      <td>4.387396e+08</td>\n",
       "    </tr>\n",
       "    <tr>\n",
       "      <th>2029.0</th>\n",
       "      <td>4.387396e+08</td>\n",
       "    </tr>\n",
       "    <tr>\n",
       "      <th>2030.0</th>\n",
       "      <td>4.051007e+08</td>\n",
       "    </tr>\n",
       "    <tr>\n",
       "      <th>2031.0</th>\n",
       "      <td>3.478464e+08</td>\n",
       "    </tr>\n",
       "    <tr>\n",
       "      <th>2032.0</th>\n",
       "      <td>3.148110e+08</td>\n",
       "    </tr>\n",
       "    <tr>\n",
       "      <th>2033.0</th>\n",
       "      <td>2.923256e+08</td>\n",
       "    </tr>\n",
       "    <tr>\n",
       "      <th>2034.0</th>\n",
       "      <td>2.757478e+08</td>\n",
       "    </tr>\n",
       "    <tr>\n",
       "      <th>2035.0</th>\n",
       "      <td>2.465763e+08</td>\n",
       "    </tr>\n",
       "    <tr>\n",
       "      <th>2036.0</th>\n",
       "      <td>2.126504e+08</td>\n",
       "    </tr>\n",
       "    <tr>\n",
       "      <th>2037.0</th>\n",
       "      <td>1.905491e+08</td>\n",
       "    </tr>\n",
       "    <tr>\n",
       "      <th>2038.0</th>\n",
       "      <td>1.758386e+08</td>\n",
       "    </tr>\n",
       "    <tr>\n",
       "      <th>2039.0</th>\n",
       "      <td>1.652858e+08</td>\n",
       "    </tr>\n",
       "    <tr>\n",
       "      <th>2040.0</th>\n",
       "      <td>1.534156e+08</td>\n",
       "    </tr>\n",
       "    <tr>\n",
       "      <th>2041.0</th>\n",
       "      <td>9.595735e+07</td>\n",
       "    </tr>\n",
       "    <tr>\n",
       "      <th>2042.0</th>\n",
       "      <td>6.995108e+07</td>\n",
       "    </tr>\n",
       "    <tr>\n",
       "      <th>2043.0</th>\n",
       "      <td>6.534575e+07</td>\n",
       "    </tr>\n",
       "    <tr>\n",
       "      <th>2044.0</th>\n",
       "      <td>5.552164e+07</td>\n",
       "    </tr>\n",
       "    <tr>\n",
       "      <th>2045.0</th>\n",
       "      <td>4.993816e+07</td>\n",
       "    </tr>\n",
       "    <tr>\n",
       "      <th>2046.0</th>\n",
       "      <td>3.023368e+07</td>\n",
       "    </tr>\n",
       "    <tr>\n",
       "      <th>2047.0</th>\n",
       "      <td>2.783242e+07</td>\n",
       "    </tr>\n",
       "    <tr>\n",
       "      <th>2048.0</th>\n",
       "      <td>2.616556e+07</td>\n",
       "    </tr>\n",
       "    <tr>\n",
       "      <th>2049.0</th>\n",
       "      <td>2.490915e+07</td>\n",
       "    </tr>\n",
       "    <tr>\n",
       "      <th>2050.0</th>\n",
       "      <td>0.000000e+00</td>\n",
       "    </tr>\n",
       "  </tbody>\n",
       "</table>\n",
       "</div>"
      ],
      "text/plain": [
       "        compliant_emissions\n",
       "year                       \n",
       "2027.0         4.387396e+08\n",
       "2028.0         4.387396e+08\n",
       "2029.0         4.387396e+08\n",
       "2030.0         4.051007e+08\n",
       "2031.0         3.478464e+08\n",
       "2032.0         3.148110e+08\n",
       "2033.0         2.923256e+08\n",
       "2034.0         2.757478e+08\n",
       "2035.0         2.465763e+08\n",
       "2036.0         2.126504e+08\n",
       "2037.0         1.905491e+08\n",
       "2038.0         1.758386e+08\n",
       "2039.0         1.652858e+08\n",
       "2040.0         1.534156e+08\n",
       "2041.0         9.595735e+07\n",
       "2042.0         6.995108e+07\n",
       "2043.0         6.534575e+07\n",
       "2044.0         5.552164e+07\n",
       "2045.0         4.993816e+07\n",
       "2046.0         3.023368e+07\n",
       "2047.0         2.783242e+07\n",
       "2048.0         2.616556e+07\n",
       "2049.0         2.490915e+07\n",
       "2050.0         0.000000e+00"
      ]
     },
     "execution_count": 19,
     "metadata": {},
     "output_type": "execute_result"
    }
   ],
   "source": [
    "orig_june_model.emissions_by_year"
   ]
  },
  {
   "cell_type": "code",
   "execution_count": 57,
   "id": "9305f16c-bfaf-422e-bb99-f2bf421c40f5",
   "metadata": {},
   "outputs": [],
   "source": [
    "orig_june_model.scenario_results.to_csv('../data/output_data/orig_rmi_data_june_scenario.csv')\n",
    "orig_june_model.emissions_by_year.to_csv('../data/output_data/orig_rmi_data_june_scenario_by_year.csv')"
   ]
  },
  {
   "cell_type": "code",
   "execution_count": 54,
   "id": "dd41226f-2d07-4594-9995-354a4630d719",
   "metadata": {},
   "outputs": [
    {
     "data": {
      "image/png": "[encoded data removed]",
      "text/plain": [
       "<Figure size 640x480 with 1 Axes>"
      ]
     },
     "metadata": {},
     "output_type": "display_data"
    }
   ],
   "source": [
    "sns.lineplot(data=orig_june_model.emissions_by_year)\n",
    "plt.show()"
   ]
  },
  {
   "cell_type": "markdown",
   "id": "067791ed-5971-4f25-8983-82d6111743e3",
   "metadata": {},
   "source": [
    "### Difference between January and June\n",
    "\n",
    "How much less CO2 (in kgs) will be released with the original January plan vs. the original June plan?"
   ]
  },
  {
   "cell_type": "code",
   "execution_count": 20,
   "id": "e705ba84-63b9-4918-9db8-8809c934bdd2",
   "metadata": {},
   "outputs": [
    {
     "data": {
      "text/plain": [
       "0.2993264945331633"
      ]
     },
     "execution_count": 20,
     "metadata": {},
     "output_type": "execute_result"
    }
   ],
   "source": [
    "1 - (orig_jan_model.scenario_results['compliant_emissions'].sum() / orig_june_model.scenario_results['compliant_emissions'].sum())"
   ]
  }
 ],
 "metadata": {
  "kernelspec": {
   "display_name": "Python 3 (ipykernel)",
   "language": "python",
   "name": "python3"
  },
  "language_info": {
   "codemirror_mode": {
    "name": "ipython",
    "version": 3
   },
   "file_extension": ".py",
   "mimetype": "text/x-python",
   "name": "python",
   "nbconvert_exporter": "python",
   "pygments_lexer": "ipython3",
   "version": "3.11.3"
  }
 },
 "nbformat": 4,
 "nbformat_minor": 5
}
