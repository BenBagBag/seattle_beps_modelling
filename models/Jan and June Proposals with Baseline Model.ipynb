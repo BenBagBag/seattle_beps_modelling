{
 "cells": [
  {
   "cell_type": "markdown",
   "id": "871af8a3",
   "metadata": {},
   "source": [
    "# Benchmark calculcations for January and June proposals\n",
    "\n",
    "This notebook uses the `baseline_model` to calculate the expected emissions between 2027 and 2050 based on two proposed BEPS timelines:\n",
    "    \n",
    "- The January proposal, which uses 2027 as the first benchmark year\n",
    "- The June proposal, which uses 2030 as the first benchmark year\n",
    "- NB: January and June refer to the months that OSE proposed each timeline\n",
    "\n",
    "The notebook produces four CSVs:\n",
    "    \n",
    "- two CSVs showing the expected emissions (in kg) for each building subject to the policy for each year between 2027 and 2050, one for the January timeline and one for the June timeline\n",
    "- two CSVs showing the expected total annual emissions (in kg) in 2027-2050, one for the January timeline and one for the June timeline\n",
    "\n",
    "**A Note on the Model History:**\n",
    "\n",
    "The original model was built in Google Sheets by a team at [RMI](https://rmi.org/), who kindly provided it to 350 Seattle. The spreadsheet format was difficult to expand and contained several errors, so it has been rewritten as a Python class by Isaac Cowhey. This format makes catching errors and expanding the model easier.\n",
    "\n",
    "**Source Data:**\n",
    "\n",
    "This notebook uses the publicly available building data from 2019, with calculations to create new fields, namely mapping the OSE building types to policy building types and the percentage of building area dedicated to each use type. This can be found in the data/input_data/Data cleaning.ipynb notebook. \n",
    "\n",
    "\n",
    "**Assumptions**:\n",
    "\n",
    "- Buildings will produce the max amount of emissions, **unless** their predicted emissions is lower than the target GHGI, in which case they will produce that amount.\n",
    "- Predicted emissions are calculated based off of the emissions predictions found in [the emissions data input file](../data/input_data/energy_emissions.csv). \n",
    "\n",
    "**Methods**:\n",
    "\n",
    "For each building, in each year (2027-2050), we need to calculate the following (column references given refer to the 2027 calculations in [the original RMI spreadsheet](https://docs.google.com/spreadsheets/d/175uipAHHQHGelq7i1n9sKWQXNQi-B1IJiF6-XQRVnE8/edit#gid=1811888818):\n",
    "\n",
    "- `city_ghgi_target`: The GHGI (greenhouse gas emissions intensity) target, as calculated by the sum of: `city's target GHGI for a use type * percent of GFA for that use type`, for each of the three given use types (col A). If there is no target for any of the use types, this is `NaN`. If a building is multi-use, and some of the building's uses have a compliance threshold but others don't, the expected GHGI is calculated as: `baseline GHGI * percent of GFA for use types not yet subject to compliance threshold + GHGI target for use types subject to compliance threshold (see above calculation)`.\n",
    "    - Example: A building is 50% retail and 50% multifamily housing. The target for retail in 2033 is 1.03 and there is no target for multifamily housing. This building would have a GHGI of 4.0 in 2033 if no changes were made to it. We estimate the GHGHI target as `(0.5 * 1.03) + (0.5 * 4.0) = 2.515`. \n",
    "    - NB: These numbers will be different than the RMI calculations. The RMI model mistakenly used a GHGI of zero for parts of buildings that are not yet subject to BEPS. So in the example above, RMI's model would list the GHGI target as`0.5 * 1.03 + 0.5 * 0 = 0.515`, which leaves out half the building. Then the target GHGI would actually go **up** when the multifamily part of the building became subject to BEPS! This model corrects that error.\n",
    "- `expected_baseline`: The expected emissions if nothing is changed about the building, as calculated by the sum of: `total energy of a given type * energy emissions factor for energy type` for the three energy types (col C)\n",
    "- `expected_baseline_ghgi`: The expected GHGI if nothing is changed about the building (col B), as calculated by the `expected_baseline / total GFA`\n",
    "- `compliant_ghgi`: The expected GHGI if the building is compliant with BEPS, as defined by (col H):\n",
    "    - if the BEPS GHGI target is lower than the expected baseline GHGI, use the BEPS GHGI target\n",
    "    - if the expected baseline GHGI is lower than the BEPS GHGI target, use the expected baseline GHGI\n",
    "- `compliant_emissions`: The expected emissions if the building is compliant with BEPS, as defined by the `compliant GHGI * total GFA` (col J)\n",
    "- `compliance_status`: Whether or not the building is compliant (col K):\n",
    "    - yes: the baseline GHGI is lower than the expected compliant GHGI for this year\n",
    "    - no: the baseline GHGI is higher than the expected compliant GHGI for this year\n",
    "    - no requirement yet: the building doesn't have a compliance requirement for this year\n",
    "- `compliance_fees`: Noncompliance fees. For years where buildings will be taxed for being noncompliant, this is `compliance fee per sq ft * total GFA`"
   ]
  },
  {
   "cell_type": "code",
   "execution_count": 1,
   "id": "d8090f3b",
   "metadata": {},
   "outputs": [],
   "source": [
    "import pandas as pd\n",
    "import numpy as np\n",
    "\n",
    "import seaborn as sns\n",
    "import matplotlib.pyplot as plt"
   ]
  },
  {
   "cell_type": "code",
   "execution_count": 2,
   "id": "01d49814-15a0-4d04-82aa-6fb464598fe9",
   "metadata": {},
   "outputs": [],
   "source": [
    "from baseline_model import BaselineBEPSModel"
   ]
  },
  {
   "cell_type": "code",
   "execution_count": 3,
   "id": "86d0008b",
   "metadata": {},
   "outputs": [],
   "source": [
    "pd.options.mode.chained_assignment = None"
   ]
  },
  {
   "cell_type": "code",
   "execution_count": 4,
   "id": "f76ebfd1",
   "metadata": {},
   "outputs": [],
   "source": [
    "JAN_TARGETS_PATH = '../data/input_data/jan_proposal_emissions_targets.csv'\n",
    "JUNE_TARGETS_PATH = '../data/input_data/june_proposal_emissions_targets.csv'\n",
    "EMISSIONS_PATH = '../data/input_data/energy_emissions.csv'\n",
    "BUILDING_DATA_PATH = '../data/input_data/Data cleaning/cleaned_building_data_with_policy_gfa.csv'\n",
    "\n",
    "JAN_FINE_YEARS = [2027, 2030, 2035, 2040, 2045, 2050]\n",
    "JUNE_FINE_YEARS = [2030, 2035, 2040, 2045, 2050]\n",
    "FINE_PER_SQ_FT = 2.5"
   ]
  },
  {
   "cell_type": "markdown",
   "id": "4af189da",
   "metadata": {},
   "source": [
    "## January Proposal"
   ]
  },
  {
   "cell_type": "code",
   "execution_count": 5,
   "id": "4495316f",
   "metadata": {},
   "outputs": [],
   "source": [
    "jan_model = BaselineBEPSModel(EMISSIONS_PATH, JAN_TARGETS_PATH, BUILDING_DATA_PATH, JAN_FINE_YEARS, FINE_PER_SQ_FT)"
   ]
  },
  {
   "cell_type": "code",
   "execution_count": 6,
   "id": "c74ac6e6-459f-4abc-91d3-31062a5850b0",
   "metadata": {},
   "outputs": [
    {
     "name": "stdout",
     "output_type": "stream",
     "text": [
      "Model calculations complete. Access the model dataframe as model_name.scenario_results\n"
     ]
    }
   ],
   "source": [
    "jan_model.calculate_baseline_model(2027,2050)"
   ]
  },
  {
   "cell_type": "code",
   "execution_count": 7,
   "id": "0d42023c-eabf-428f-baa6-c77af0eb1397",
   "metadata": {},
   "outputs": [
    {
     "data": {
      "text/html": [
       "<div>\n",
       "<style scoped>\n",
       "    .dataframe tbody tr th:only-of-type {\n",
       "        vertical-align: middle;\n",
       "    }\n",
       "\n",
       "    .dataframe tbody tr th {\n",
       "        vertical-align: top;\n",
       "    }\n",
       "\n",
       "    .dataframe thead th {\n",
       "        text-align: right;\n",
       "    }\n",
       "</style>\n",
       "<table border=\"1\" class=\"dataframe\">\n",
       "  <thead>\n",
       "    <tr style=\"text-align: right;\">\n",
       "      <th></th>\n",
       "      <th>OSEBuildingID</th>\n",
       "      <th>BuildingName</th>\n",
       "      <th>Total GFA for Policy</th>\n",
       "      <th>sq_ft_classification</th>\n",
       "      <th>LargestPropertyUseType OSE</th>\n",
       "      <th>SecondLargestPropertyUseType OSE</th>\n",
       "      <th>ThirdLargestPropertyUseType OSE</th>\n",
       "      <th>year</th>\n",
       "      <th>expected_baseline</th>\n",
       "      <th>expected_baseline_ghgi</th>\n",
       "      <th>city_ghgi_target</th>\n",
       "      <th>compliant_ghgi</th>\n",
       "      <th>compliant_emissions</th>\n",
       "      <th>compliance_status</th>\n",
       "      <th>compliance_fees</th>\n",
       "    </tr>\n",
       "  </thead>\n",
       "  <tbody>\n",
       "    <tr>\n",
       "      <th>0</th>\n",
       "      <td>1</td>\n",
       "      <td>MAYFLOWER PARK HOTEL</td>\n",
       "      <td>88434.0</td>\n",
       "      <td>C</td>\n",
       "      <td>Hotel</td>\n",
       "      <td>NaN</td>\n",
       "      <td>NaN</td>\n",
       "      <td>2027.0</td>\n",
       "      <td>2.705014e+05</td>\n",
       "      <td>3.058794</td>\n",
       "      <td>3.058794</td>\n",
       "      <td>3.058794</td>\n",
       "      <td>2.705014e+05</td>\n",
       "      <td>No</td>\n",
       "      <td>221085.0</td>\n",
       "    </tr>\n",
       "    <tr>\n",
       "      <th>1</th>\n",
       "      <td>2</td>\n",
       "      <td>PARAMOUNT HOTEL</td>\n",
       "      <td>88502.0</td>\n",
       "      <td>C</td>\n",
       "      <td>Hotel</td>\n",
       "      <td>NaN</td>\n",
       "      <td>Restaurant</td>\n",
       "      <td>2027.0</td>\n",
       "      <td>2.843616e+05</td>\n",
       "      <td>3.213052</td>\n",
       "      <td>3.213052</td>\n",
       "      <td>3.213052</td>\n",
       "      <td>2.843616e+05</td>\n",
       "      <td>No</td>\n",
       "      <td>221255.0</td>\n",
       "    </tr>\n",
       "    <tr>\n",
       "      <th>2</th>\n",
       "      <td>3</td>\n",
       "      <td>WESTIN HOTEL (Parent Building)</td>\n",
       "      <td>756493.0</td>\n",
       "      <td>A</td>\n",
       "      <td>Hotel</td>\n",
       "      <td>NaN</td>\n",
       "      <td>Recreation</td>\n",
       "      <td>2027.0</td>\n",
       "      <td>2.193901e+06</td>\n",
       "      <td>2.900095</td>\n",
       "      <td>2.220000</td>\n",
       "      <td>2.220000</td>\n",
       "      <td>1.679414e+06</td>\n",
       "      <td>No</td>\n",
       "      <td>1891232.5</td>\n",
       "    </tr>\n",
       "    <tr>\n",
       "      <th>3</th>\n",
       "      <td>5</td>\n",
       "      <td>HOTEL MAX</td>\n",
       "      <td>61320.0</td>\n",
       "      <td>C</td>\n",
       "      <td>Hotel</td>\n",
       "      <td>NaN</td>\n",
       "      <td>NaN</td>\n",
       "      <td>2027.0</td>\n",
       "      <td>2.934861e+05</td>\n",
       "      <td>4.786141</td>\n",
       "      <td>4.786141</td>\n",
       "      <td>4.786141</td>\n",
       "      <td>2.934861e+05</td>\n",
       "      <td>No</td>\n",
       "      <td>153300.0</td>\n",
       "    </tr>\n",
       "    <tr>\n",
       "      <th>4</th>\n",
       "      <td>8</td>\n",
       "      <td>WARWICK SEATTLE HOTEL</td>\n",
       "      <td>123445.0</td>\n",
       "      <td>B</td>\n",
       "      <td>Hotel</td>\n",
       "      <td>NaN</td>\n",
       "      <td>Recreation</td>\n",
       "      <td>2027.0</td>\n",
       "      <td>5.827520e+05</td>\n",
       "      <td>4.720742</td>\n",
       "      <td>2.220000</td>\n",
       "      <td>2.220000</td>\n",
       "      <td>2.740479e+05</td>\n",
       "      <td>No</td>\n",
       "      <td>308612.5</td>\n",
       "    </tr>\n",
       "  </tbody>\n",
       "</table>\n",
       "</div>"
      ],
      "text/plain": [
       "  OSEBuildingID                    BuildingName  Total GFA for Policy  \\\n",
       "0             1            MAYFLOWER PARK HOTEL               88434.0   \n",
       "1             2                 PARAMOUNT HOTEL               88502.0   \n",
       "2             3  WESTIN HOTEL (Parent Building)              756493.0   \n",
       "3             5                       HOTEL MAX               61320.0   \n",
       "4             8           WARWICK SEATTLE HOTEL              123445.0   \n",
       "\n",
       "  sq_ft_classification LargestPropertyUseType OSE  \\\n",
       "0                    C                      Hotel   \n",
       "1                    C                      Hotel   \n",
       "2                    A                      Hotel   \n",
       "3                    C                      Hotel   \n",
       "4                    B                      Hotel   \n",
       "\n",
       "  SecondLargestPropertyUseType OSE ThirdLargestPropertyUseType OSE    year  \\\n",
       "0                              NaN                             NaN  2027.0   \n",
       "1                              NaN                      Restaurant  2027.0   \n",
       "2                              NaN                      Recreation  2027.0   \n",
       "3                              NaN                             NaN  2027.0   \n",
       "4                              NaN                      Recreation  2027.0   \n",
       "\n",
       "   expected_baseline  expected_baseline_ghgi  city_ghgi_target  \\\n",
       "0       2.705014e+05                3.058794          3.058794   \n",
       "1       2.843616e+05                3.213052          3.213052   \n",
       "2       2.193901e+06                2.900095          2.220000   \n",
       "3       2.934861e+05                4.786141          4.786141   \n",
       "4       5.827520e+05                4.720742          2.220000   \n",
       "\n",
       "   compliant_ghgi  compliant_emissions compliance_status  compliance_fees  \n",
       "0        3.058794         2.705014e+05                No         221085.0  \n",
       "1        3.213052         2.843616e+05                No         221255.0  \n",
       "2        2.220000         1.679414e+06                No        1891232.5  \n",
       "3        4.786141         2.934861e+05                No         153300.0  \n",
       "4        2.220000         2.740479e+05                No         308612.5  "
      ]
     },
     "execution_count": 7,
     "metadata": {},
     "output_type": "execute_result"
    }
   ],
   "source": [
    "jan_model.scenario_results.head()"
   ]
  },
  {
   "cell_type": "markdown",
   "id": "182a2028-4bef-4c4c-9c80-b464a09a1e74",
   "metadata": {},
   "source": [
    "## Summary stats for January Proposal"
   ]
  },
  {
   "cell_type": "code",
   "execution_count": 8,
   "id": "a2dfd348",
   "metadata": {},
   "outputs": [
    {
     "name": "stdout",
     "output_type": "stream",
     "text": [
      "Emissions by year calculations complete. Access the annual emissions dataframe as model_name.emissions_by_year\n"
     ]
    }
   ],
   "source": [
    "jan_model.get_total_emissions_by_year()"
   ]
  },
  {
   "cell_type": "code",
   "execution_count": 9,
   "id": "ff76207a",
   "metadata": {},
   "outputs": [
    {
     "data": {
      "text/html": [
       "<div>\n",
       "<style scoped>\n",
       "    .dataframe tbody tr th:only-of-type {\n",
       "        vertical-align: middle;\n",
       "    }\n",
       "\n",
       "    .dataframe tbody tr th {\n",
       "        vertical-align: top;\n",
       "    }\n",
       "\n",
       "    .dataframe thead th {\n",
       "        text-align: right;\n",
       "    }\n",
       "</style>\n",
       "<table border=\"1\" class=\"dataframe\">\n",
       "  <thead>\n",
       "    <tr style=\"text-align: right;\">\n",
       "      <th></th>\n",
       "      <th>compliant_emissions</th>\n",
       "    </tr>\n",
       "    <tr>\n",
       "      <th>year</th>\n",
       "      <th></th>\n",
       "    </tr>\n",
       "  </thead>\n",
       "  <tbody>\n",
       "    <tr>\n",
       "      <th>2027.0</th>\n",
       "      <td>3.367781e+08</td>\n",
       "    </tr>\n",
       "    <tr>\n",
       "      <th>2028.0</th>\n",
       "      <td>3.239650e+08</td>\n",
       "    </tr>\n",
       "    <tr>\n",
       "      <th>2029.0</th>\n",
       "      <td>3.072631e+08</td>\n",
       "    </tr>\n",
       "    <tr>\n",
       "      <th>2030.0</th>\n",
       "      <td>2.779739e+08</td>\n",
       "    </tr>\n",
       "    <tr>\n",
       "      <th>2031.0</th>\n",
       "      <td>2.457496e+08</td>\n",
       "    </tr>\n",
       "  </tbody>\n",
       "</table>\n",
       "</div>"
      ],
      "text/plain": [
       "        compliant_emissions\n",
       "year                       \n",
       "2027.0         3.367781e+08\n",
       "2028.0         3.239650e+08\n",
       "2029.0         3.072631e+08\n",
       "2030.0         2.779739e+08\n",
       "2031.0         2.457496e+08"
      ]
     },
     "execution_count": 9,
     "metadata": {},
     "output_type": "execute_result"
    }
   ],
   "source": [
    "jan_model.emissions_by_year.head()"
   ]
  },
  {
   "cell_type": "markdown",
   "id": "0604b430-fcb1-4d8f-9f18-81702b42d771",
   "metadata": {},
   "source": [
    "## Calculate percent of CO2 reduction by 2040\n",
    "\n",
    "For an aggressive climate policy, 350 Seattle would prefer that emissions are cut by 90% by 2040. "
   ]
  },
  {
   "cell_type": "code",
   "execution_count": 10,
   "id": "dc891fc4",
   "metadata": {},
   "outputs": [
    {
     "data": {
      "text/plain": [
       "0.868468817112779"
      ]
     },
     "execution_count": 10,
     "metadata": {},
     "output_type": "execute_result"
    }
   ],
   "source": [
    "jan_model.get_percent_emissions_reduction_by_given_year(2040)"
   ]
  },
  {
   "cell_type": "code",
   "execution_count": 11,
   "id": "2bc25007-4b22-4633-9632-df3dd77f6d82",
   "metadata": {},
   "outputs": [
    {
     "data": {
      "text/plain": [
       "compliant_emissions    3.227114e+09\n",
       "dtype: float64"
      ]
     },
     "execution_count": 11,
     "metadata": {},
     "output_type": "execute_result"
    }
   ],
   "source": [
    "jan_model.emissions_by_year.sum()"
   ]
  },
  {
   "cell_type": "markdown",
   "id": "9b4c4e3c-c051-4836-a4e1-8b97e9b2dcbf",
   "metadata": {},
   "source": [
    "The January proposal results in 3,220,000 metric tons (3.22 * 10^9 kg) of carbon emitted between 2027 and 2050.\n",
    "\n",
    "By 2040, the January proposal will have reduced emissions from large buildings in Seattle by 86.8%."
   ]
  },
  {
   "cell_type": "markdown",
   "id": "4cc4b502-3c51-4ab0-9969-14f2940b9d40",
   "metadata": {},
   "source": [
    "## June proposal"
   ]
  },
  {
   "cell_type": "code",
   "execution_count": 12,
   "id": "1a7ecfd9-d2c4-49d8-82e4-acf51f88f476",
   "metadata": {},
   "outputs": [],
   "source": [
    "june_model = BaselineBEPSModel(EMISSIONS_PATH, JUNE_TARGETS_PATH, BUILDING_DATA_PATH, JUNE_FINE_YEARS, FINE_PER_SQ_FT)"
   ]
  },
  {
   "cell_type": "code",
   "execution_count": 13,
   "id": "e8dd4cc2-f288-43f4-a553-04560db44fff",
   "metadata": {},
   "outputs": [
    {
     "name": "stdout",
     "output_type": "stream",
     "text": [
      "Model calculations complete. Access the model dataframe as model_name.scenario_results\n"
     ]
    }
   ],
   "source": [
    "june_model.calculate_baseline_model(2027,2050)"
   ]
  },
  {
   "cell_type": "code",
   "execution_count": 14,
   "id": "8aa19657-3cbe-4a87-a6c2-259c8a5a187a",
   "metadata": {},
   "outputs": [
    {
     "data": {
      "text/html": [
       "<div>\n",
       "<style scoped>\n",
       "    .dataframe tbody tr th:only-of-type {\n",
       "        vertical-align: middle;\n",
       "    }\n",
       "\n",
       "    .dataframe tbody tr th {\n",
       "        vertical-align: top;\n",
       "    }\n",
       "\n",
       "    .dataframe thead th {\n",
       "        text-align: right;\n",
       "    }\n",
       "</style>\n",
       "<table border=\"1\" class=\"dataframe\">\n",
       "  <thead>\n",
       "    <tr style=\"text-align: right;\">\n",
       "      <th></th>\n",
       "      <th>OSEBuildingID</th>\n",
       "      <th>BuildingName</th>\n",
       "      <th>Total GFA for Policy</th>\n",
       "      <th>sq_ft_classification</th>\n",
       "      <th>LargestPropertyUseType OSE</th>\n",
       "      <th>SecondLargestPropertyUseType OSE</th>\n",
       "      <th>ThirdLargestPropertyUseType OSE</th>\n",
       "      <th>year</th>\n",
       "      <th>expected_baseline</th>\n",
       "      <th>expected_baseline_ghgi</th>\n",
       "      <th>city_ghgi_target</th>\n",
       "      <th>compliant_ghgi</th>\n",
       "      <th>compliant_emissions</th>\n",
       "      <th>compliance_status</th>\n",
       "      <th>compliance_fees</th>\n",
       "    </tr>\n",
       "  </thead>\n",
       "  <tbody>\n",
       "    <tr>\n",
       "      <th>0</th>\n",
       "      <td>1</td>\n",
       "      <td>MAYFLOWER PARK HOTEL</td>\n",
       "      <td>88434.0</td>\n",
       "      <td>C</td>\n",
       "      <td>Hotel</td>\n",
       "      <td>NaN</td>\n",
       "      <td>NaN</td>\n",
       "      <td>2027.0</td>\n",
       "      <td>2.705014e+05</td>\n",
       "      <td>3.058794</td>\n",
       "      <td>3.058794</td>\n",
       "      <td>3.058794</td>\n",
       "      <td>2.705014e+05</td>\n",
       "      <td>No</td>\n",
       "      <td>0.0</td>\n",
       "    </tr>\n",
       "    <tr>\n",
       "      <th>1</th>\n",
       "      <td>2</td>\n",
       "      <td>PARAMOUNT HOTEL</td>\n",
       "      <td>88502.0</td>\n",
       "      <td>C</td>\n",
       "      <td>Hotel</td>\n",
       "      <td>NaN</td>\n",
       "      <td>Restaurant</td>\n",
       "      <td>2027.0</td>\n",
       "      <td>2.843616e+05</td>\n",
       "      <td>3.213052</td>\n",
       "      <td>3.213052</td>\n",
       "      <td>3.213052</td>\n",
       "      <td>2.843616e+05</td>\n",
       "      <td>No</td>\n",
       "      <td>0.0</td>\n",
       "    </tr>\n",
       "    <tr>\n",
       "      <th>2</th>\n",
       "      <td>3</td>\n",
       "      <td>WESTIN HOTEL (Parent Building)</td>\n",
       "      <td>756493.0</td>\n",
       "      <td>A</td>\n",
       "      <td>Hotel</td>\n",
       "      <td>NaN</td>\n",
       "      <td>Recreation</td>\n",
       "      <td>2027.0</td>\n",
       "      <td>2.193901e+06</td>\n",
       "      <td>2.900095</td>\n",
       "      <td>2.900095</td>\n",
       "      <td>2.900095</td>\n",
       "      <td>2.193901e+06</td>\n",
       "      <td>No</td>\n",
       "      <td>0.0</td>\n",
       "    </tr>\n",
       "    <tr>\n",
       "      <th>3</th>\n",
       "      <td>5</td>\n",
       "      <td>HOTEL MAX</td>\n",
       "      <td>61320.0</td>\n",
       "      <td>C</td>\n",
       "      <td>Hotel</td>\n",
       "      <td>NaN</td>\n",
       "      <td>NaN</td>\n",
       "      <td>2027.0</td>\n",
       "      <td>2.934861e+05</td>\n",
       "      <td>4.786141</td>\n",
       "      <td>4.786141</td>\n",
       "      <td>4.786141</td>\n",
       "      <td>2.934861e+05</td>\n",
       "      <td>No</td>\n",
       "      <td>0.0</td>\n",
       "    </tr>\n",
       "    <tr>\n",
       "      <th>4</th>\n",
       "      <td>8</td>\n",
       "      <td>WARWICK SEATTLE HOTEL</td>\n",
       "      <td>123445.0</td>\n",
       "      <td>B</td>\n",
       "      <td>Hotel</td>\n",
       "      <td>NaN</td>\n",
       "      <td>Recreation</td>\n",
       "      <td>2027.0</td>\n",
       "      <td>5.827520e+05</td>\n",
       "      <td>4.720742</td>\n",
       "      <td>4.720742</td>\n",
       "      <td>4.720742</td>\n",
       "      <td>5.827520e+05</td>\n",
       "      <td>No</td>\n",
       "      <td>0.0</td>\n",
       "    </tr>\n",
       "  </tbody>\n",
       "</table>\n",
       "</div>"
      ],
      "text/plain": [
       "  OSEBuildingID                    BuildingName  Total GFA for Policy  \\\n",
       "0             1            MAYFLOWER PARK HOTEL               88434.0   \n",
       "1             2                 PARAMOUNT HOTEL               88502.0   \n",
       "2             3  WESTIN HOTEL (Parent Building)              756493.0   \n",
       "3             5                       HOTEL MAX               61320.0   \n",
       "4             8           WARWICK SEATTLE HOTEL              123445.0   \n",
       "\n",
       "  sq_ft_classification LargestPropertyUseType OSE  \\\n",
       "0                    C                      Hotel   \n",
       "1                    C                      Hotel   \n",
       "2                    A                      Hotel   \n",
       "3                    C                      Hotel   \n",
       "4                    B                      Hotel   \n",
       "\n",
       "  SecondLargestPropertyUseType OSE ThirdLargestPropertyUseType OSE    year  \\\n",
       "0                              NaN                             NaN  2027.0   \n",
       "1                              NaN                      Restaurant  2027.0   \n",
       "2                              NaN                      Recreation  2027.0   \n",
       "3                              NaN                             NaN  2027.0   \n",
       "4                              NaN                      Recreation  2027.0   \n",
       "\n",
       "   expected_baseline  expected_baseline_ghgi  city_ghgi_target  \\\n",
       "0       2.705014e+05                3.058794          3.058794   \n",
       "1       2.843616e+05                3.213052          3.213052   \n",
       "2       2.193901e+06                2.900095          2.900095   \n",
       "3       2.934861e+05                4.786141          4.786141   \n",
       "4       5.827520e+05                4.720742          4.720742   \n",
       "\n",
       "   compliant_ghgi  compliant_emissions compliance_status  compliance_fees  \n",
       "0        3.058794         2.705014e+05                No              0.0  \n",
       "1        3.213052         2.843616e+05                No              0.0  \n",
       "2        2.900095         2.193901e+06                No              0.0  \n",
       "3        4.786141         2.934861e+05                No              0.0  \n",
       "4        4.720742         5.827520e+05                No              0.0  "
      ]
     },
     "execution_count": 14,
     "metadata": {},
     "output_type": "execute_result"
    }
   ],
   "source": [
    "june_model.scenario_results.head()"
   ]
  },
  {
   "cell_type": "markdown",
   "id": "3ae4add0-6924-42b3-920d-221944b49fa3",
   "metadata": {},
   "source": [
    "## Summary stats for June"
   ]
  },
  {
   "cell_type": "code",
   "execution_count": 15,
   "id": "7d2ac166-2067-41fe-b552-560158fd4ce6",
   "metadata": {},
   "outputs": [
    {
     "name": "stdout",
     "output_type": "stream",
     "text": [
      "Emissions by year calculations complete. Access the annual emissions dataframe as model_name.emissions_by_year\n"
     ]
    }
   ],
   "source": [
    "june_model.get_total_emissions_by_year()"
   ]
  },
  {
   "cell_type": "code",
   "execution_count": 16,
   "id": "9fb7b2e6-04c3-4f38-b097-4b05265f3750",
   "metadata": {},
   "outputs": [
    {
     "data": {
      "text/html": [
       "<div>\n",
       "<style scoped>\n",
       "    .dataframe tbody tr th:only-of-type {\n",
       "        vertical-align: middle;\n",
       "    }\n",
       "\n",
       "    .dataframe tbody tr th {\n",
       "        vertical-align: top;\n",
       "    }\n",
       "\n",
       "    .dataframe thead th {\n",
       "        text-align: right;\n",
       "    }\n",
       "</style>\n",
       "<table border=\"1\" class=\"dataframe\">\n",
       "  <thead>\n",
       "    <tr style=\"text-align: right;\">\n",
       "      <th></th>\n",
       "      <th>compliant_emissions</th>\n",
       "    </tr>\n",
       "    <tr>\n",
       "      <th>year</th>\n",
       "      <th></th>\n",
       "    </tr>\n",
       "  </thead>\n",
       "  <tbody>\n",
       "    <tr>\n",
       "      <th>2027.0</th>\n",
       "      <td>9.310595e+08</td>\n",
       "    </tr>\n",
       "    <tr>\n",
       "      <th>2028.0</th>\n",
       "      <td>9.310595e+08</td>\n",
       "    </tr>\n",
       "    <tr>\n",
       "      <th>2029.0</th>\n",
       "      <td>9.310595e+08</td>\n",
       "    </tr>\n",
       "    <tr>\n",
       "      <th>2030.0</th>\n",
       "      <td>8.970770e+08</td>\n",
       "    </tr>\n",
       "    <tr>\n",
       "      <th>2031.0</th>\n",
       "      <td>3.434390e+08</td>\n",
       "    </tr>\n",
       "  </tbody>\n",
       "</table>\n",
       "</div>"
      ],
      "text/plain": [
       "        compliant_emissions\n",
       "year                       \n",
       "2027.0         9.310595e+08\n",
       "2028.0         9.310595e+08\n",
       "2029.0         9.310595e+08\n",
       "2030.0         8.970770e+08\n",
       "2031.0         3.434390e+08"
      ]
     },
     "execution_count": 16,
     "metadata": {},
     "output_type": "execute_result"
    }
   ],
   "source": [
    "june_model.emissions_by_year.head()"
   ]
  },
  {
   "cell_type": "code",
   "execution_count": 17,
   "id": "1db2eeff-aaf6-433d-9c7c-5a88f7d3ef3d",
   "metadata": {},
   "outputs": [
    {
     "data": {
      "text/plain": [
       "0.8208085863032639"
      ]
     },
     "execution_count": 17,
     "metadata": {},
     "output_type": "execute_result"
    }
   ],
   "source": [
    "june_model.get_percent_emissions_reduction_by_given_year(2040)"
   ]
  },
  {
   "cell_type": "code",
   "execution_count": 18,
   "id": "287d1562-150c-4a07-b11d-e171bd96bbd2",
   "metadata": {},
   "outputs": [
    {
     "data": {
      "text/plain": [
       "compliant_emissions    6.613525e+09\n",
       "dtype: float64"
      ]
     },
     "execution_count": 18,
     "metadata": {},
     "output_type": "execute_result"
    }
   ],
   "source": [
    "june_model.emissions_by_year.sum()"
   ]
  },
  {
   "cell_type": "markdown",
   "id": "26446b18-afeb-429d-9961-a5cd4131b39c",
   "metadata": {},
   "source": [
    "The June proposal results in 6,610,000 metric tons (6.61 * 10**9 kgs) of carbon emitted between 2027 and 2050.\n",
    "\n",
    "By 2040, the June proposal will have reduced emissions from large buildings in Seattle by 82%.\n"
   ]
  },
  {
   "cell_type": "code",
   "execution_count": 19,
   "id": "680acaf3-fd20-4390-8115-b4bfa9404e4d",
   "metadata": {},
   "outputs": [],
   "source": [
    "june_model.scenario_results.to_csv('../data/output_data/cleaned_public_data_june_scenario.csv')\n",
    "june_model.emissions_by_year.to_csv('../data/output_data/cleaned_public_data_june_scenario_by_year.csv')\n",
    "\n",
    "jan_model.scenario_results.to_csv('../data/output_data/cleaned_public_data_jan_scenario.csv')\n",
    "jan_model.emissions_by_year.to_csv('../data/output_data/cleaned_public_data_jan_scenario_by_year.csv')"
   ]
  },
  {
   "cell_type": "markdown",
   "id": "4ace0dd1-7dd6-4dd8-b1b8-b2b047adcda5",
   "metadata": {},
   "source": [
    "## Comparing January and June"
   ]
  },
  {
   "cell_type": "code",
   "execution_count": null,
   "id": "f8b9f78f-2222-44d6-9297-140d478d272d",
   "metadata": {},
   "outputs": [],
   "source": [
    "june_model.emissions_by_year.sum()"
   ]
  },
  {
   "cell_type": "code",
   "execution_count": null,
   "id": "e4a0f089-0580-4927-ae45-4384825bffbe",
   "metadata": {},
   "outputs": [],
   "source": [
    "jan_model.emissions_by_year.sum()"
   ]
  },
  {
   "cell_type": "code",
   "execution_count": null,
   "id": "182b7385-af8c-40de-a975-4c9d42acfb59",
   "metadata": {},
   "outputs": [],
   "source": [
    "sns.lineplot(data=june_model.emissions_by_year)\n",
    "plt.show()"
   ]
  },
  {
   "cell_type": "code",
   "execution_count": null,
   "id": "2303628f-1cf6-4858-8ce9-2bcf1fb7eba2",
   "metadata": {},
   "outputs": [],
   "source": [
    "sns.lineplot(data=jan_model.emissions_by_year)\n",
    "plt.show()"
   ]
  },
  {
   "cell_type": "markdown",
   "id": "b6c8b0fc-aa72-4936-b5b0-43e306e457b3",
   "metadata": {},
   "source": [
    "That's twice as much emissions in June vs January.\n",
    "\n",
    "However, the steep drop in the June proposal isn't completely out of whack. What's going on is that the electricity emissions factor drops by 50% in 2030. So that's a huge reduction. Then the first targets go into effect in 2031. Between those two things, "
   ]
  }
 ],
 "metadata": {
  "kernelspec": {
   "display_name": "Python 3 (ipykernel)",
   "language": "python",
   "name": "python3"
  },
  "language_info": {
   "codemirror_mode": {
    "name": "ipython",
    "version": 3
   },
   "file_extension": ".py",
   "mimetype": "text/x-python",
   "name": "python",
   "nbconvert_exporter": "python",
   "pygments_lexer": "ipython3",
   "version": "3.11.3"
  }
 },
 "nbformat": 4,
 "nbformat_minor": 5
}
