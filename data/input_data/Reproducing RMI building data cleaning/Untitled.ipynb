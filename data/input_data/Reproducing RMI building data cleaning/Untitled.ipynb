{
 "cells": [
  {
   "cell_type": "code",
   "execution_count": 1,
   "id": "bb12578b-7906-4e67-a790-10703820cedc",
   "metadata": {},
   "outputs": [],
   "source": [
    "import pandas as pd\n",
    "import numpy as np"
   ]
  },
  {
   "cell_type": "code",
   "execution_count": 2,
   "id": "d34f6560-353d-451a-8fc9-15dad9065c71",
   "metadata": {},
   "outputs": [],
   "source": [
    "rmi_data = pd.read_csv('../rmi_building_analysis_with_new_col_names.csv')\n",
    "our_data = pd.read_csv('cleaned_building_data_with_policy_gfa_9_11.csv')"
   ]
  },
  {
   "cell_type": "code",
   "execution_count": 4,
   "id": "fa39e252-aa2a-4746-80f8-7a9482acbe8b",
   "metadata": {},
   "outputs": [
    {
     "data": {
      "text/plain": [
       "3580"
      ]
     },
     "execution_count": 4,
     "metadata": {},
     "output_type": "execute_result"
    }
   ],
   "source": [
    "len(rmi_data)"
   ]
  },
  {
   "cell_type": "code",
   "execution_count": 5,
   "id": "d706d9be-c1c9-44c0-aace-6a1509708980",
   "metadata": {},
   "outputs": [
    {
     "data": {
      "text/plain": [
       "3473"
      ]
     },
     "execution_count": 5,
     "metadata": {},
     "output_type": "execute_result"
    }
   ],
   "source": [
    "len(our_data)"
   ]
  },
  {
   "cell_type": "code",
   "execution_count": 8,
   "id": "d2f36144-3f2c-4ed0-aaee-95ee5b3ab8b2",
   "metadata": {},
   "outputs": [
    {
     "data": {
      "text/plain": [
       "Index(['Unnamed: 0.4', 'Unnamed: 0.3', 'Unnamed: 0.2', 'Unnamed: 0.1',\n",
       "       'Unnamed: 0', 'OSEBuildingID', 'BuildingName', 'BuildingType',\n",
       "       'Type_of_Bulding', 'PropertyGFATotal', 'PropertyGFABuilding(s)',\n",
       "       'PropertyGFAParking', 'Total GFA for Policy',\n",
       "       'LargestPropertyUseType Percent GFA',\n",
       "       'SecondLargestPropertyUseType Percent GFA',\n",
       "       'ThirdLargestPropertyUseType Percent GFA', 'LargestPropertyUseType',\n",
       "       'LargestPropertyUseType OSE', 'LargestPropertyUseTypeGFA',\n",
       "       'LargestPropertyUseTypeGFA Analysis', 'SecondLargestPropertyUseType',\n",
       "       'SecondLargestPropertyUseType OSE', 'SecondLargestPropertyUseTypeGFA',\n",
       "       'SecondLargestPropertyUseTypeGFA Analysis',\n",
       "       'ThirdLargestPropertyUseType', 'ThirdLargestPropertyUseType OSE',\n",
       "       'ThirdLargestPropertyUseTypeGFA',\n",
       "       'ThirdLargestPropertyUseTypeGFA Analysis', 'Electricity(kBtu)',\n",
       "       'SteamUse(kBtu)', 'NaturalGas(kBtu)', 'TotalGHGEmissions',\n",
       "       'GHGEmissionsIntensity', 'Total_GFA', 'sq_ft_classification'],\n",
       "      dtype='object')"
      ]
     },
     "execution_count": 8,
     "metadata": {},
     "output_type": "execute_result"
    }
   ],
   "source": [
    "rmi_data.columns"
   ]
  },
  {
   "cell_type": "code",
   "execution_count": 6,
   "id": "5301080c-cdb4-42b2-8334-d2f6f1644153",
   "metadata": {},
   "outputs": [
    {
     "data": {
      "text/plain": [
       "Index(['Unnamed: 0', 'OSEBuildingID', 'TaxParcelIdentificationNumber',\n",
       "       'DataYear', 'BuildingType', 'BuildingName', 'NaturalGas(kBtu)',\n",
       "       'Electricity(kBtu)', 'SteamUse(kBtu)', 'PropertyGFATotal',\n",
       "       'PropertyGFABuilding(s)', 'PropertyGFAParking',\n",
       "       'LargestPropertyUseType', 'LargestPropertyUseTypeGFA',\n",
       "       'SecondLargestPropertyUseType', 'SecondLargestPropertyUseTypeGFA',\n",
       "       'ThirdLargestPropertyUseType', 'ThirdLargestPropertyUseTypeGFA',\n",
       "       'OSE Building Type', 'LargestPropertyUseType OSE',\n",
       "       'SecondLargestPropertyUseType OSE', 'ThirdLargestPropertyUseType OSE',\n",
       "       'LargestPropertyUseType OSE GFA for Policy',\n",
       "       'SecondLargestPropertyUseType OSE GFA for Policy',\n",
       "       'ThirdLargestPropertyUseType OSE GFA for Policy',\n",
       "       'Total GFA for Policy', 'LargestPropertyUseType Percent GFA',\n",
       "       'SecondLargestPropertyUseType Percent GFA',\n",
       "       'ThirdLargestPropertyUseType Percent GFA', 'sq_ft_classification'],\n",
       "      dtype='object')"
      ]
     },
     "execution_count": 6,
     "metadata": {},
     "output_type": "execute_result"
    }
   ],
   "source": [
    "our_data.columns"
   ]
  },
  {
   "cell_type": "code",
   "execution_count": 11,
   "id": "ba1d3f39-c679-4178-8015-11bcaae966b5",
   "metadata": {},
   "outputs": [],
   "source": [
    "mini_rmi = rmi_data[['OSEBuildingID', 'Total GFA for Policy']]\n",
    "mini_rmi.columns = ['OSEBuildingID', 'RMI Total GFA for Policy']"
   ]
  },
  {
   "cell_type": "code",
   "execution_count": 15,
   "id": "5580057f-6639-4b4f-b3d1-a31c49d37882",
   "metadata": {},
   "outputs": [],
   "source": [
    "compare = our_data[['OSEBuildingID', 'Total GFA for Policy']].merge(mini_rmi, on='OSEBuildingID', how='left')"
   ]
  },
  {
   "cell_type": "code",
   "execution_count": 16,
   "id": "53c8faa4-efb6-485f-ba12-6e774d581f76",
   "metadata": {},
   "outputs": [
    {
     "data": {
      "text/html": [
       "<div>\n",
       "<style scoped>\n",
       "    .dataframe tbody tr th:only-of-type {\n",
       "        vertical-align: middle;\n",
       "    }\n",
       "\n",
       "    .dataframe tbody tr th {\n",
       "        vertical-align: top;\n",
       "    }\n",
       "\n",
       "    .dataframe thead th {\n",
       "        text-align: right;\n",
       "    }\n",
       "</style>\n",
       "<table border=\"1\" class=\"dataframe\">\n",
       "  <thead>\n",
       "    <tr style=\"text-align: right;\">\n",
       "      <th></th>\n",
       "      <th>OSEBuildingID</th>\n",
       "      <th>Total GFA for Policy</th>\n",
       "      <th>RMI Total GFA for Policy</th>\n",
       "    </tr>\n",
       "  </thead>\n",
       "  <tbody>\n",
       "    <tr>\n",
       "      <th>0</th>\n",
       "      <td>1</td>\n",
       "      <td>88434.0</td>\n",
       "      <td>88434.0</td>\n",
       "    </tr>\n",
       "    <tr>\n",
       "      <th>1</th>\n",
       "      <td>2</td>\n",
       "      <td>88502.0</td>\n",
       "      <td>88502.0</td>\n",
       "    </tr>\n",
       "    <tr>\n",
       "      <th>2</th>\n",
       "      <td>3</td>\n",
       "      <td>756493.0</td>\n",
       "      <td>756493.0</td>\n",
       "    </tr>\n",
       "    <tr>\n",
       "      <th>3</th>\n",
       "      <td>5</td>\n",
       "      <td>61320.0</td>\n",
       "      <td>61320.0</td>\n",
       "    </tr>\n",
       "    <tr>\n",
       "      <th>4</th>\n",
       "      <td>8</td>\n",
       "      <td>123445.0</td>\n",
       "      <td>123445.0</td>\n",
       "    </tr>\n",
       "  </tbody>\n",
       "</table>\n",
       "</div>"
      ],
      "text/plain": [
       "   OSEBuildingID  Total GFA for Policy  RMI Total GFA for Policy\n",
       "0              1               88434.0                   88434.0\n",
       "1              2               88502.0                   88502.0\n",
       "2              3              756493.0                  756493.0\n",
       "3              5               61320.0                   61320.0\n",
       "4              8              123445.0                  123445.0"
      ]
     },
     "execution_count": 16,
     "metadata": {},
     "output_type": "execute_result"
    }
   ],
   "source": [
    "compare.head()"
   ]
  },
  {
   "cell_type": "code",
   "execution_count": 17,
   "id": "cc35b432-0e7b-48b3-b27a-7c92a05c10ee",
   "metadata": {},
   "outputs": [],
   "source": [
    "compare['same_gfa'] = compare['Total GFA for Policy'] == compare['RMI Total GFA for Policy']"
   ]
  },
  {
   "cell_type": "code",
   "execution_count": 20,
   "id": "0ee24d8e-508c-4141-bdfc-01064a28b8f0",
   "metadata": {},
   "outputs": [
    {
     "data": {
      "text/html": [
       "<div>\n",
       "<style scoped>\n",
       "    .dataframe tbody tr th:only-of-type {\n",
       "        vertical-align: middle;\n",
       "    }\n",
       "\n",
       "    .dataframe tbody tr th {\n",
       "        vertical-align: top;\n",
       "    }\n",
       "\n",
       "    .dataframe thead th {\n",
       "        text-align: right;\n",
       "    }\n",
       "</style>\n",
       "<table border=\"1\" class=\"dataframe\">\n",
       "  <thead>\n",
       "    <tr style=\"text-align: right;\">\n",
       "      <th></th>\n",
       "      <th>OSEBuildingID</th>\n",
       "      <th>Total GFA for Policy</th>\n",
       "      <th>RMI Total GFA for Policy</th>\n",
       "      <th>same_gfa</th>\n",
       "    </tr>\n",
       "  </thead>\n",
       "  <tbody>\n",
       "    <tr>\n",
       "      <th>540</th>\n",
       "      <td>755</td>\n",
       "      <td>331613.0</td>\n",
       "      <td>NaN</td>\n",
       "      <td>False</td>\n",
       "    </tr>\n",
       "    <tr>\n",
       "      <th>541</th>\n",
       "      <td>756</td>\n",
       "      <td>71129.0</td>\n",
       "      <td>331613.0</td>\n",
       "      <td>False</td>\n",
       "    </tr>\n",
       "    <tr>\n",
       "      <th>542</th>\n",
       "      <td>757</td>\n",
       "      <td>148655.0</td>\n",
       "      <td>71129.0</td>\n",
       "      <td>False</td>\n",
       "    </tr>\n",
       "    <tr>\n",
       "      <th>543</th>\n",
       "      <td>758</td>\n",
       "      <td>741684.0</td>\n",
       "      <td>148655.0</td>\n",
       "      <td>False</td>\n",
       "    </tr>\n",
       "    <tr>\n",
       "      <th>544</th>\n",
       "      <td>759</td>\n",
       "      <td>45820.0</td>\n",
       "      <td>741684.0</td>\n",
       "      <td>False</td>\n",
       "    </tr>\n",
       "    <tr>\n",
       "      <th>...</th>\n",
       "      <td>...</td>\n",
       "      <td>...</td>\n",
       "      <td>...</td>\n",
       "      <td>...</td>\n",
       "    </tr>\n",
       "    <tr>\n",
       "      <th>3468</th>\n",
       "      <td>50539</td>\n",
       "      <td>626750.0</td>\n",
       "      <td>95000.0</td>\n",
       "      <td>False</td>\n",
       "    </tr>\n",
       "    <tr>\n",
       "      <th>3469</th>\n",
       "      <td>50542</td>\n",
       "      <td>63360.0</td>\n",
       "      <td>0.0</td>\n",
       "      <td>False</td>\n",
       "    </tr>\n",
       "    <tr>\n",
       "      <th>3470</th>\n",
       "      <td>50543</td>\n",
       "      <td>67626.0</td>\n",
       "      <td>63360.0</td>\n",
       "      <td>False</td>\n",
       "    </tr>\n",
       "    <tr>\n",
       "      <th>3471</th>\n",
       "      <td>50633</td>\n",
       "      <td>74863.0</td>\n",
       "      <td>67626.0</td>\n",
       "      <td>False</td>\n",
       "    </tr>\n",
       "    <tr>\n",
       "      <th>3472</th>\n",
       "      <td>50634</td>\n",
       "      <td>104460.0</td>\n",
       "      <td>74863.0</td>\n",
       "      <td>False</td>\n",
       "    </tr>\n",
       "  </tbody>\n",
       "</table>\n",
       "<p>2930 rows × 4 columns</p>\n",
       "</div>"
      ],
      "text/plain": [
       "      OSEBuildingID  Total GFA for Policy  RMI Total GFA for Policy  same_gfa\n",
       "540             755              331613.0                       NaN     False\n",
       "541             756               71129.0                  331613.0     False\n",
       "542             757              148655.0                   71129.0     False\n",
       "543             758              741684.0                  148655.0     False\n",
       "544             759               45820.0                  741684.0     False\n",
       "...             ...                   ...                       ...       ...\n",
       "3468          50539              626750.0                   95000.0     False\n",
       "3469          50542               63360.0                       0.0     False\n",
       "3470          50543               67626.0                   63360.0     False\n",
       "3471          50633               74863.0                   67626.0     False\n",
       "3472          50634              104460.0                   74863.0     False\n",
       "\n",
       "[2930 rows x 4 columns]"
      ]
     },
     "execution_count": 20,
     "metadata": {},
     "output_type": "execute_result"
    }
   ],
   "source": [
    "compare[compare['same_gfa'] == False]"
   ]
  },
  {
   "cell_type": "code",
   "execution_count": 21,
   "id": "e27f0349-a676-427d-b6a8-93adec1c3452",
   "metadata": {},
   "outputs": [],
   "source": [
    "rmi_building_types = rmi_data[['OSEBuildingID', 'Total GFA for Policy', 'LargestPropertyUseType',\n",
    "       'SecondLargestPropertyUseType',\n",
    "       'ThirdLargestPropertyUseType']]\n",
    "\n",
    "rmi_building_types.columns = ['OSEBuildingID', 'RMI Total GFA for Policy', 'RMI LargestPropertyUseType',\n",
    "       'RMI SecondLargestPropertyUseType',\n",
    "       'RMI ThirdLargestPropertyUseType']"
   ]
  },
  {
   "cell_type": "code",
   "execution_count": 22,
   "id": "e65f0ff6-e3f6-4fdf-b61f-5df5c00b406c",
   "metadata": {},
   "outputs": [],
   "source": [
    "compare_building_types = our_data[['OSEBuildingID', 'Total GFA for Policy', 'LargestPropertyUseType',\n",
    "       'SecondLargestPropertyUseType',\n",
    "       'ThirdLargestPropertyUseType']].merge(rmi_building_types, on='OSEBuildingID', how='left')"
   ]
  },
  {
   "cell_type": "code",
   "execution_count": 27,
   "id": "b6d15231-95fe-4f44-b826-d6a29deea848",
   "metadata": {},
   "outputs": [],
   "source": [
    "compare_building_types['types_match'] = (compare_building_types['LargestPropertyUseType'] == compare_building_types['RMI LargestPropertyUseType']) & (compare_building_types['SecondLargestPropertyUseType'] == compare_building_types['RMI SecondLargestPropertyUseType']) & (compare_building_types['ThirdLargestPropertyUseType'] == compare_building_types['RMI ThirdLargestPropertyUseType'])"
   ]
  },
  {
   "cell_type": "code",
   "execution_count": 28,
   "id": "8034e172-b687-4bd9-8814-0d48f0e7d7b8",
   "metadata": {},
   "outputs": [
    {
     "data": {
      "text/plain": [
       "166"
      ]
     },
     "execution_count": 28,
     "metadata": {},
     "output_type": "execute_result"
    }
   ],
   "source": [
    "compare_building_types['types_match'].sum()"
   ]
  }
 ],
 "metadata": {
  "kernelspec": {
   "display_name": "Python 3 (ipykernel)",
   "language": "python",
   "name": "python3"
  },
  "language_info": {
   "codemirror_mode": {
    "name": "ipython",
    "version": 3
   },
   "file_extension": ".py",
   "mimetype": "text/x-python",
   "name": "python",
   "nbconvert_exporter": "python",
   "pygments_lexer": "ipython3",
   "version": "3.11.3"
  }
 },
 "nbformat": 4,
 "nbformat_minor": 5
}
