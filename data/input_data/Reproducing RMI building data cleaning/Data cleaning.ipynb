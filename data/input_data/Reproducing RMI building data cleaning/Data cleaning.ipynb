{
 "cells": [
  {
   "cell_type": "code",
   "execution_count": 1,
   "id": "74e60429-8b7a-436d-bc9e-e446d22bbe7d",
   "metadata": {},
   "outputs": [],
   "source": [
    "import pandas as pd\n",
    "import numpy as np"
   ]
  },
  {
   "cell_type": "markdown",
   "id": "90954a8d-cb55-4adf-a190-50931361331f",
   "metadata": {},
   "source": [
    "## Clean up building data\n",
    "\n",
    "Start with the raw 2019 data from the City of Seattle.\n",
    "\n",
    "Calculate extra fields:\n",
    "- OSE Building Type: mapping between the City's Building Type and the building types used by OSE. See `city_building_types.csv` for mapping. These are generic categories like \"Nonresidential\" and \"Multifamily\".\n",
    "- OSE Property Use fields: this is a mapping of EPA property use types to the types used by OSE. See `building_activity_types.csv` for mapping. These are more detailed categories like \"Hospital\" or \"Restaurant\".\n",
    "- Property Use Type GFA for Policy fields: the GFA for Policy is the same as the GFA unless it is one of the use types \"Data Center\" and \"Parking\" that aren't subject to the policy (then it's 0).\n",
    "- Total GFA for Policy: sum of the Property Use Type GFA for Policy fields\n",
    "- PropertyUseType Percent GFA fields: percent of a building's total GFA that is from the given property use type. Zero if the use type is not covered by the policy"
   ]
  },
  {
   "cell_type": "code",
   "execution_count": 2,
   "id": "d0003dc6-bfd7-4b65-b082-5c014b2d1173",
   "metadata": {},
   "outputs": [],
   "source": [
    "raw_building_data = pd.read_csv('../../data/input_data/seattle_large_building_data_2019.csv')"
   ]
  },
  {
   "cell_type": "code",
   "execution_count": 3,
   "id": "d26aa335-a365-4e3b-afea-2341f4f7e52b",
   "metadata": {},
   "outputs": [
    {
     "data": {
      "text/plain": [
       "Index(['OSEBuildingID', 'TaxParcelIdentificationNumber', 'DataYear',\n",
       "       'BuildingType', 'BuildingName', 'CouncilDistrictCode', 'Neighborhood',\n",
       "       'YearBuilt', 'Address', 'City', 'State', 'ZipCode', 'Latitude',\n",
       "       'Longitude', 'PrimaryPropertyType', 'ListOfAllPropertyUseTypes',\n",
       "       'EPAPropertyType', 'TotalGHGEmissions', 'ENERGYSTARScore',\n",
       "       'YearsENERGYSTARCertified', 'SiteEUI(kBtu/sf)', 'SiteEUIWN(kBtu/sf)',\n",
       "       'SiteEnergyUse(kBtu)', 'SiteEnergyUseWN(kBtu)', 'SourceEUI(kBtu/sf)',\n",
       "       'SourceEUIWN(kBtu/sf)', 'GHGEmissions(MetricTonsCO2e)',\n",
       "       'GHGEmissionsIntensity', 'GHGEmissionsIntensity(kgCO2e/ft2)',\n",
       "       'NaturalGas(kBtu)', 'NaturalGas(therms)', 'Electricity(kBtu)',\n",
       "       'Electricity(kWh)', 'SteamUse(kBtu)', 'OtherFuelUse(kBtu)',\n",
       "       'PropertyGFATotal', 'PropertyGFABuilding(s)', 'PropertyGFAParking',\n",
       "       'NumberofBuildings', 'NumberofFloors', 'LargestPropertyUseType',\n",
       "       'LargestPropertyUseTypeGFA', 'SecondLargestPropertyUseType',\n",
       "       'SecondLargestPropertyUseTypeGFA', 'ThirdLargestPropertyUseType',\n",
       "       'ThirdLargestPropertyUseTypeGFA', 'Outlier', 'ComplianceIssue',\n",
       "       'ComplianceStatus'],\n",
       "      dtype='object')"
      ]
     },
     "execution_count": 3,
     "metadata": {},
     "output_type": "execute_result"
    }
   ],
   "source": [
    "raw_building_data.columns"
   ]
  },
  {
   "cell_type": "code",
   "execution_count": 4,
   "id": "dba1ef1e-99b7-4c38-a8eb-f8d267be71ba",
   "metadata": {},
   "outputs": [],
   "source": [
    "cleaned_building_data = raw_building_data[[\n",
    "    'OSEBuildingID', \n",
    "    'TaxParcelIdentificationNumber', \n",
    "    'DataYear',\n",
    "    'BuildingType', \n",
    "    'BuildingName', \n",
    "    'NaturalGas(kBtu)', \n",
    "    'Electricity(kBtu)', \n",
    "    'SteamUse(kBtu)', \n",
    "    'PropertyGFATotal', \n",
    "    'PropertyGFABuilding(s)', \n",
    "    'PropertyGFAParking', \n",
    "    'LargestPropertyUseType',\n",
    "    'LargestPropertyUseTypeGFA', \n",
    "    'SecondLargestPropertyUseType',\n",
    "    'SecondLargestPropertyUseTypeGFA', \n",
    "    'ThirdLargestPropertyUseType',\n",
    "    'ThirdLargestPropertyUseTypeGFA'\n",
    "]]"
   ]
  },
  {
   "cell_type": "code",
   "execution_count": 5,
   "id": "5c579b46-8528-4397-989d-9f3d3d76870b",
   "metadata": {},
   "outputs": [],
   "source": [
    "# Map OSE Building Type\n",
    "\n",
    "city_building_types_mapping = pd.read_csv('../../data_new/input_data/city_building_types.csv')\n",
    "building_types = dict(zip(list(city_building_types_mapping['BuildingType (City classification)']), list(city_building_types_mapping['Type (Legislative classification)'])))"
   ]
  },
  {
   "cell_type": "code",
   "execution_count": 6,
   "id": "a0499951-c284-4b4e-a8b8-49872c2b577b",
   "metadata": {},
   "outputs": [
    {
     "name": "stderr",
     "output_type": "stream",
     "text": [
      "/var/folders/dv/sn1_d0xn0vncjbncdpkkg_pc0000gn/T/ipykernel_6458/356869480.py:1: SettingWithCopyWarning: \n",
      "A value is trying to be set on a copy of a slice from a DataFrame.\n",
      "Try using .loc[row_indexer,col_indexer] = value instead\n",
      "\n",
      "See the caveats in the documentation: https://pandas.pydata.org/pandas-docs/stable/user_guide/indexing.html#returning-a-view-versus-a-copy\n",
      "  cleaned_building_data['OSE Building Type'] = cleaned_building_data.apply(lambda building: building_types[building['BuildingType']], axis=1)\n"
     ]
    }
   ],
   "source": [
    "cleaned_building_data['OSE Building Type'] = cleaned_building_data.apply(lambda building: building_types[building['BuildingType']], axis=1)"
   ]
  },
  {
   "cell_type": "code",
   "execution_count": 7,
   "id": "96216cf2-1db7-45d7-926c-47f500da5474",
   "metadata": {},
   "outputs": [
    {
     "data": {
      "text/html": [
       "<div>\n",
       "<style scoped>\n",
       "    .dataframe tbody tr th:only-of-type {\n",
       "        vertical-align: middle;\n",
       "    }\n",
       "\n",
       "    .dataframe tbody tr th {\n",
       "        vertical-align: top;\n",
       "    }\n",
       "\n",
       "    .dataframe thead th {\n",
       "        text-align: right;\n",
       "    }\n",
       "</style>\n",
       "<table border=\"1\" class=\"dataframe\">\n",
       "  <thead>\n",
       "    <tr style=\"text-align: right;\">\n",
       "      <th></th>\n",
       "      <th>BuildingType</th>\n",
       "      <th>OSE Building Type</th>\n",
       "    </tr>\n",
       "  </thead>\n",
       "  <tbody>\n",
       "    <tr>\n",
       "      <th>0</th>\n",
       "      <td>NonResidential</td>\n",
       "      <td>NonResidential</td>\n",
       "    </tr>\n",
       "    <tr>\n",
       "      <th>1</th>\n",
       "      <td>NonResidential</td>\n",
       "      <td>NonResidential</td>\n",
       "    </tr>\n",
       "    <tr>\n",
       "      <th>2</th>\n",
       "      <td>NonResidential</td>\n",
       "      <td>NonResidential</td>\n",
       "    </tr>\n",
       "    <tr>\n",
       "      <th>3</th>\n",
       "      <td>NonResidential</td>\n",
       "      <td>NonResidential</td>\n",
       "    </tr>\n",
       "    <tr>\n",
       "      <th>4</th>\n",
       "      <td>NonResidential</td>\n",
       "      <td>NonResidential</td>\n",
       "    </tr>\n",
       "  </tbody>\n",
       "</table>\n",
       "</div>"
      ],
      "text/plain": [
       "     BuildingType OSE Building Type\n",
       "0  NonResidential    NonResidential\n",
       "1  NonResidential    NonResidential\n",
       "2  NonResidential    NonResidential\n",
       "3  NonResidential    NonResidential\n",
       "4  NonResidential    NonResidential"
      ]
     },
     "execution_count": 7,
     "metadata": {},
     "output_type": "execute_result"
    }
   ],
   "source": [
    "cleaned_building_data[['BuildingType', 'OSE Building Type']].head()"
   ]
  },
  {
   "cell_type": "code",
   "execution_count": 8,
   "id": "760fd716-b2bb-4ed0-b192-fe53b45ea799",
   "metadata": {},
   "outputs": [],
   "source": [
    "# Map use types"
   ]
  },
  {
   "cell_type": "code",
   "execution_count": 9,
   "id": "09c03e21-0f86-4d49-9a51-47878312fe7e",
   "metadata": {},
   "outputs": [],
   "source": [
    "ose_use_types = pd.read_csv('../../data_new/input_data/building_activity_types.csv')\n",
    "ose_use_types.columns\n",
    "ose_use_types_mapping = dict(zip(ose_use_types['EPA Building Type'], ose_use_types['OSE Building Type']))"
   ]
  },
  {
   "cell_type": "code",
   "execution_count": 10,
   "id": "6290e5ac-5646-4940-850b-ab91ef67fa23",
   "metadata": {},
   "outputs": [
    {
     "name": "stderr",
     "output_type": "stream",
     "text": [
      "/var/folders/dv/sn1_d0xn0vncjbncdpkkg_pc0000gn/T/ipykernel_6458/4016502074.py:1: SettingWithCopyWarning: \n",
      "A value is trying to be set on a copy of a slice from a DataFrame.\n",
      "Try using .loc[row_indexer,col_indexer] = value instead\n",
      "\n",
      "See the caveats in the documentation: https://pandas.pydata.org/pandas-docs/stable/user_guide/indexing.html#returning-a-view-versus-a-copy\n",
      "  cleaned_building_data['LargestPropertyUseType OSE'] = cleaned_building_data.apply(lambda building: ose_use_types_mapping[building['LargestPropertyUseType']], axis=1)\n",
      "/var/folders/dv/sn1_d0xn0vncjbncdpkkg_pc0000gn/T/ipykernel_6458/4016502074.py:2: SettingWithCopyWarning: \n",
      "A value is trying to be set on a copy of a slice from a DataFrame.\n",
      "Try using .loc[row_indexer,col_indexer] = value instead\n",
      "\n",
      "See the caveats in the documentation: https://pandas.pydata.org/pandas-docs/stable/user_guide/indexing.html#returning-a-view-versus-a-copy\n",
      "  cleaned_building_data['SecondLargestPropertyUseType OSE'] = cleaned_building_data.apply(lambda building: ose_use_types_mapping[building['SecondLargestPropertyUseType']], axis=1)\n",
      "/var/folders/dv/sn1_d0xn0vncjbncdpkkg_pc0000gn/T/ipykernel_6458/4016502074.py:3: SettingWithCopyWarning: \n",
      "A value is trying to be set on a copy of a slice from a DataFrame.\n",
      "Try using .loc[row_indexer,col_indexer] = value instead\n",
      "\n",
      "See the caveats in the documentation: https://pandas.pydata.org/pandas-docs/stable/user_guide/indexing.html#returning-a-view-versus-a-copy\n",
      "  cleaned_building_data['ThirdLargestPropertyUseType OSE'] = cleaned_building_data.apply(lambda building: ose_use_types_mapping[building['ThirdLargestPropertyUseType']], axis=1)\n"
     ]
    }
   ],
   "source": [
    "cleaned_building_data['LargestPropertyUseType OSE'] = cleaned_building_data.apply(lambda building: ose_use_types_mapping[building['LargestPropertyUseType']], axis=1)\n",
    "cleaned_building_data['SecondLargestPropertyUseType OSE'] = cleaned_building_data.apply(lambda building: ose_use_types_mapping[building['SecondLargestPropertyUseType']], axis=1)\n",
    "cleaned_building_data['ThirdLargestPropertyUseType OSE'] = cleaned_building_data.apply(lambda building: ose_use_types_mapping[building['ThirdLargestPropertyUseType']], axis=1)"
   ]
  },
  {
   "cell_type": "code",
   "execution_count": 11,
   "id": "0fa52772-c91d-4276-857b-9d9cf8deadae",
   "metadata": {},
   "outputs": [
    {
     "data": {
      "text/plain": [
       "array(['Hotel', 'Fire/Police Station', 'Entertainment/Public Assembly',\n",
       "       'Multifamily Housing', 'Services', 'Recreation', 'Other',\n",
       "       'K-12 School', 'College/University', 'Office',\n",
       "       'Self-Storage Facility', 'Retail Store', 'Senior Living Community',\n",
       "       'Supermarket/Grocery Store', 'Hospital',\n",
       "       'Residence Hall/Dormitory', 'Non-Refrigerated Warehouse', nan,\n",
       "       'Worship Facility', 'Laboratory', 'Restaurant',\n",
       "       'Refrigerated Warehouse'], dtype=object)"
      ]
     },
     "execution_count": 11,
     "metadata": {},
     "output_type": "execute_result"
    }
   ],
   "source": [
    "cleaned_building_data['LargestPropertyUseType OSE'].unique()"
   ]
  },
  {
   "cell_type": "code",
   "execution_count": 12,
   "id": "fd6c08ec-9ccd-426d-bda2-ca2e92e01f49",
   "metadata": {},
   "outputs": [
    {
     "data": {
      "text/plain": [
       "158         Parking\n",
       "233     Data Center\n",
       "239         Parking\n",
       "247             NaN\n",
       "283         Parking\n",
       "           ...     \n",
       "3524            NaN\n",
       "3526            NaN\n",
       "3527            NaN\n",
       "3529            NaN\n",
       "3532            NaN\n",
       "Name: LargestPropertyUseType, Length: 99, dtype: object"
      ]
     },
     "execution_count": 12,
     "metadata": {},
     "output_type": "execute_result"
    }
   ],
   "source": [
    "cleaned_building_data[cleaned_building_data['LargestPropertyUseType OSE'].isnull()]['LargestPropertyUseType']"
   ]
  },
  {
   "cell_type": "code",
   "execution_count": 13,
   "id": "0bdc4f5b-4e59-4705-8cd4-6212931fd448",
   "metadata": {},
   "outputs": [
    {
     "data": {
      "text/plain": [
       "OSEBuildingID                                                50529\n",
       "TaxParcelIdentificationNumber                           1625049001\n",
       "DataYear                                                      2019\n",
       "BuildingType                                        NonResidential\n",
       "BuildingName                        UW- New Life Sciences Building\n",
       "NaturalGas(kBtu)                                                 0\n",
       "Electricity(kBtu)                                                0\n",
       "SteamUse(kBtu)                                                   0\n",
       "PropertyGFATotal                                            210416\n",
       "PropertyGFABuilding(s)                                      210416\n",
       "PropertyGFAParking                                               0\n",
       "LargestPropertyUseType                                         NaN\n",
       "LargestPropertyUseTypeGFA                                      NaN\n",
       "SecondLargestPropertyUseType                                   NaN\n",
       "SecondLargestPropertyUseTypeGFA                                NaN\n",
       "ThirdLargestPropertyUseType                                    NaN\n",
       "ThirdLargestPropertyUseTypeGFA                                 NaN\n",
       "OSE Building Type                                   NonResidential\n",
       "LargestPropertyUseType OSE                                     NaN\n",
       "SecondLargestPropertyUseType OSE                               NaN\n",
       "ThirdLargestPropertyUseType OSE                                NaN\n",
       "Name: 3524, dtype: object"
      ]
     },
     "execution_count": 13,
     "metadata": {},
     "output_type": "execute_result"
    }
   ],
   "source": [
    "# the buildings with parking/data center/etc are fine--those uses aren't covered by the policy so NaN is the right mapping\n",
    "# but what's with these buildings with no EPA use type listed?\n",
    "cleaned_building_data.iloc[3524]"
   ]
  },
  {
   "cell_type": "code",
   "execution_count": 14,
   "id": "ca439665-3117-41ef-a996-3b247eedbc72",
   "metadata": {},
   "outputs": [],
   "source": [
    "# some buildings don't have a largest EPA use type at all\n",
    "# we can't do anything about these buildings, so we'll drop them\n",
    "\n",
    "cleaned_building_data = cleaned_building_data[~cleaned_building_data['LargestPropertyUseType'].isnull()]"
   ]
  },
  {
   "cell_type": "code",
   "execution_count": 15,
   "id": "1de8e792-599f-4f5d-86b2-7c9efe584941",
   "metadata": {},
   "outputs": [
    {
     "data": {
      "text/html": [
       "<div>\n",
       "<style scoped>\n",
       "    .dataframe tbody tr th:only-of-type {\n",
       "        vertical-align: middle;\n",
       "    }\n",
       "\n",
       "    .dataframe tbody tr th {\n",
       "        vertical-align: top;\n",
       "    }\n",
       "\n",
       "    .dataframe thead th {\n",
       "        text-align: right;\n",
       "    }\n",
       "</style>\n",
       "<table border=\"1\" class=\"dataframe\">\n",
       "  <thead>\n",
       "    <tr style=\"text-align: right;\">\n",
       "      <th></th>\n",
       "      <th>OSEBuildingID</th>\n",
       "      <th>TaxParcelIdentificationNumber</th>\n",
       "      <th>DataYear</th>\n",
       "      <th>BuildingType</th>\n",
       "      <th>BuildingName</th>\n",
       "      <th>NaturalGas(kBtu)</th>\n",
       "      <th>Electricity(kBtu)</th>\n",
       "      <th>SteamUse(kBtu)</th>\n",
       "      <th>PropertyGFATotal</th>\n",
       "      <th>PropertyGFABuilding(s)</th>\n",
       "      <th>...</th>\n",
       "      <th>LargestPropertyUseType</th>\n",
       "      <th>LargestPropertyUseTypeGFA</th>\n",
       "      <th>SecondLargestPropertyUseType</th>\n",
       "      <th>SecondLargestPropertyUseTypeGFA</th>\n",
       "      <th>ThirdLargestPropertyUseType</th>\n",
       "      <th>ThirdLargestPropertyUseTypeGFA</th>\n",
       "      <th>OSE Building Type</th>\n",
       "      <th>LargestPropertyUseType OSE</th>\n",
       "      <th>SecondLargestPropertyUseType OSE</th>\n",
       "      <th>ThirdLargestPropertyUseType OSE</th>\n",
       "    </tr>\n",
       "  </thead>\n",
       "  <tbody>\n",
       "  </tbody>\n",
       "</table>\n",
       "<p>0 rows × 21 columns</p>\n",
       "</div>"
      ],
      "text/plain": [
       "Empty DataFrame\n",
       "Columns: [OSEBuildingID, TaxParcelIdentificationNumber, DataYear, BuildingType, BuildingName, NaturalGas(kBtu), Electricity(kBtu), SteamUse(kBtu), PropertyGFATotal, PropertyGFABuilding(s), PropertyGFAParking, LargestPropertyUseType, LargestPropertyUseTypeGFA, SecondLargestPropertyUseType, SecondLargestPropertyUseTypeGFA, ThirdLargestPropertyUseType, ThirdLargestPropertyUseTypeGFA, OSE Building Type, LargestPropertyUseType OSE, SecondLargestPropertyUseType OSE, ThirdLargestPropertyUseType OSE]\n",
       "Index: []\n",
       "\n",
       "[0 rows x 21 columns]"
      ]
     },
     "execution_count": 15,
     "metadata": {},
     "output_type": "execute_result"
    }
   ],
   "source": [
    "cleaned_building_data[cleaned_building_data['LargestPropertyUseType'].isnull()]"
   ]
  },
  {
   "cell_type": "code",
   "execution_count": 20,
   "id": "c0fe0d34-be26-41b7-ab3e-655977a0af06",
   "metadata": {},
   "outputs": [],
   "source": [
    "# Property Use Type GFA for Policy\n",
    "\n",
    "cleaned_building_data['LargestPropertyUseType OSE GFA for Policy'] = cleaned_building_data.apply(lambda building: 0 if building['LargestPropertyUseType OSE'] in ('Data Center', 'Parking') else building['LargestPropertyUseTypeGFA'], axis=1)\n",
    "cleaned_building_data['SecondLargestPropertyUseType OSE GFA for Policy'] = cleaned_building_data.apply(lambda building: 0 if building['SecondLargestPropertyUseType OSE'] in ('Data Center', 'Parking') else building['SecondLargestPropertyUseTypeGFA'], axis=1)\n",
    "cleaned_building_data['ThirdLargestPropertyUseType OSE GFA for Policy'] = cleaned_building_data.apply(lambda building: 0 if building['ThirdLargestPropertyUseType OSE'] in ('Data Center', 'Parking') else building['ThirdLargestPropertyUseTypeGFA'], axis=1)"
   ]
  },
  {
   "cell_type": "code",
   "execution_count": 21,
   "id": "a9c2085e-d01b-49a2-8a57-062e44b9195f",
   "metadata": {},
   "outputs": [
    {
     "data": {
      "text/html": [
       "<div>\n",
       "<style scoped>\n",
       "    .dataframe tbody tr th:only-of-type {\n",
       "        vertical-align: middle;\n",
       "    }\n",
       "\n",
       "    .dataframe tbody tr th {\n",
       "        vertical-align: top;\n",
       "    }\n",
       "\n",
       "    .dataframe thead th {\n",
       "        text-align: right;\n",
       "    }\n",
       "</style>\n",
       "<table border=\"1\" class=\"dataframe\">\n",
       "  <thead>\n",
       "    <tr style=\"text-align: right;\">\n",
       "      <th></th>\n",
       "      <th>LargestPropertyUseType OSE GFA for Policy</th>\n",
       "      <th>SecondLargestPropertyUseType OSE GFA for Policy</th>\n",
       "      <th>ThirdLargestPropertyUseType OSE GFA for Policy</th>\n",
       "    </tr>\n",
       "  </thead>\n",
       "  <tbody>\n",
       "    <tr>\n",
       "      <th>0</th>\n",
       "      <td>88434.0</td>\n",
       "      <td>NaN</td>\n",
       "      <td>NaN</td>\n",
       "    </tr>\n",
       "    <tr>\n",
       "      <th>1</th>\n",
       "      <td>83880.0</td>\n",
       "      <td>15064.0</td>\n",
       "      <td>4622.0</td>\n",
       "    </tr>\n",
       "    <tr>\n",
       "      <th>2</th>\n",
       "      <td>756493.0</td>\n",
       "      <td>138635.0</td>\n",
       "      <td>0.0</td>\n",
       "    </tr>\n",
       "    <tr>\n",
       "      <th>3</th>\n",
       "      <td>61320.0</td>\n",
       "      <td>NaN</td>\n",
       "      <td>NaN</td>\n",
       "    </tr>\n",
       "    <tr>\n",
       "      <th>4</th>\n",
       "      <td>123445.0</td>\n",
       "      <td>68009.0</td>\n",
       "      <td>0.0</td>\n",
       "    </tr>\n",
       "  </tbody>\n",
       "</table>\n",
       "</div>"
      ],
      "text/plain": [
       "   LargestPropertyUseType OSE GFA for Policy  \\\n",
       "0                                    88434.0   \n",
       "1                                    83880.0   \n",
       "2                                   756493.0   \n",
       "3                                    61320.0   \n",
       "4                                   123445.0   \n",
       "\n",
       "   SecondLargestPropertyUseType OSE GFA for Policy  \\\n",
       "0                                              NaN   \n",
       "1                                          15064.0   \n",
       "2                                         138635.0   \n",
       "3                                              NaN   \n",
       "4                                          68009.0   \n",
       "\n",
       "   ThirdLargestPropertyUseType OSE GFA for Policy  \n",
       "0                                             NaN  \n",
       "1                                          4622.0  \n",
       "2                                             0.0  \n",
       "3                                             NaN  \n",
       "4                                             0.0  "
      ]
     },
     "execution_count": 21,
     "metadata": {},
     "output_type": "execute_result"
    }
   ],
   "source": [
    "cleaned_building_data[['LargestPropertyUseType OSE GFA for Policy', 'SecondLargestPropertyUseType OSE GFA for Policy', 'ThirdLargestPropertyUseType OSE GFA for Policy']].head()"
   ]
  },
  {
   "cell_type": "code",
   "execution_count": 22,
   "id": "32c6bd3a-8a5a-4576-a6e2-80f88bfaa265",
   "metadata": {},
   "outputs": [],
   "source": [
    "# replace NaN with 0\n",
    "cleaned_building_data[['LargestPropertyUseType OSE GFA for Policy', 'SecondLargestPropertyUseType OSE GFA for Policy', 'ThirdLargestPropertyUseType OSE GFA for Policy']] = cleaned_building_data[['LargestPropertyUseType OSE GFA for Policy', 'SecondLargestPropertyUseType OSE GFA for Policy', 'ThirdLargestPropertyUseType OSE GFA for Policy']].fillna(0)"
   ]
  },
  {
   "cell_type": "code",
   "execution_count": 23,
   "id": "d0c2251d-1179-4bc2-ad14-39f55505f2b6",
   "metadata": {},
   "outputs": [],
   "source": [
    "cleaned_building_data['Total GFA for Policy'] = cleaned_building_data.apply(lambda building: building['LargestPropertyUseType OSE GFA for Policy'] + building['SecondLargestPropertyUseType OSE GFA for Policy'] + building['ThirdLargestPropertyUseType OSE GFA for Policy'], axis=1)"
   ]
  },
  {
   "cell_type": "code",
   "execution_count": 24,
   "id": "15bd0f7b-ceb9-460f-8396-1f4c18dcfb44",
   "metadata": {},
   "outputs": [],
   "source": [
    "# Calculate percent for each use type\n",
    "cleaned_building_data['LargestPropertyUseType Percent GFA'] = cleaned_building_data.apply(lambda building: building['LargestPropertyUseType OSE GFA for Policy'] / building['Total GFA for Policy'], axis=1)\n",
    "cleaned_building_data['SecondLargestPropertyUseType Percent GFA'] = cleaned_building_data.apply(lambda building: building['SecondLargestPropertyUseType OSE GFA for Policy'] / building['Total GFA for Policy'], axis=1)\n",
    "cleaned_building_data['ThirdLargestPropertyUseType Percent GFA'] = cleaned_building_data.apply(lambda building: building['ThirdLargestPropertyUseType OSE GFA for Policy'] / building['Total GFA for Policy'], axis=1)"
   ]
  },
  {
   "cell_type": "code",
   "execution_count": 3,
   "id": "0b792855-305b-44c6-8b05-603c69e51442",
   "metadata": {},
   "outputs": [],
   "source": [
    "# Add size classification\n",
    "\n",
    "def classify_size(sq_ft):\n",
    "    \"\"\"\n",
    "    Use letter classifications for building size instead of dealing with size ranges (>220k, 90-220k, etc.)\n",
    "    \"\"\"\n",
    "    if sq_ft > 220000:\n",
    "        return 'A'\n",
    "    elif sq_ft > 90000:\n",
    "        return 'B'\n",
    "    elif sq_ft > 50000:\n",
    "        return 'C'\n",
    "    elif sq_ft > 30000:\n",
    "        return 'D'\n",
    "    elif sq_ft > 20000:\n",
    "        return 'E'\n",
    "    else:\n",
    "        return 'F'\n",
    "        \n",
    "cleaned_building_data['sq_ft_classification'] = cleaned_building_data['Total GFA for Policy'].apply(lambda building: classify_size(building))"
   ]
  },
  {
   "cell_type": "code",
   "execution_count": 4,
   "id": "d56f78c6-964b-45a4-b176-721368dba01d",
   "metadata": {},
   "outputs": [],
   "source": [
    "cleaned_building_data.to_csv('cleaned_building_data_with_policy_gfa.csv')"
   ]
  },
  {
   "cell_type": "markdown",
   "id": "3b2c3de9-4ef9-411b-a168-1055afd38c7e",
   "metadata": {},
   "source": [
    "## Rechecking the data\n",
    "\n",
    "When we ran this data through the model, our numbers were way off. We need to figure out why that is. Here's some exploring to see where the problem is occuring."
   ]
  },
  {
   "cell_type": "code",
   "execution_count": 2,
   "id": "4496b5df-1772-4f3b-8054-7d5b75b42133",
   "metadata": {},
   "outputs": [],
   "source": [
    "raw_2019_data = pd.read_csv('seattle_large_building_data_2019.csv')\n",
    "processed_data = pd.read_csv('cleaned_building_data_with_policy_gfa.csv')"
   ]
  },
  {
   "cell_type": "code",
   "execution_count": 3,
   "id": "d4fb24ad-6026-4856-9446-17843f5ef72a",
   "metadata": {},
   "outputs": [],
   "source": [
    "rmi_processed_data = pd.read_csv('../rmi_building_analysis_with_new_col_names.csv')"
   ]
  },
  {
   "cell_type": "code",
   "execution_count": 5,
   "id": "bc063c7e-7c82-4b2a-a7b8-fadd011ffb85",
   "metadata": {},
   "outputs": [
    {
     "data": {
      "text/plain": [
       "1"
      ]
     },
     "execution_count": 5,
     "metadata": {},
     "output_type": "execute_result"
    }
   ],
   "source": [
    "# Let's look to see if there are missing buildings\n",
    "\n",
    "# buildings not in RMI data but in the raw data\n",
    "len(set(raw_2019_data['OSEBuildingID']) - set(rmi_processed_data['OSEBuildingID']))"
   ]
  },
  {
   "cell_type": "code",
   "execution_count": 6,
   "id": "a6b5f692-bff3-4edb-9c3b-8ef35ac328b3",
   "metadata": {},
   "outputs": [
    {
     "data": {
      "text/plain": [
       "{755}"
      ]
     },
     "execution_count": 6,
     "metadata": {},
     "output_type": "execute_result"
    }
   ],
   "source": [
    "set(raw_2019_data['OSEBuildingID']) - set(rmi_processed_data['OSEBuildingID'])"
   ]
  },
  {
   "cell_type": "code",
   "execution_count": 8,
   "id": "bd9c6ca7-3b15-4c47-a45d-b70d41c216c2",
   "metadata": {},
   "outputs": [
    {
     "data": {
      "text/plain": [
       "Index(['OSEBuildingID', 'TaxParcelIdentificationNumber', 'DataYear',\n",
       "       'BuildingType', 'BuildingName', 'CouncilDistrictCode', 'Neighborhood',\n",
       "       'YearBuilt', 'Address', 'City', 'State', 'ZipCode', 'Latitude',\n",
       "       'Longitude', 'PrimaryPropertyType', 'ListOfAllPropertyUseTypes',\n",
       "       'EPAPropertyType', 'TotalGHGEmissions', 'ENERGYSTARScore',\n",
       "       'YearsENERGYSTARCertified', 'SiteEUI(kBtu/sf)', 'SiteEUIWN(kBtu/sf)',\n",
       "       'SiteEnergyUse(kBtu)', 'SiteEnergyUseWN(kBtu)', 'SourceEUI(kBtu/sf)',\n",
       "       'SourceEUIWN(kBtu/sf)', 'GHGEmissions(MetricTonsCO2e)',\n",
       "       'GHGEmissionsIntensity', 'GHGEmissionsIntensity(kgCO2e/ft2)',\n",
       "       'NaturalGas(kBtu)', 'NaturalGas(therms)', 'Electricity(kBtu)',\n",
       "       'Electricity(kWh)', 'SteamUse(kBtu)', 'OtherFuelUse(kBtu)',\n",
       "       'PropertyGFATotal', 'PropertyGFABuilding(s)', 'PropertyGFAParking',\n",
       "       'NumberofBuildings', 'NumberofFloors', 'LargestPropertyUseType',\n",
       "       'LargestPropertyUseTypeGFA', 'SecondLargestPropertyUseType',\n",
       "       'SecondLargestPropertyUseTypeGFA', 'ThirdLargestPropertyUseType',\n",
       "       'ThirdLargestPropertyUseTypeGFA', 'Outlier', 'ComplianceIssue',\n",
       "       'ComplianceStatus'],\n",
       "      dtype='object')"
      ]
     },
     "execution_count": 8,
     "metadata": {},
     "output_type": "execute_result"
    }
   ],
   "source": [
    "raw_2019_data.columns"
   ]
  },
  {
   "cell_type": "code",
   "execution_count": 10,
   "id": "87c7d031-88cd-4946-820c-5f654832c36e",
   "metadata": {},
   "outputs": [
    {
     "name": "stdout",
     "output_type": "stream",
     "text": [
      "                BuildingName  TotalGHGEmissions LargestPropertyUseType  \\\n",
      "546  MEDICAL DENTAL BUILDING           310839.6         Medical Office   \n",
      "\n",
      "     LargestPropertyUseTypeGFA SecondLargestPropertyUseType  \\\n",
      "546                   315026.0                      Parking   \n",
      "\n",
      "     SecondLargestPropertyUseTypeGFA ThirdLargestPropertyUseType  \\\n",
      "546                          28870.0                Retail Store   \n",
      "\n",
      "     ThirdLargestPropertyUseTypeGFA  \n",
      "546                         16587.0  \n"
     ]
    }
   ],
   "source": [
    "print(raw_2019_data[raw_2019_data['OSEBuildingID'] == 755][['BuildingName', 'TotalGHGEmissions', 'LargestPropertyUseType',\n",
    "       'LargestPropertyUseTypeGFA', 'SecondLargestPropertyUseType',\n",
    "       'SecondLargestPropertyUseTypeGFA', 'ThirdLargestPropertyUseType',\n",
    "       'ThirdLargestPropertyUseTypeGFA']])"
   ]
  },
  {
   "cell_type": "markdown",
   "id": "9d12f224-0f30-4f7c-8735-a275bb5b02e1",
   "metadata": {},
   "source": [
    "OK, so the Medical Dental building is huge (~360K sq ft) and produces a lot of carbon (300K tons)\n",
    "\n",
    "It's possible this is throwing us off. It may have been removed as an outlier from the RMI dataset.\n",
    "\n",
    "Let's also look at what's in the RMI but not the public raw dataset."
   ]
  },
  {
   "cell_type": "code",
   "execution_count": 12,
   "id": "02cdc8aa-5fbe-42d8-87fd-e455422878e7",
   "metadata": {},
   "outputs": [
    {
     "data": {
      "text/plain": [
       "44"
      ]
     },
     "execution_count": 12,
     "metadata": {},
     "output_type": "execute_result"
    }
   ],
   "source": [
    "len(set(rmi_processed_data['OSEBuildingID']) - set(raw_2019_data['OSEBuildingID']))"
   ]
  },
  {
   "cell_type": "code",
   "execution_count": 13,
   "id": "9474e46c-c82b-452a-b42a-c79a8bf6d9c0",
   "metadata": {},
   "outputs": [],
   "source": [
    "in_rmi_but_not_public_city_data = list(set(rmi_processed_data['OSEBuildingID']) - set(raw_2019_data['OSEBuildingID']))"
   ]
  },
  {
   "cell_type": "code",
   "execution_count": 15,
   "id": "be914cdf-a4ba-4cc0-8183-46284d4a7745",
   "metadata": {},
   "outputs": [
    {
     "data": {
      "text/html": [
       "<div>\n",
       "<style scoped>\n",
       "    .dataframe tbody tr th:only-of-type {\n",
       "        vertical-align: middle;\n",
       "    }\n",
       "\n",
       "    .dataframe tbody tr th {\n",
       "        vertical-align: top;\n",
       "    }\n",
       "\n",
       "    .dataframe thead th {\n",
       "        text-align: right;\n",
       "    }\n",
       "</style>\n",
       "<table border=\"1\" class=\"dataframe\">\n",
       "  <thead>\n",
       "    <tr style=\"text-align: right;\">\n",
       "      <th></th>\n",
       "      <th>LargestPropertyUseType</th>\n",
       "      <th>SecondLargestPropertyUseType</th>\n",
       "      <th>ThirdLargestPropertyUseType</th>\n",
       "    </tr>\n",
       "  </thead>\n",
       "  <tbody>\n",
       "    <tr>\n",
       "      <th>419</th>\n",
       "      <td>Other</td>\n",
       "      <td>NaN</td>\n",
       "      <td>NaN</td>\n",
       "    </tr>\n",
       "    <tr>\n",
       "      <th>747</th>\n",
       "      <td>Multifamily Housing</td>\n",
       "      <td>NaN</td>\n",
       "      <td>NaN</td>\n",
       "    </tr>\n",
       "    <tr>\n",
       "      <th>802</th>\n",
       "      <td>Multifamily Housing</td>\n",
       "      <td>Parking</td>\n",
       "      <td>Restaurant</td>\n",
       "    </tr>\n",
       "    <tr>\n",
       "      <th>901</th>\n",
       "      <td>Multifamily Housing</td>\n",
       "      <td>NaN</td>\n",
       "      <td>NaN</td>\n",
       "    </tr>\n",
       "    <tr>\n",
       "      <th>917</th>\n",
       "      <td>Multifamily Housing</td>\n",
       "      <td>NaN</td>\n",
       "      <td>NaN</td>\n",
       "    </tr>\n",
       "  </tbody>\n",
       "</table>\n",
       "</div>"
      ],
      "text/plain": [
       "    LargestPropertyUseType SecondLargestPropertyUseType  \\\n",
       "419                  Other                          NaN   \n",
       "747    Multifamily Housing                          NaN   \n",
       "802    Multifamily Housing                      Parking   \n",
       "901    Multifamily Housing                          NaN   \n",
       "917    Multifamily Housing                          NaN   \n",
       "\n",
       "    ThirdLargestPropertyUseType  \n",
       "419                         NaN  \n",
       "747                         NaN  \n",
       "802                  Restaurant  \n",
       "901                         NaN  \n",
       "917                         NaN  "
      ]
     },
     "execution_count": 15,
     "metadata": {},
     "output_type": "execute_result"
    }
   ],
   "source": [
    "rmi_processed_data[rmi_processed_data['OSEBuildingID'].isin(in_rmi_but_not_public_city_data)][['LargestPropertyUseType', 'SecondLargestPropertyUseType', 'ThirdLargestPropertyUseType']].head()"
   ]
  },
  {
   "cell_type": "markdown",
   "id": "9619170e-f89f-4e32-af05-8e789a4171c5",
   "metadata": {},
   "source": [
    "## Create matching public/RMI datasets\n",
    "\n",
    "Create a copy of the RMI data and the public data (crunched above) that have the exact same buildings (only buildings found in both datasets)."
   ]
  }
 ],
 "metadata": {
  "kernelspec": {
   "display_name": "Python 3 (ipykernel)",
   "language": "python",
   "name": "python3"
  },
  "language_info": {
   "codemirror_mode": {
    "name": "ipython",
    "version": 3
   },
   "file_extension": ".py",
   "mimetype": "text/x-python",
   "name": "python",
   "nbconvert_exporter": "python",
   "pygments_lexer": "ipython3",
   "version": "3.11.3"
  }
 },
 "nbformat": 4,
 "nbformat_minor": 5
}
