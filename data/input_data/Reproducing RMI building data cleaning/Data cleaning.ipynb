{
 "cells": [
  {
   "cell_type": "code",
   "execution_count": 3,
   "id": "74e60429-8b7a-436d-bc9e-e446d22bbe7d",
   "metadata": {},
   "outputs": [],
   "source": [
    "import pandas as pd\n",
    "import numpy as np"
   ]
  },
  {
   "cell_type": "markdown",
   "id": "90954a8d-cb55-4adf-a190-50931361331f",
   "metadata": {},
   "source": [
    "## Clean up building data\n",
    "\n",
    "Start with the raw 2019 data from the City of Seattle.\n",
    "\n",
    "Calculate extra fields:\n",
    "- OSE Building Type: mapping between the City's Building Type and the building types used by OSE. See `city_building_types.csv` for mapping. These are generic categories like \"Nonresidential\" and \"Multifamily\".\n",
    "- OSE Property Use fields: this is a mapping of EPA property use types to the types used by OSE. See `building_activity_types.csv` for mapping. These are more detailed categories like \"Hospital\" or \"Restaurant\".\n",
    "- Property Use Type GFA for Policy fields: the GFA for Policy is the same as the GFA unless it is one of the use types \"Data Center\" and \"Parking\" that aren't subject to the policy (then it's 0).\n",
    "- Total GFA for Policy: sum of the Property Use Type GFA for Policy fields\n",
    "- PropertyUseType Percent GFA fields: percent of a building's total GFA that is from the given property use type. Zero if the use type is not covered by the policy"
   ]
  },
  {
   "cell_type": "code",
   "execution_count": 4,
   "id": "d0003dc6-bfd7-4b65-b082-5c014b2d1173",
   "metadata": {},
   "outputs": [],
   "source": [
    "raw_building_data = pd.read_csv('seattle_large_building_data_2019.csv')"
   ]
  },
  {
   "cell_type": "code",
   "execution_count": 5,
   "id": "d26aa335-a365-4e3b-afea-2341f4f7e52b",
   "metadata": {},
   "outputs": [
    {
     "data": {
      "text/plain": [
       "Index(['OSEBuildingID', 'TaxParcelIdentificationNumber', 'DataYear',\n",
       "       'BuildingType', 'BuildingName', 'CouncilDistrictCode', 'Neighborhood',\n",
       "       'YearBuilt', 'Address', 'City', 'State', 'ZipCode', 'Latitude',\n",
       "       'Longitude', 'PrimaryPropertyType', 'ListOfAllPropertyUseTypes',\n",
       "       'EPAPropertyType', 'TotalGHGEmissions', 'ENERGYSTARScore',\n",
       "       'YearsENERGYSTARCertified', 'SiteEUI(kBtu/sf)', 'SiteEUIWN(kBtu/sf)',\n",
       "       'SiteEnergyUse(kBtu)', 'SiteEnergyUseWN(kBtu)', 'SourceEUI(kBtu/sf)',\n",
       "       'SourceEUIWN(kBtu/sf)', 'GHGEmissions(MetricTonsCO2e)',\n",
       "       'GHGEmissionsIntensity', 'GHGEmissionsIntensity(kgCO2e/ft2)',\n",
       "       'NaturalGas(kBtu)', 'NaturalGas(therms)', 'Electricity(kBtu)',\n",
       "       'Electricity(kWh)', 'SteamUse(kBtu)', 'OtherFuelUse(kBtu)',\n",
       "       'PropertyGFATotal', 'PropertyGFABuilding(s)', 'PropertyGFAParking',\n",
       "       'NumberofBuildings', 'NumberofFloors', 'LargestPropertyUseType',\n",
       "       'LargestPropertyUseTypeGFA', 'SecondLargestPropertyUseType',\n",
       "       'SecondLargestPropertyUseTypeGFA', 'ThirdLargestPropertyUseType',\n",
       "       'ThirdLargestPropertyUseTypeGFA', 'Outlier', 'ComplianceIssue',\n",
       "       'ComplianceStatus'],\n",
       "      dtype='object')"
      ]
     },
     "execution_count": 5,
     "metadata": {},
     "output_type": "execute_result"
    }
   ],
   "source": [
    "raw_building_data.columns"
   ]
  },
  {
   "cell_type": "code",
   "execution_count": 6,
   "id": "dba1ef1e-99b7-4c38-a8eb-f8d267be71ba",
   "metadata": {},
   "outputs": [],
   "source": [
    "cleaned_building_data = raw_building_data[[\n",
    "    'OSEBuildingID', \n",
    "    'TaxParcelIdentificationNumber', \n",
    "    'DataYear',\n",
    "    'BuildingType', \n",
    "    'BuildingName', \n",
    "    'NaturalGas(kBtu)', \n",
    "    'Electricity(kBtu)', \n",
    "    'SteamUse(kBtu)', \n",
    "    'PropertyGFATotal', \n",
    "    'PropertyGFABuilding(s)', \n",
    "    'PropertyGFAParking', \n",
    "    'LargestPropertyUseType',\n",
    "    'LargestPropertyUseTypeGFA', \n",
    "    'SecondLargestPropertyUseType',\n",
    "    'SecondLargestPropertyUseTypeGFA', \n",
    "    'ThirdLargestPropertyUseType',\n",
    "    'ThirdLargestPropertyUseTypeGFA'\n",
    "]]"
   ]
  },
  {
   "cell_type": "code",
   "execution_count": 8,
   "id": "5c579b46-8528-4397-989d-9f3d3d76870b",
   "metadata": {},
   "outputs": [],
   "source": [
    "# Map OSE Building Type\n",
    "\n",
    "city_building_types_mapping = pd.read_csv('city_building_types.csv')\n",
    "building_types = dict(zip(list(city_building_types_mapping['BuildingType (City classification)']), list(city_building_types_mapping['Type (Legislative classification)'])))"
   ]
  },
  {
   "cell_type": "code",
   "execution_count": 9,
   "id": "a3c8d554-9871-4a47-9101-c227c695575f",
   "metadata": {},
   "outputs": [
    {
     "data": {
      "text/plain": [
       "{'NonResidential': 'NonResidential',\n",
       " 'Nonresidential COS': 'NonResidential',\n",
       " 'Nonresidential WA': 'NonResidential',\n",
       " 'Multifamily LR (1-4)': 'Multifamily',\n",
       " 'Multifamily MR (5-9)': 'Multifamily',\n",
       " 'Multifamily HR (10+)': 'Multifamily',\n",
       " 'SPS-District K-12': 'Campus',\n",
       " 'Campus': 'Campus'}"
      ]
     },
     "execution_count": 9,
     "metadata": {},
     "output_type": "execute_result"
    }
   ],
   "source": [
    "building_types"
   ]
  },
  {
   "cell_type": "code",
   "execution_count": 10,
   "id": "a0499951-c284-4b4e-a8b8-49872c2b577b",
   "metadata": {},
   "outputs": [
    {
     "name": "stderr",
     "output_type": "stream",
     "text": [
      "/var/folders/dv/sn1_d0xn0vncjbncdpkkg_pc0000gn/T/ipykernel_70209/356869480.py:1: SettingWithCopyWarning: \n",
      "A value is trying to be set on a copy of a slice from a DataFrame.\n",
      "Try using .loc[row_indexer,col_indexer] = value instead\n",
      "\n",
      "See the caveats in the documentation: https://pandas.pydata.org/pandas-docs/stable/user_guide/indexing.html#returning-a-view-versus-a-copy\n",
      "  cleaned_building_data['OSE Building Type'] = cleaned_building_data.apply(lambda building: building_types[building['BuildingType']], axis=1)\n"
     ]
    }
   ],
   "source": [
    "cleaned_building_data['OSE Building Type'] = cleaned_building_data.apply(lambda building: building_types[building['BuildingType']], axis=1)"
   ]
  },
  {
   "cell_type": "code",
   "execution_count": 12,
   "id": "96216cf2-1db7-45d7-926c-47f500da5474",
   "metadata": {},
   "outputs": [
    {
     "data": {
      "text/html": [
       "<div>\n",
       "<style scoped>\n",
       "    .dataframe tbody tr th:only-of-type {\n",
       "        vertical-align: middle;\n",
       "    }\n",
       "\n",
       "    .dataframe tbody tr th {\n",
       "        vertical-align: top;\n",
       "    }\n",
       "\n",
       "    .dataframe thead th {\n",
       "        text-align: right;\n",
       "    }\n",
       "</style>\n",
       "<table border=\"1\" class=\"dataframe\">\n",
       "  <thead>\n",
       "    <tr style=\"text-align: right;\">\n",
       "      <th></th>\n",
       "      <th>BuildingType</th>\n",
       "      <th>OSE Building Type</th>\n",
       "    </tr>\n",
       "  </thead>\n",
       "  <tbody>\n",
       "    <tr>\n",
       "      <th>2255</th>\n",
       "      <td>Multifamily LR (1-4)</td>\n",
       "      <td>Multifamily</td>\n",
       "    </tr>\n",
       "    <tr>\n",
       "      <th>1345</th>\n",
       "      <td>Multifamily LR (1-4)</td>\n",
       "      <td>Multifamily</td>\n",
       "    </tr>\n",
       "    <tr>\n",
       "      <th>2322</th>\n",
       "      <td>NonResidential</td>\n",
       "      <td>NonResidential</td>\n",
       "    </tr>\n",
       "    <tr>\n",
       "      <th>215</th>\n",
       "      <td>NonResidential</td>\n",
       "      <td>NonResidential</td>\n",
       "    </tr>\n",
       "    <tr>\n",
       "      <th>1140</th>\n",
       "      <td>NonResidential</td>\n",
       "      <td>NonResidential</td>\n",
       "    </tr>\n",
       "    <tr>\n",
       "      <th>1001</th>\n",
       "      <td>NonResidential</td>\n",
       "      <td>NonResidential</td>\n",
       "    </tr>\n",
       "    <tr>\n",
       "      <th>3369</th>\n",
       "      <td>NonResidential</td>\n",
       "      <td>NonResidential</td>\n",
       "    </tr>\n",
       "    <tr>\n",
       "      <th>2271</th>\n",
       "      <td>Multifamily LR (1-4)</td>\n",
       "      <td>Multifamily</td>\n",
       "    </tr>\n",
       "    <tr>\n",
       "      <th>1175</th>\n",
       "      <td>Nonresidential COS</td>\n",
       "      <td>NonResidential</td>\n",
       "    </tr>\n",
       "    <tr>\n",
       "      <th>2110</th>\n",
       "      <td>Multifamily LR (1-4)</td>\n",
       "      <td>Multifamily</td>\n",
       "    </tr>\n",
       "  </tbody>\n",
       "</table>\n",
       "</div>"
      ],
      "text/plain": [
       "              BuildingType OSE Building Type\n",
       "2255  Multifamily LR (1-4)       Multifamily\n",
       "1345  Multifamily LR (1-4)       Multifamily\n",
       "2322        NonResidential    NonResidential\n",
       "215         NonResidential    NonResidential\n",
       "1140        NonResidential    NonResidential\n",
       "1001        NonResidential    NonResidential\n",
       "3369        NonResidential    NonResidential\n",
       "2271  Multifamily LR (1-4)       Multifamily\n",
       "1175    Nonresidential COS    NonResidential\n",
       "2110  Multifamily LR (1-4)       Multifamily"
      ]
     },
     "execution_count": 12,
     "metadata": {},
     "output_type": "execute_result"
    }
   ],
   "source": [
    "cleaned_building_data[['BuildingType', 'OSE Building Type']].sample(10)"
   ]
  },
  {
   "cell_type": "code",
   "execution_count": null,
   "id": "760fd716-b2bb-4ed0-b192-fe53b45ea799",
   "metadata": {},
   "outputs": [],
   "source": [
    "# Map use types"
   ]
  },
  {
   "cell_type": "code",
   "execution_count": 13,
   "id": "09c03e21-0f86-4d49-9a51-47878312fe7e",
   "metadata": {},
   "outputs": [],
   "source": [
    "ose_use_types = pd.read_csv('building_activity_types.csv')\n",
    "ose_use_types.columns\n",
    "ose_use_types_mapping = dict(zip(ose_use_types['EPA Building Type'], ose_use_types['OSE Building Type']))"
   ]
  },
  {
   "cell_type": "code",
   "execution_count": 14,
   "id": "f0b96e64-1acf-4141-adbe-699a4c7a6f89",
   "metadata": {},
   "outputs": [
    {
     "data": {
      "text/plain": [
       "{'Hotel': 'Hotel',\n",
       " 'Police Station': 'Fire/Police Station',\n",
       " 'Other - Entertainment/Public Assembly': 'Entertainment/Public Assembly',\n",
       " 'Multifamily Housing': 'Multifamily Housing',\n",
       " 'Library': 'Services',\n",
       " 'Fitness Center/Health Club/Gym': 'Recreation',\n",
       " 'Social/Meeting Hall': 'Entertainment/Public Assembly',\n",
       " 'Courthouse': 'Other',\n",
       " 'Prison/Incarceration': 'Other',\n",
       " 'K-12 School': 'K-12 School',\n",
       " 'College/University': 'College/University',\n",
       " 'Office': 'Office',\n",
       " 'Self-Storage Facility': 'Self-Storage Facility',\n",
       " 'Other - Mall': 'Retail Store',\n",
       " 'Senior Care Community': 'Senior Living Community',\n",
       " 'Medical Office': 'Office',\n",
       " 'Other': 'Other',\n",
       " 'Performing Arts': 'Entertainment/Public Assembly',\n",
       " 'Supermarket/Grocery Store': 'Supermarket/Grocery Store',\n",
       " 'Hospital (General Medical & Surgical)': 'Hospital',\n",
       " 'Fire Station': 'Fire/Police Station',\n",
       " 'Museum': 'Entertainment/Public Assembly',\n",
       " 'Repair Services (Vehicle, Shoe, Locksmith, etc)': 'Services',\n",
       " 'Other - Lodging/Residential': 'Hotel',\n",
       " 'Residence Hall/Dormitory': 'Residence Hall/Dormitory',\n",
       " 'Retail Store': 'Retail Store',\n",
       " 'Other/Specialty Hospital': 'Hospital',\n",
       " 'Financial Office': 'Office',\n",
       " 'Non-Refrigerated Warehouse': 'Non-Refrigerated Warehouse',\n",
       " 'Other - Utility': 'Other',\n",
       " 'Transportation Terminal/Station': 'Entertainment/Public Assembly',\n",
       " 'Parking': nan,\n",
       " 'Worship Facility': 'Worship Facility',\n",
       " 'Laboratory': 'Laboratory',\n",
       " 'Convention Center': 'Entertainment/Public Assembly',\n",
       " 'Restaurant': 'Restaurant',\n",
       " 'Enclosed Mall': 'Retail Store',\n",
       " 'Data Center': nan,\n",
       " nan: nan,\n",
       " 'Distribution Center': 'Non-Refrigerated Warehouse',\n",
       " 'Outpatient Rehabilitation/Physical Therapy': 'Other',\n",
       " 'Other - Services': 'Services',\n",
       " 'Manufacturing/Industrial Plant': 'Other',\n",
       " 'Strip Mall': 'Retail Store',\n",
       " 'Wholesale Club/Supercenter': 'Supermarket/Grocery Store',\n",
       " 'Refrigerated Warehouse': 'Refrigerated Warehouse',\n",
       " 'Lifestyle Center': 'Entertainment/Public Assembly',\n",
       " 'Other - Public Services': 'Services',\n",
       " 'Automobile Dealership': 'Retail Store',\n",
       " 'Energy/Power Station': 'Other',\n",
       " 'Other - Recreation': 'Entertainment/Public Assembly',\n",
       " 'Residential Care Facility': 'Residence Hall/Dormitory',\n",
       " 'Urgent Care/Clinic/Other Outpatient': 'Other',\n",
       " 'Bank Branch': 'Retail Store',\n",
       " 'Other - Restaurant/Bar': 'Restaurant',\n",
       " 'Food Service': 'Restaurant',\n",
       " 'Mailing Center/Post Office': 'Services',\n",
       " 'Adult Education': 'Other',\n",
       " 'Movie Theater': 'Entertainment/Public Assembly',\n",
       " 'Other - Education': 'Other',\n",
       " 'Personal Services (Health/Beauty, Dry Cleaning, etc)': 'Services',\n",
       " 'Stadium (Open)': 'Entertainment/Public Assembly',\n",
       " 'Pre-school/Daycare': 'Entertainment/Public Assembly',\n",
       " 'Barracks': nan,\n",
       " 'Vocational School': 'Other',\n",
       " 'Bar/Nightclub': 'Restaurant',\n",
       " 'Swimming Pool': 'Recreation',\n",
       " 'Food Sales': 'Supermarket/Grocery Store',\n",
       " 'Other - Technology/Science': 'Other',\n",
       " 'Fast Food Restaurant': 'Restaurant',\n",
       " 'Convenience Store without Gas Station': 'Entertainment/Public Assembly'}"
      ]
     },
     "execution_count": 14,
     "metadata": {},
     "output_type": "execute_result"
    }
   ],
   "source": [
    "ose_use_types_mapping"
   ]
  },
  {
   "cell_type": "code",
   "execution_count": 15,
   "id": "6290e5ac-5646-4940-850b-ab91ef67fa23",
   "metadata": {},
   "outputs": [
    {
     "name": "stderr",
     "output_type": "stream",
     "text": [
      "/var/folders/dv/sn1_d0xn0vncjbncdpkkg_pc0000gn/T/ipykernel_70209/4016502074.py:1: SettingWithCopyWarning: \n",
      "A value is trying to be set on a copy of a slice from a DataFrame.\n",
      "Try using .loc[row_indexer,col_indexer] = value instead\n",
      "\n",
      "See the caveats in the documentation: https://pandas.pydata.org/pandas-docs/stable/user_guide/indexing.html#returning-a-view-versus-a-copy\n",
      "  cleaned_building_data['LargestPropertyUseType OSE'] = cleaned_building_data.apply(lambda building: ose_use_types_mapping[building['LargestPropertyUseType']], axis=1)\n",
      "/var/folders/dv/sn1_d0xn0vncjbncdpkkg_pc0000gn/T/ipykernel_70209/4016502074.py:2: SettingWithCopyWarning: \n",
      "A value is trying to be set on a copy of a slice from a DataFrame.\n",
      "Try using .loc[row_indexer,col_indexer] = value instead\n",
      "\n",
      "See the caveats in the documentation: https://pandas.pydata.org/pandas-docs/stable/user_guide/indexing.html#returning-a-view-versus-a-copy\n",
      "  cleaned_building_data['SecondLargestPropertyUseType OSE'] = cleaned_building_data.apply(lambda building: ose_use_types_mapping[building['SecondLargestPropertyUseType']], axis=1)\n",
      "/var/folders/dv/sn1_d0xn0vncjbncdpkkg_pc0000gn/T/ipykernel_70209/4016502074.py:3: SettingWithCopyWarning: \n",
      "A value is trying to be set on a copy of a slice from a DataFrame.\n",
      "Try using .loc[row_indexer,col_indexer] = value instead\n",
      "\n",
      "See the caveats in the documentation: https://pandas.pydata.org/pandas-docs/stable/user_guide/indexing.html#returning-a-view-versus-a-copy\n",
      "  cleaned_building_data['ThirdLargestPropertyUseType OSE'] = cleaned_building_data.apply(lambda building: ose_use_types_mapping[building['ThirdLargestPropertyUseType']], axis=1)\n"
     ]
    }
   ],
   "source": [
    "cleaned_building_data['LargestPropertyUseType OSE'] = cleaned_building_data.apply(lambda building: ose_use_types_mapping[building['LargestPropertyUseType']], axis=1)\n",
    "cleaned_building_data['SecondLargestPropertyUseType OSE'] = cleaned_building_data.apply(lambda building: ose_use_types_mapping[building['SecondLargestPropertyUseType']], axis=1)\n",
    "cleaned_building_data['ThirdLargestPropertyUseType OSE'] = cleaned_building_data.apply(lambda building: ose_use_types_mapping[building['ThirdLargestPropertyUseType']], axis=1)"
   ]
  },
  {
   "cell_type": "code",
   "execution_count": 19,
   "id": "d3d3652e-d500-4218-949b-f07d1d78dc6c",
   "metadata": {},
   "outputs": [
    {
     "data": {
      "text/html": [
       "<div>\n",
       "<style scoped>\n",
       "    .dataframe tbody tr th:only-of-type {\n",
       "        vertical-align: middle;\n",
       "    }\n",
       "\n",
       "    .dataframe tbody tr th {\n",
       "        vertical-align: top;\n",
       "    }\n",
       "\n",
       "    .dataframe thead th {\n",
       "        text-align: right;\n",
       "    }\n",
       "</style>\n",
       "<table border=\"1\" class=\"dataframe\">\n",
       "  <thead>\n",
       "    <tr style=\"text-align: right;\">\n",
       "      <th></th>\n",
       "      <th>LargestPropertyUseType</th>\n",
       "      <th>LargestPropertyUseType OSE</th>\n",
       "    </tr>\n",
       "  </thead>\n",
       "  <tbody>\n",
       "    <tr>\n",
       "      <th>2322</th>\n",
       "      <td>K-12 School</td>\n",
       "      <td>K-12 School</td>\n",
       "    </tr>\n",
       "    <tr>\n",
       "      <th>2952</th>\n",
       "      <td>Other - Mall</td>\n",
       "      <td>Retail Store</td>\n",
       "    </tr>\n",
       "    <tr>\n",
       "      <th>3383</th>\n",
       "      <td>Office</td>\n",
       "      <td>Office</td>\n",
       "    </tr>\n",
       "    <tr>\n",
       "      <th>1677</th>\n",
       "      <td>Multifamily Housing</td>\n",
       "      <td>Multifamily Housing</td>\n",
       "    </tr>\n",
       "    <tr>\n",
       "      <th>895</th>\n",
       "      <td>Multifamily Housing</td>\n",
       "      <td>Multifamily Housing</td>\n",
       "    </tr>\n",
       "    <tr>\n",
       "      <th>2598</th>\n",
       "      <td>Bank Branch</td>\n",
       "      <td>Retail Store</td>\n",
       "    </tr>\n",
       "    <tr>\n",
       "      <th>1952</th>\n",
       "      <td>Multifamily Housing</td>\n",
       "      <td>Multifamily Housing</td>\n",
       "    </tr>\n",
       "    <tr>\n",
       "      <th>1620</th>\n",
       "      <td>Senior Care Community</td>\n",
       "      <td>Senior Living Community</td>\n",
       "    </tr>\n",
       "    <tr>\n",
       "      <th>1979</th>\n",
       "      <td>Multifamily Housing</td>\n",
       "      <td>Multifamily Housing</td>\n",
       "    </tr>\n",
       "    <tr>\n",
       "      <th>1777</th>\n",
       "      <td>Retail Store</td>\n",
       "      <td>Retail Store</td>\n",
       "    </tr>\n",
       "  </tbody>\n",
       "</table>\n",
       "</div>"
      ],
      "text/plain": [
       "     LargestPropertyUseType LargestPropertyUseType OSE\n",
       "2322            K-12 School                K-12 School\n",
       "2952           Other - Mall               Retail Store\n",
       "3383                 Office                     Office\n",
       "1677    Multifamily Housing        Multifamily Housing\n",
       "895     Multifamily Housing        Multifamily Housing\n",
       "2598            Bank Branch               Retail Store\n",
       "1952    Multifamily Housing        Multifamily Housing\n",
       "1620  Senior Care Community    Senior Living Community\n",
       "1979    Multifamily Housing        Multifamily Housing\n",
       "1777           Retail Store               Retail Store"
      ]
     },
     "execution_count": 19,
     "metadata": {},
     "output_type": "execute_result"
    }
   ],
   "source": [
    "cleaned_building_data[['LargestPropertyUseType', 'LargestPropertyUseType OSE']].sample(10)"
   ]
  },
  {
   "cell_type": "code",
   "execution_count": 23,
   "id": "3c3c335d-2b87-494e-9558-0b6b900e1e6b",
   "metadata": {},
   "outputs": [
    {
     "data": {
      "text/html": [
       "<div>\n",
       "<style scoped>\n",
       "    .dataframe tbody tr th:only-of-type {\n",
       "        vertical-align: middle;\n",
       "    }\n",
       "\n",
       "    .dataframe tbody tr th {\n",
       "        vertical-align: top;\n",
       "    }\n",
       "\n",
       "    .dataframe thead th {\n",
       "        text-align: right;\n",
       "    }\n",
       "</style>\n",
       "<table border=\"1\" class=\"dataframe\">\n",
       "  <thead>\n",
       "    <tr style=\"text-align: right;\">\n",
       "      <th></th>\n",
       "      <th>SecondLargestPropertyUseType</th>\n",
       "      <th>SecondLargestPropertyUseType OSE</th>\n",
       "    </tr>\n",
       "  </thead>\n",
       "  <tbody>\n",
       "    <tr>\n",
       "      <th>651</th>\n",
       "      <td>Parking</td>\n",
       "      <td>NaN</td>\n",
       "    </tr>\n",
       "    <tr>\n",
       "      <th>1902</th>\n",
       "      <td>NaN</td>\n",
       "      <td>NaN</td>\n",
       "    </tr>\n",
       "    <tr>\n",
       "      <th>1276</th>\n",
       "      <td>NaN</td>\n",
       "      <td>NaN</td>\n",
       "    </tr>\n",
       "    <tr>\n",
       "      <th>689</th>\n",
       "      <td>Retail Store</td>\n",
       "      <td>Retail Store</td>\n",
       "    </tr>\n",
       "    <tr>\n",
       "      <th>27</th>\n",
       "      <td>NaN</td>\n",
       "      <td>NaN</td>\n",
       "    </tr>\n",
       "    <tr>\n",
       "      <th>523</th>\n",
       "      <td>Office</td>\n",
       "      <td>Office</td>\n",
       "    </tr>\n",
       "    <tr>\n",
       "      <th>149</th>\n",
       "      <td>Office</td>\n",
       "      <td>Office</td>\n",
       "    </tr>\n",
       "    <tr>\n",
       "      <th>2947</th>\n",
       "      <td>NaN</td>\n",
       "      <td>NaN</td>\n",
       "    </tr>\n",
       "    <tr>\n",
       "      <th>2117</th>\n",
       "      <td>NaN</td>\n",
       "      <td>NaN</td>\n",
       "    </tr>\n",
       "    <tr>\n",
       "      <th>1154</th>\n",
       "      <td>Parking</td>\n",
       "      <td>NaN</td>\n",
       "    </tr>\n",
       "  </tbody>\n",
       "</table>\n",
       "</div>"
      ],
      "text/plain": [
       "     SecondLargestPropertyUseType SecondLargestPropertyUseType OSE\n",
       "651                       Parking                              NaN\n",
       "1902                          NaN                              NaN\n",
       "1276                          NaN                              NaN\n",
       "689                  Retail Store                     Retail Store\n",
       "27                            NaN                              NaN\n",
       "523                        Office                           Office\n",
       "149                        Office                           Office\n",
       "2947                          NaN                              NaN\n",
       "2117                          NaN                              NaN\n",
       "1154                      Parking                              NaN"
      ]
     },
     "execution_count": 23,
     "metadata": {},
     "output_type": "execute_result"
    }
   ],
   "source": [
    "cleaned_building_data[['SecondLargestPropertyUseType', 'SecondLargestPropertyUseType OSE']].sample(10)"
   ]
  },
  {
   "cell_type": "code",
   "execution_count": 27,
   "id": "afb23f10-8a16-43b5-9d42-40aaccb513ca",
   "metadata": {},
   "outputs": [
    {
     "data": {
      "text/html": [
       "<div>\n",
       "<style scoped>\n",
       "    .dataframe tbody tr th:only-of-type {\n",
       "        vertical-align: middle;\n",
       "    }\n",
       "\n",
       "    .dataframe tbody tr th {\n",
       "        vertical-align: top;\n",
       "    }\n",
       "\n",
       "    .dataframe thead th {\n",
       "        text-align: right;\n",
       "    }\n",
       "</style>\n",
       "<table border=\"1\" class=\"dataframe\">\n",
       "  <thead>\n",
       "    <tr style=\"text-align: right;\">\n",
       "      <th></th>\n",
       "      <th>ThirdLargestPropertyUseType</th>\n",
       "      <th>ThirdLargestPropertyUseType OSE</th>\n",
       "    </tr>\n",
       "  </thead>\n",
       "  <tbody>\n",
       "    <tr>\n",
       "      <th>2249</th>\n",
       "      <td>NaN</td>\n",
       "      <td>NaN</td>\n",
       "    </tr>\n",
       "    <tr>\n",
       "      <th>3437</th>\n",
       "      <td>NaN</td>\n",
       "      <td>NaN</td>\n",
       "    </tr>\n",
       "    <tr>\n",
       "      <th>3156</th>\n",
       "      <td>NaN</td>\n",
       "      <td>NaN</td>\n",
       "    </tr>\n",
       "    <tr>\n",
       "      <th>3362</th>\n",
       "      <td>Parking</td>\n",
       "      <td>NaN</td>\n",
       "    </tr>\n",
       "    <tr>\n",
       "      <th>3430</th>\n",
       "      <td>Retail Store</td>\n",
       "      <td>Retail Store</td>\n",
       "    </tr>\n",
       "    <tr>\n",
       "      <th>3017</th>\n",
       "      <td>NaN</td>\n",
       "      <td>NaN</td>\n",
       "    </tr>\n",
       "    <tr>\n",
       "      <th>3160</th>\n",
       "      <td>Restaurant</td>\n",
       "      <td>Restaurant</td>\n",
       "    </tr>\n",
       "    <tr>\n",
       "      <th>2172</th>\n",
       "      <td>NaN</td>\n",
       "      <td>NaN</td>\n",
       "    </tr>\n",
       "    <tr>\n",
       "      <th>3094</th>\n",
       "      <td>Retail Store</td>\n",
       "      <td>Retail Store</td>\n",
       "    </tr>\n",
       "    <tr>\n",
       "      <th>1079</th>\n",
       "      <td>NaN</td>\n",
       "      <td>NaN</td>\n",
       "    </tr>\n",
       "  </tbody>\n",
       "</table>\n",
       "</div>"
      ],
      "text/plain": [
       "     ThirdLargestPropertyUseType ThirdLargestPropertyUseType OSE\n",
       "2249                         NaN                             NaN\n",
       "3437                         NaN                             NaN\n",
       "3156                         NaN                             NaN\n",
       "3362                     Parking                             NaN\n",
       "3430                Retail Store                    Retail Store\n",
       "3017                         NaN                             NaN\n",
       "3160                  Restaurant                      Restaurant\n",
       "2172                         NaN                             NaN\n",
       "3094                Retail Store                    Retail Store\n",
       "1079                         NaN                             NaN"
      ]
     },
     "execution_count": 27,
     "metadata": {},
     "output_type": "execute_result"
    }
   ],
   "source": [
    "cleaned_building_data[['ThirdLargestPropertyUseType', 'ThirdLargestPropertyUseType OSE']].sample(10)"
   ]
  },
  {
   "cell_type": "code",
   "execution_count": null,
   "id": "0fa52772-c91d-4276-857b-9d9cf8deadae",
   "metadata": {},
   "outputs": [],
   "source": [
    "cleaned_building_data['LargestPropertyUseType OSE'].unique()"
   ]
  },
  {
   "cell_type": "code",
   "execution_count": 28,
   "id": "fd6c08ec-9ccd-426d-bda2-ca2e92e01f49",
   "metadata": {},
   "outputs": [
    {
     "data": {
      "text/plain": [
       "158         Parking\n",
       "233     Data Center\n",
       "239         Parking\n",
       "247             NaN\n",
       "283         Parking\n",
       "           ...     \n",
       "3524            NaN\n",
       "3526            NaN\n",
       "3527            NaN\n",
       "3529            NaN\n",
       "3532            NaN\n",
       "Name: LargestPropertyUseType, Length: 99, dtype: object"
      ]
     },
     "execution_count": 28,
     "metadata": {},
     "output_type": "execute_result"
    }
   ],
   "source": [
    "cleaned_building_data[cleaned_building_data['LargestPropertyUseType OSE'].isnull()]['LargestPropertyUseType']"
   ]
  },
  {
   "cell_type": "code",
   "execution_count": null,
   "id": "7c8a87e1-9054-4cd2-aea3-2d1f8c2f6f09",
   "metadata": {},
   "outputs": [],
   "source": []
  },
  {
   "cell_type": "code",
   "execution_count": 29,
   "id": "ca439665-3117-41ef-a996-3b247eedbc72",
   "metadata": {},
   "outputs": [],
   "source": [
    "# some buildings don't have a largest EPA use type at all\n",
    "# we can't do anything about these buildings, so we'll drop them\n",
    "\n",
    "cleaned_building_data = cleaned_building_data[~cleaned_building_data['LargestPropertyUseType'].isnull()]"
   ]
  },
  {
   "cell_type": "code",
   "execution_count": 30,
   "id": "1de8e792-599f-4f5d-86b2-7c9efe584941",
   "metadata": {},
   "outputs": [
    {
     "data": {
      "text/html": [
       "<div>\n",
       "<style scoped>\n",
       "    .dataframe tbody tr th:only-of-type {\n",
       "        vertical-align: middle;\n",
       "    }\n",
       "\n",
       "    .dataframe tbody tr th {\n",
       "        vertical-align: top;\n",
       "    }\n",
       "\n",
       "    .dataframe thead th {\n",
       "        text-align: right;\n",
       "    }\n",
       "</style>\n",
       "<table border=\"1\" class=\"dataframe\">\n",
       "  <thead>\n",
       "    <tr style=\"text-align: right;\">\n",
       "      <th></th>\n",
       "      <th>OSEBuildingID</th>\n",
       "      <th>TaxParcelIdentificationNumber</th>\n",
       "      <th>DataYear</th>\n",
       "      <th>BuildingType</th>\n",
       "      <th>BuildingName</th>\n",
       "      <th>NaturalGas(kBtu)</th>\n",
       "      <th>Electricity(kBtu)</th>\n",
       "      <th>SteamUse(kBtu)</th>\n",
       "      <th>PropertyGFATotal</th>\n",
       "      <th>PropertyGFABuilding(s)</th>\n",
       "      <th>...</th>\n",
       "      <th>LargestPropertyUseType</th>\n",
       "      <th>LargestPropertyUseTypeGFA</th>\n",
       "      <th>SecondLargestPropertyUseType</th>\n",
       "      <th>SecondLargestPropertyUseTypeGFA</th>\n",
       "      <th>ThirdLargestPropertyUseType</th>\n",
       "      <th>ThirdLargestPropertyUseTypeGFA</th>\n",
       "      <th>OSE Building Type</th>\n",
       "      <th>LargestPropertyUseType OSE</th>\n",
       "      <th>SecondLargestPropertyUseType OSE</th>\n",
       "      <th>ThirdLargestPropertyUseType OSE</th>\n",
       "    </tr>\n",
       "  </thead>\n",
       "  <tbody>\n",
       "  </tbody>\n",
       "</table>\n",
       "<p>0 rows × 21 columns</p>\n",
       "</div>"
      ],
      "text/plain": [
       "Empty DataFrame\n",
       "Columns: [OSEBuildingID, TaxParcelIdentificationNumber, DataYear, BuildingType, BuildingName, NaturalGas(kBtu), Electricity(kBtu), SteamUse(kBtu), PropertyGFATotal, PropertyGFABuilding(s), PropertyGFAParking, LargestPropertyUseType, LargestPropertyUseTypeGFA, SecondLargestPropertyUseType, SecondLargestPropertyUseTypeGFA, ThirdLargestPropertyUseType, ThirdLargestPropertyUseTypeGFA, OSE Building Type, LargestPropertyUseType OSE, SecondLargestPropertyUseType OSE, ThirdLargestPropertyUseType OSE]\n",
       "Index: []\n",
       "\n",
       "[0 rows x 21 columns]"
      ]
     },
     "execution_count": 30,
     "metadata": {},
     "output_type": "execute_result"
    }
   ],
   "source": [
    "cleaned_building_data[cleaned_building_data['LargestPropertyUseType'].isnull()]"
   ]
  },
  {
   "cell_type": "code",
   "execution_count": 31,
   "id": "c0fe0d34-be26-41b7-ab3e-655977a0af06",
   "metadata": {},
   "outputs": [
    {
     "name": "stderr",
     "output_type": "stream",
     "text": [
      "/var/folders/dv/sn1_d0xn0vncjbncdpkkg_pc0000gn/T/ipykernel_70209/3259207193.py:3: SettingWithCopyWarning: \n",
      "A value is trying to be set on a copy of a slice from a DataFrame.\n",
      "Try using .loc[row_indexer,col_indexer] = value instead\n",
      "\n",
      "See the caveats in the documentation: https://pandas.pydata.org/pandas-docs/stable/user_guide/indexing.html#returning-a-view-versus-a-copy\n",
      "  cleaned_building_data['LargestPropertyUseType OSE GFA for Policy'] = cleaned_building_data.apply(lambda building: 0 if building['LargestPropertyUseType OSE'] in ('Data Center', 'Parking') else building['LargestPropertyUseTypeGFA'], axis=1)\n",
      "/var/folders/dv/sn1_d0xn0vncjbncdpkkg_pc0000gn/T/ipykernel_70209/3259207193.py:4: SettingWithCopyWarning: \n",
      "A value is trying to be set on a copy of a slice from a DataFrame.\n",
      "Try using .loc[row_indexer,col_indexer] = value instead\n",
      "\n",
      "See the caveats in the documentation: https://pandas.pydata.org/pandas-docs/stable/user_guide/indexing.html#returning-a-view-versus-a-copy\n",
      "  cleaned_building_data['SecondLargestPropertyUseType OSE GFA for Policy'] = cleaned_building_data.apply(lambda building: 0 if building['SecondLargestPropertyUseType OSE'] in ('Data Center', 'Parking') else building['SecondLargestPropertyUseTypeGFA'], axis=1)\n",
      "/var/folders/dv/sn1_d0xn0vncjbncdpkkg_pc0000gn/T/ipykernel_70209/3259207193.py:5: SettingWithCopyWarning: \n",
      "A value is trying to be set on a copy of a slice from a DataFrame.\n",
      "Try using .loc[row_indexer,col_indexer] = value instead\n",
      "\n",
      "See the caveats in the documentation: https://pandas.pydata.org/pandas-docs/stable/user_guide/indexing.html#returning-a-view-versus-a-copy\n",
      "  cleaned_building_data['ThirdLargestPropertyUseType OSE GFA for Policy'] = cleaned_building_data.apply(lambda building: 0 if building['ThirdLargestPropertyUseType OSE'] in ('Data Center', 'Parking') else building['ThirdLargestPropertyUseTypeGFA'], axis=1)\n"
     ]
    }
   ],
   "source": [
    "# Property Use Type GFA for Policy\n",
    "\n",
    "cleaned_building_data['LargestPropertyUseType OSE GFA for Policy'] = cleaned_building_data.apply(lambda building: 0 if building['LargestPropertyUseType OSE'] in ('Data Center', 'Parking') else building['LargestPropertyUseTypeGFA'], axis=1)\n",
    "cleaned_building_data['SecondLargestPropertyUseType OSE GFA for Policy'] = cleaned_building_data.apply(lambda building: 0 if building['SecondLargestPropertyUseType OSE'] in ('Data Center', 'Parking') else building['SecondLargestPropertyUseTypeGFA'], axis=1)\n",
    "cleaned_building_data['ThirdLargestPropertyUseType OSE GFA for Policy'] = cleaned_building_data.apply(lambda building: 0 if building['ThirdLargestPropertyUseType OSE'] in ('Data Center', 'Parking') else building['ThirdLargestPropertyUseTypeGFA'], axis=1)"
   ]
  },
  {
   "cell_type": "code",
   "execution_count": 32,
   "id": "a9c2085e-d01b-49a2-8a57-062e44b9195f",
   "metadata": {},
   "outputs": [
    {
     "data": {
      "text/html": [
       "<div>\n",
       "<style scoped>\n",
       "    .dataframe tbody tr th:only-of-type {\n",
       "        vertical-align: middle;\n",
       "    }\n",
       "\n",
       "    .dataframe tbody tr th {\n",
       "        vertical-align: top;\n",
       "    }\n",
       "\n",
       "    .dataframe thead th {\n",
       "        text-align: right;\n",
       "    }\n",
       "</style>\n",
       "<table border=\"1\" class=\"dataframe\">\n",
       "  <thead>\n",
       "    <tr style=\"text-align: right;\">\n",
       "      <th></th>\n",
       "      <th>LargestPropertyUseType OSE GFA for Policy</th>\n",
       "      <th>SecondLargestPropertyUseType OSE GFA for Policy</th>\n",
       "      <th>ThirdLargestPropertyUseType OSE GFA for Policy</th>\n",
       "    </tr>\n",
       "  </thead>\n",
       "  <tbody>\n",
       "    <tr>\n",
       "      <th>0</th>\n",
       "      <td>88434.0</td>\n",
       "      <td>NaN</td>\n",
       "      <td>NaN</td>\n",
       "    </tr>\n",
       "    <tr>\n",
       "      <th>1</th>\n",
       "      <td>83880.0</td>\n",
       "      <td>15064.0</td>\n",
       "      <td>4622.0</td>\n",
       "    </tr>\n",
       "    <tr>\n",
       "      <th>2</th>\n",
       "      <td>756493.0</td>\n",
       "      <td>138635.0</td>\n",
       "      <td>0.0</td>\n",
       "    </tr>\n",
       "    <tr>\n",
       "      <th>3</th>\n",
       "      <td>61320.0</td>\n",
       "      <td>NaN</td>\n",
       "      <td>NaN</td>\n",
       "    </tr>\n",
       "    <tr>\n",
       "      <th>4</th>\n",
       "      <td>123445.0</td>\n",
       "      <td>68009.0</td>\n",
       "      <td>0.0</td>\n",
       "    </tr>\n",
       "  </tbody>\n",
       "</table>\n",
       "</div>"
      ],
      "text/plain": [
       "   LargestPropertyUseType OSE GFA for Policy  \\\n",
       "0                                    88434.0   \n",
       "1                                    83880.0   \n",
       "2                                   756493.0   \n",
       "3                                    61320.0   \n",
       "4                                   123445.0   \n",
       "\n",
       "   SecondLargestPropertyUseType OSE GFA for Policy  \\\n",
       "0                                              NaN   \n",
       "1                                          15064.0   \n",
       "2                                         138635.0   \n",
       "3                                              NaN   \n",
       "4                                          68009.0   \n",
       "\n",
       "   ThirdLargestPropertyUseType OSE GFA for Policy  \n",
       "0                                             NaN  \n",
       "1                                          4622.0  \n",
       "2                                             0.0  \n",
       "3                                             NaN  \n",
       "4                                             0.0  "
      ]
     },
     "execution_count": 32,
     "metadata": {},
     "output_type": "execute_result"
    }
   ],
   "source": [
    "cleaned_building_data[['LargestPropertyUseType OSE GFA for Policy', 'SecondLargestPropertyUseType OSE GFA for Policy', 'ThirdLargestPropertyUseType OSE GFA for Policy']].head()"
   ]
  },
  {
   "cell_type": "code",
   "execution_count": 33,
   "id": "32c6bd3a-8a5a-4576-a6e2-80f88bfaa265",
   "metadata": {},
   "outputs": [
    {
     "name": "stderr",
     "output_type": "stream",
     "text": [
      "/var/folders/dv/sn1_d0xn0vncjbncdpkkg_pc0000gn/T/ipykernel_70209/354881507.py:2: SettingWithCopyWarning: \n",
      "A value is trying to be set on a copy of a slice from a DataFrame.\n",
      "Try using .loc[row_indexer,col_indexer] = value instead\n",
      "\n",
      "See the caveats in the documentation: https://pandas.pydata.org/pandas-docs/stable/user_guide/indexing.html#returning-a-view-versus-a-copy\n",
      "  cleaned_building_data[['LargestPropertyUseType OSE GFA for Policy', 'SecondLargestPropertyUseType OSE GFA for Policy', 'ThirdLargestPropertyUseType OSE GFA for Policy']] = cleaned_building_data[['LargestPropertyUseType OSE GFA for Policy', 'SecondLargestPropertyUseType OSE GFA for Policy', 'ThirdLargestPropertyUseType OSE GFA for Policy']].fillna(0)\n"
     ]
    }
   ],
   "source": [
    "# replace NaN with 0\n",
    "cleaned_building_data[['LargestPropertyUseType OSE GFA for Policy', 'SecondLargestPropertyUseType OSE GFA for Policy', 'ThirdLargestPropertyUseType OSE GFA for Policy']] = cleaned_building_data[['LargestPropertyUseType OSE GFA for Policy', 'SecondLargestPropertyUseType OSE GFA for Policy', 'ThirdLargestPropertyUseType OSE GFA for Policy']].fillna(0)"
   ]
  },
  {
   "cell_type": "code",
   "execution_count": 34,
   "id": "d0c2251d-1179-4bc2-ad14-39f55505f2b6",
   "metadata": {},
   "outputs": [
    {
     "name": "stderr",
     "output_type": "stream",
     "text": [
      "/var/folders/dv/sn1_d0xn0vncjbncdpkkg_pc0000gn/T/ipykernel_70209/264322200.py:1: SettingWithCopyWarning: \n",
      "A value is trying to be set on a copy of a slice from a DataFrame.\n",
      "Try using .loc[row_indexer,col_indexer] = value instead\n",
      "\n",
      "See the caveats in the documentation: https://pandas.pydata.org/pandas-docs/stable/user_guide/indexing.html#returning-a-view-versus-a-copy\n",
      "  cleaned_building_data['Total GFA for Policy'] = cleaned_building_data.apply(lambda building: building['LargestPropertyUseType OSE GFA for Policy'] + building['SecondLargestPropertyUseType OSE GFA for Policy'] + building['ThirdLargestPropertyUseType OSE GFA for Policy'], axis=1)\n"
     ]
    }
   ],
   "source": [
    "cleaned_building_data['Total GFA for Policy'] = cleaned_building_data.apply(lambda building: building['LargestPropertyUseType OSE GFA for Policy'] + building['SecondLargestPropertyUseType OSE GFA for Policy'] + building['ThirdLargestPropertyUseType OSE GFA for Policy'], axis=1)"
   ]
  },
  {
   "cell_type": "code",
   "execution_count": 35,
   "id": "b58e7a76-6999-41c6-97ec-1b300c09275d",
   "metadata": {},
   "outputs": [
    {
     "data": {
      "text/html": [
       "<div>\n",
       "<style scoped>\n",
       "    .dataframe tbody tr th:only-of-type {\n",
       "        vertical-align: middle;\n",
       "    }\n",
       "\n",
       "    .dataframe tbody tr th {\n",
       "        vertical-align: top;\n",
       "    }\n",
       "\n",
       "    .dataframe thead th {\n",
       "        text-align: right;\n",
       "    }\n",
       "</style>\n",
       "<table border=\"1\" class=\"dataframe\">\n",
       "  <thead>\n",
       "    <tr style=\"text-align: right;\">\n",
       "      <th></th>\n",
       "      <th>OSEBuildingID</th>\n",
       "      <th>TaxParcelIdentificationNumber</th>\n",
       "      <th>DataYear</th>\n",
       "      <th>BuildingType</th>\n",
       "      <th>BuildingName</th>\n",
       "      <th>NaturalGas(kBtu)</th>\n",
       "      <th>Electricity(kBtu)</th>\n",
       "      <th>SteamUse(kBtu)</th>\n",
       "      <th>PropertyGFATotal</th>\n",
       "      <th>PropertyGFABuilding(s)</th>\n",
       "      <th>...</th>\n",
       "      <th>ThirdLargestPropertyUseType</th>\n",
       "      <th>ThirdLargestPropertyUseTypeGFA</th>\n",
       "      <th>OSE Building Type</th>\n",
       "      <th>LargestPropertyUseType OSE</th>\n",
       "      <th>SecondLargestPropertyUseType OSE</th>\n",
       "      <th>ThirdLargestPropertyUseType OSE</th>\n",
       "      <th>LargestPropertyUseType OSE GFA for Policy</th>\n",
       "      <th>SecondLargestPropertyUseType OSE GFA for Policy</th>\n",
       "      <th>ThirdLargestPropertyUseType OSE GFA for Policy</th>\n",
       "      <th>Total GFA for Policy</th>\n",
       "    </tr>\n",
       "  </thead>\n",
       "  <tbody>\n",
       "  </tbody>\n",
       "</table>\n",
       "<p>0 rows × 25 columns</p>\n",
       "</div>"
      ],
      "text/plain": [
       "Empty DataFrame\n",
       "Columns: [OSEBuildingID, TaxParcelIdentificationNumber, DataYear, BuildingType, BuildingName, NaturalGas(kBtu), Electricity(kBtu), SteamUse(kBtu), PropertyGFATotal, PropertyGFABuilding(s), PropertyGFAParking, LargestPropertyUseType, LargestPropertyUseTypeGFA, SecondLargestPropertyUseType, SecondLargestPropertyUseTypeGFA, ThirdLargestPropertyUseType, ThirdLargestPropertyUseTypeGFA, OSE Building Type, LargestPropertyUseType OSE, SecondLargestPropertyUseType OSE, ThirdLargestPropertyUseType OSE, LargestPropertyUseType OSE GFA for Policy, SecondLargestPropertyUseType OSE GFA for Policy, ThirdLargestPropertyUseType OSE GFA for Policy, Total GFA for Policy]\n",
       "Index: []\n",
       "\n",
       "[0 rows x 25 columns]"
      ]
     },
     "execution_count": 35,
     "metadata": {},
     "output_type": "execute_result"
    }
   ],
   "source": [
    "cleaned_building_data[cleaned_building_data['Total GFA for Policy'] == 0]"
   ]
  },
  {
   "cell_type": "code",
   "execution_count": 36,
   "id": "15bd0f7b-ceb9-460f-8396-1f4c18dcfb44",
   "metadata": {},
   "outputs": [
    {
     "name": "stderr",
     "output_type": "stream",
     "text": [
      "/var/folders/dv/sn1_d0xn0vncjbncdpkkg_pc0000gn/T/ipykernel_70209/1533179606.py:2: SettingWithCopyWarning: \n",
      "A value is trying to be set on a copy of a slice from a DataFrame.\n",
      "Try using .loc[row_indexer,col_indexer] = value instead\n",
      "\n",
      "See the caveats in the documentation: https://pandas.pydata.org/pandas-docs/stable/user_guide/indexing.html#returning-a-view-versus-a-copy\n",
      "  cleaned_building_data['LargestPropertyUseType Percent GFA'] = cleaned_building_data.apply(lambda building: building['LargestPropertyUseType OSE GFA for Policy'] / building['Total GFA for Policy'], axis=1)\n",
      "/var/folders/dv/sn1_d0xn0vncjbncdpkkg_pc0000gn/T/ipykernel_70209/1533179606.py:3: SettingWithCopyWarning: \n",
      "A value is trying to be set on a copy of a slice from a DataFrame.\n",
      "Try using .loc[row_indexer,col_indexer] = value instead\n",
      "\n",
      "See the caveats in the documentation: https://pandas.pydata.org/pandas-docs/stable/user_guide/indexing.html#returning-a-view-versus-a-copy\n",
      "  cleaned_building_data['SecondLargestPropertyUseType Percent GFA'] = cleaned_building_data.apply(lambda building: building['SecondLargestPropertyUseType OSE GFA for Policy'] / building['Total GFA for Policy'], axis=1)\n",
      "/var/folders/dv/sn1_d0xn0vncjbncdpkkg_pc0000gn/T/ipykernel_70209/1533179606.py:4: SettingWithCopyWarning: \n",
      "A value is trying to be set on a copy of a slice from a DataFrame.\n",
      "Try using .loc[row_indexer,col_indexer] = value instead\n",
      "\n",
      "See the caveats in the documentation: https://pandas.pydata.org/pandas-docs/stable/user_guide/indexing.html#returning-a-view-versus-a-copy\n",
      "  cleaned_building_data['ThirdLargestPropertyUseType Percent GFA'] = cleaned_building_data.apply(lambda building: building['ThirdLargestPropertyUseType OSE GFA for Policy'] / building['Total GFA for Policy'], axis=1)\n"
     ]
    }
   ],
   "source": [
    "# Calculate percent for each use type\n",
    "cleaned_building_data['LargestPropertyUseType Percent GFA'] = cleaned_building_data.apply(lambda building: building['LargestPropertyUseType OSE GFA for Policy'] / building['Total GFA for Policy'], axis=1)\n",
    "cleaned_building_data['SecondLargestPropertyUseType Percent GFA'] = cleaned_building_data.apply(lambda building: building['SecondLargestPropertyUseType OSE GFA for Policy'] / building['Total GFA for Policy'], axis=1)\n",
    "cleaned_building_data['ThirdLargestPropertyUseType Percent GFA'] = cleaned_building_data.apply(lambda building: building['ThirdLargestPropertyUseType OSE GFA for Policy'] / building['Total GFA for Policy'], axis=1)"
   ]
  },
  {
   "cell_type": "code",
   "execution_count": 37,
   "id": "0b792855-305b-44c6-8b05-603c69e51442",
   "metadata": {},
   "outputs": [
    {
     "name": "stderr",
     "output_type": "stream",
     "text": [
      "/var/folders/dv/sn1_d0xn0vncjbncdpkkg_pc0000gn/T/ipykernel_70209/2842177057.py:20: SettingWithCopyWarning: \n",
      "A value is trying to be set on a copy of a slice from a DataFrame.\n",
      "Try using .loc[row_indexer,col_indexer] = value instead\n",
      "\n",
      "See the caveats in the documentation: https://pandas.pydata.org/pandas-docs/stable/user_guide/indexing.html#returning-a-view-versus-a-copy\n",
      "  cleaned_building_data['sq_ft_classification'] = cleaned_building_data['Total GFA for Policy'].apply(lambda building: classify_size(building))\n"
     ]
    }
   ],
   "source": [
    "# Add size classification\n",
    "\n",
    "def classify_size(sq_ft):\n",
    "    \"\"\"\n",
    "    Use letter classifications for building size instead of dealing with size ranges (>220k, 90-220k, etc.)\n",
    "    \"\"\"\n",
    "    if sq_ft > 220000:\n",
    "        return 'A'\n",
    "    elif sq_ft > 90000:\n",
    "        return 'B'\n",
    "    elif sq_ft > 50000:\n",
    "        return 'C'\n",
    "    elif sq_ft > 30000:\n",
    "        return 'D'\n",
    "    elif sq_ft > 20000:\n",
    "        return 'E'\n",
    "    else:\n",
    "        return 'F'\n",
    "        \n",
    "cleaned_building_data['sq_ft_classification'] = cleaned_building_data['Total GFA for Policy'].apply(lambda building: classify_size(building))"
   ]
  },
  {
   "cell_type": "code",
   "execution_count": 38,
   "id": "d56f78c6-964b-45a4-b176-721368dba01d",
   "metadata": {},
   "outputs": [],
   "source": [
    "cleaned_building_data.to_csv('cleaned_building_data_with_policy_gfa_8_24.csv')"
   ]
  },
  {
   "cell_type": "markdown",
   "id": "3b2c3de9-4ef9-411b-a168-1055afd38c7e",
   "metadata": {},
   "source": [
    "## Rechecking the data\n",
    "\n",
    "When we ran this data through the model, our numbers were way off. We need to figure out why that is. Here's some exploring to see where the problem is occuring."
   ]
  },
  {
   "cell_type": "code",
   "execution_count": null,
   "id": "4496b5df-1772-4f3b-8054-7d5b75b42133",
   "metadata": {},
   "outputs": [],
   "source": [
    "raw_2019_data = pd.read_csv('seattle_large_building_data_2019.csv')\n",
    "processed_data = pd.read_csv('cleaned_building_data_with_policy_gfa.csv')"
   ]
  },
  {
   "cell_type": "code",
   "execution_count": null,
   "id": "d4fb24ad-6026-4856-9446-17843f5ef72a",
   "metadata": {},
   "outputs": [],
   "source": [
    "rmi_processed_data = pd.read_csv('../rmi_building_analysis_with_new_col_names.csv')"
   ]
  },
  {
   "cell_type": "code",
   "execution_count": null,
   "id": "bc063c7e-7c82-4b2a-a7b8-fadd011ffb85",
   "metadata": {},
   "outputs": [],
   "source": [
    "# Let's look to see if there are missing buildings\n",
    "\n",
    "# buildings not in RMI data but in the raw data\n",
    "len(set(raw_2019_data['OSEBuildingID']) - set(rmi_processed_data['OSEBuildingID']))"
   ]
  },
  {
   "cell_type": "code",
   "execution_count": null,
   "id": "a6b5f692-bff3-4edb-9c3b-8ef35ac328b3",
   "metadata": {},
   "outputs": [],
   "source": [
    "set(raw_2019_data['OSEBuildingID']) - set(rmi_processed_data['OSEBuildingID'])"
   ]
  },
  {
   "cell_type": "code",
   "execution_count": null,
   "id": "bd9c6ca7-3b15-4c47-a45d-b70d41c216c2",
   "metadata": {},
   "outputs": [],
   "source": [
    "raw_2019_data.columns"
   ]
  },
  {
   "cell_type": "code",
   "execution_count": null,
   "id": "87c7d031-88cd-4946-820c-5f654832c36e",
   "metadata": {},
   "outputs": [],
   "source": [
    "print(raw_2019_data[raw_2019_data['OSEBuildingID'] == 755][['BuildingName', 'TotalGHGEmissions', 'LargestPropertyUseType',\n",
    "       'LargestPropertyUseTypeGFA', 'SecondLargestPropertyUseType',\n",
    "       'SecondLargestPropertyUseTypeGFA', 'ThirdLargestPropertyUseType',\n",
    "       'ThirdLargestPropertyUseTypeGFA']])"
   ]
  },
  {
   "cell_type": "markdown",
   "id": "9d12f224-0f30-4f7c-8735-a275bb5b02e1",
   "metadata": {},
   "source": [
    "OK, so the Medical Dental building is huge (~360K sq ft) and produces a lot of carbon (300K tons)\n",
    "\n",
    "It's possible this is throwing us off. It may have been removed as an outlier from the RMI dataset.\n",
    "\n",
    "Let's also look at what's in the RMI but not the public raw dataset."
   ]
  },
  {
   "cell_type": "code",
   "execution_count": null,
   "id": "02cdc8aa-5fbe-42d8-87fd-e455422878e7",
   "metadata": {},
   "outputs": [],
   "source": [
    "len(set(rmi_processed_data['OSEBuildingID']) - set(raw_2019_data['OSEBuildingID']))"
   ]
  },
  {
   "cell_type": "code",
   "execution_count": null,
   "id": "9474e46c-c82b-452a-b42a-c79a8bf6d9c0",
   "metadata": {},
   "outputs": [],
   "source": [
    "in_rmi_but_not_public_city_data = list(set(rmi_processed_data['OSEBuildingID']) - set(raw_2019_data['OSEBuildingID']))"
   ]
  },
  {
   "cell_type": "code",
   "execution_count": null,
   "id": "be914cdf-a4ba-4cc0-8183-46284d4a7745",
   "metadata": {},
   "outputs": [],
   "source": [
    "rmi_processed_data[rmi_processed_data['OSEBuildingID'].isin(in_rmi_but_not_public_city_data)][['LargestPropertyUseType', 'SecondLargestPropertyUseType', 'ThirdLargestPropertyUseType']].head()"
   ]
  },
  {
   "cell_type": "markdown",
   "id": "9619170e-f89f-4e32-af05-8e789a4171c5",
   "metadata": {},
   "source": [
    "## Create matching public/RMI datasets\n",
    "\n",
    "Create a copy of the RMI data and the public data (crunched above) that have the exact same buildings (only buildings found in both datasets)."
   ]
  }
 ],
 "metadata": {
  "kernelspec": {
   "display_name": "Python 3 (ipykernel)",
   "language": "python",
   "name": "python3"
  },
  "language_info": {
   "codemirror_mode": {
    "name": "ipython",
    "version": 3
   },
   "file_extension": ".py",
   "mimetype": "text/x-python",
   "name": "python",
   "nbconvert_exporter": "python",
   "pygments_lexer": "ipython3",
   "version": "3.11.3"
  }
 },
 "nbformat": 4,
 "nbformat_minor": 5
}
