{
 "cells": [
  {
   "cell_type": "markdown",
   "id": "871af8a3",
   "metadata": {},
   "source": [
    "# Benchmark calculcations for January and June proposals\n",
    "\n",
    "Assumptions:\n",
    "\n",
    "- Buildings will produce the max amount of emissions, **unless** their predicted emissions is lower than the target GHGI, in which case they will produce that amount.\n",
    "- Predicted emissions are calculated based off of the emissions predictions found in [the emissions data input file](../data/input_data/energy_emissions.csv). \n",
    "\n",
    "\n",
    "\n",
    "For each building, in each year (2027-2050), we need to calculate (column references given refer to the 2027 calculations in [the original RMI spreadsheet](https://docs.google.com/spreadsheets/d/175uipAHHQHGelq7i1n9sKWQXNQi-B1IJiF6-XQRVnE8/edit#gid=1811888818):\n",
    "\n",
    "- `city_ghgi_target`: The GHGI target, as calculated by the sum of: use type * city's target GHGI for that use type * percent of GFA for that use type, for each of the three given use types (col A). If there is no target for any of the use types, this is NaN. If a building is multi-use, and some of the building's uses have a compliance threshold, but others don't, use the expected GHGI (greenhouse gas emissions intensity) if nothing is changed as the GHGI for the portion of the building that is not subject to BEPS yet.\n",
    "    - Example: A building is 50% retail and 50% multifamily housing. The target for retail in 2033 is 1.03 and there is no target for multifamily housing. This building would have a GHGI of 4.0 in 2033 if no changes were made to it. We estimate the GHGHI target as `(0.5 * 1.03) + (0.5 * 4.0) = 2.515`. \n",
    "    - NB: These numbers will be different than the RMI calculations. The RMI model mistakenly used a GHGI of zero for parts of buildings that are not yet subject to BEPS. So in the example above, RMI's model would list the GHGI target as`0.5 * 1.03 + 0.5 * 0 = 0.515`, which leaves out half the building. Then the target GHGI would actually go **up** when the multifamily part of the building became subject to BEPS! This model corrects that error.\n",
    "- `expected_baseline`: The expected emissions if nothing is changed about the building, as calculated by the sum of: `total use energy for type * energy emissions factor for energy type` for the three energy types (col C)\n",
    "- `expected_baseline_ghgi`: The expected GHGI if nothing is changed about the building (col B), as calculated by the `expected emissions / total GFA`\n",
    "- `compliant_ghgi`: The expected GHGI if the building is compliant with BEPS, as defined by (col H):\n",
    "    - if the BEPS GHGI target is lower than the expected GHGI, use the BEPS GHGI target\n",
    "    - if the expected GHGI is lower than the BEPS GHGI target, use the expected GHGI\n",
    "- `compliant_emissions`: The expected emissions if the building is compliant with BEPS, as defined by the `compliant GHGI * total GFA` (col J)\n",
    "- `compliance_status`: Whether or not the building is compliant (col K):\n",
    "    - yes: the baseline GHGI is lower than the expected compliant GHGI for this year\n",
    "    - no: the baseline GHGI is higher than the expected compliant GHGI for this year\n",
    "    - no requirement yet: the building doesn't have a compliance requirement for this year\n",
    "- `compliance_fees`: Noncompliance fees. For years where buildings will be taxed for being noncompliant, this is `$2.50 * total GFA`    "
   ]
  },
  {
   "cell_type": "code",
   "execution_count": 1,
   "id": "d8090f3b",
   "metadata": {},
   "outputs": [],
   "source": [
    "import pandas as pd\n",
    "import numpy as np"
   ]
  },
  {
   "cell_type": "code",
   "execution_count": 2,
   "id": "01d49814-15a0-4d04-82aa-6fb464598fe9",
   "metadata": {},
   "outputs": [],
   "source": [
    "from baseline_model import BaselineBEPSModel"
   ]
  },
  {
   "cell_type": "code",
   "execution_count": 3,
   "id": "86d0008b",
   "metadata": {},
   "outputs": [],
   "source": [
    "pd.options.mode.chained_assignment = None"
   ]
  },
  {
   "cell_type": "code",
   "execution_count": 4,
   "id": "f76ebfd1",
   "metadata": {},
   "outputs": [],
   "source": [
    "JAN_TARGETS_PATH = '../data_new/input_data/jan_proposal_emissions_targets.csv'\n",
    "JUNE_TARGETS_PATH = '../data_new/input_data/june_proposal_emissions_targets.csv'\n",
    "EMISSIONS_PATH = '../data_new/input_data/energy_emissions.csv'\n",
    "BUILDING_DATA_PATH = '../data_new/input_data/cleaned_building_data_with_policy_gfa.csv'\n",
    "\n",
    "JAN_FINE_YEARS = [2027, 2030, 2035, 2040, 2045, 2050]\n",
    "JUNE_FINE_YEARS = [2030, 2035, 2040, 2045, 2050]\n",
    "FINE_PER_SQ_FT = 2.5"
   ]
  },
  {
   "cell_type": "markdown",
   "id": "4af189da",
   "metadata": {},
   "source": [
    "## January Proposal"
   ]
  },
  {
   "cell_type": "code",
   "execution_count": 5,
   "id": "4495316f",
   "metadata": {},
   "outputs": [],
   "source": [
    "jan_model = BaselineBEPSModel(EMISSIONS_PATH, JAN_TARGETS_PATH, BUILDING_DATA_PATH, JAN_FINE_YEARS, FINE_PER_SQ_FT)"
   ]
  },
  {
   "cell_type": "code",
   "execution_count": 6,
   "id": "c74ac6e6-459f-4abc-91d3-31062a5850b0",
   "metadata": {},
   "outputs": [
    {
     "name": "stdout",
     "output_type": "stream",
     "text": [
      "Model calculations complete. Access the model dataframe as model_name.scenario_results\n"
     ]
    }
   ],
   "source": [
    "jan_model.calculate_baseline_model(2027,2050)"
   ]
  },
  {
   "cell_type": "code",
   "execution_count": null,
   "id": "0d42023c-eabf-428f-baa6-c77af0eb1397",
   "metadata": {},
   "outputs": [],
   "source": [
    "jan_model.scenario_results.head()"
   ]
  },
  {
   "cell_type": "code",
   "execution_count": null,
   "id": "f4f02d1c-6766-4594-9264-062d6c0e324c",
   "metadata": {},
   "outputs": [],
   "source": [
    "jan_model.scenario_results.head()"
   ]
  },
  {
   "cell_type": "code",
   "execution_count": null,
   "id": "54a2eaca-0d1d-4330-9a5f-527c2971d4a3",
   "metadata": {},
   "outputs": [],
   "source": [
    "jan_model.scenario_results.columns"
   ]
  },
  {
   "cell_type": "markdown",
   "id": "182a2028-4bef-4c4c-9c80-b464a09a1e74",
   "metadata": {},
   "source": [
    "## Summary stats"
   ]
  },
  {
   "cell_type": "code",
   "execution_count": 7,
   "id": "a2dfd348",
   "metadata": {},
   "outputs": [
    {
     "name": "stdout",
     "output_type": "stream",
     "text": [
      "Emissions by year calculations complete. Access the annual emissions dataframe as model_name.emissions_by_year\n"
     ]
    }
   ],
   "source": [
    "jan_model.get_total_emissions_by_year()"
   ]
  },
  {
   "cell_type": "code",
   "execution_count": 8,
   "id": "ff76207a",
   "metadata": {},
   "outputs": [
    {
     "data": {
      "text/html": [
       "<div>\n",
       "<style scoped>\n",
       "    .dataframe tbody tr th:only-of-type {\n",
       "        vertical-align: middle;\n",
       "    }\n",
       "\n",
       "    .dataframe tbody tr th {\n",
       "        vertical-align: top;\n",
       "    }\n",
       "\n",
       "    .dataframe thead th {\n",
       "        text-align: right;\n",
       "    }\n",
       "</style>\n",
       "<table border=\"1\" class=\"dataframe\">\n",
       "  <thead>\n",
       "    <tr style=\"text-align: right;\">\n",
       "      <th></th>\n",
       "      <th>compliant_emissions</th>\n",
       "    </tr>\n",
       "    <tr>\n",
       "      <th>year</th>\n",
       "      <th></th>\n",
       "    </tr>\n",
       "  </thead>\n",
       "  <tbody>\n",
       "    <tr>\n",
       "      <th>2027.0</th>\n",
       "      <td>3.335484e+08</td>\n",
       "    </tr>\n",
       "    <tr>\n",
       "      <th>2028.0</th>\n",
       "      <td>3.225803e+08</td>\n",
       "    </tr>\n",
       "    <tr>\n",
       "      <th>2029.0</th>\n",
       "      <td>3.067583e+08</td>\n",
       "    </tr>\n",
       "    <tr>\n",
       "      <th>2030.0</th>\n",
       "      <td>2.780274e+08</td>\n",
       "    </tr>\n",
       "    <tr>\n",
       "      <th>2031.0</th>\n",
       "      <td>2.462242e+08</td>\n",
       "    </tr>\n",
       "    <tr>\n",
       "      <th>2032.0</th>\n",
       "      <td>2.277874e+08</td>\n",
       "    </tr>\n",
       "    <tr>\n",
       "      <th>2033.0</th>\n",
       "      <td>2.196453e+08</td>\n",
       "    </tr>\n",
       "    <tr>\n",
       "      <th>2034.0</th>\n",
       "      <td>2.100763e+08</td>\n",
       "    </tr>\n",
       "    <tr>\n",
       "      <th>2035.0</th>\n",
       "      <td>1.975086e+08</td>\n",
       "    </tr>\n",
       "    <tr>\n",
       "      <th>2036.0</th>\n",
       "      <td>1.610890e+08</td>\n",
       "    </tr>\n",
       "    <tr>\n",
       "      <th>2037.0</th>\n",
       "      <td>1.470195e+08</td>\n",
       "    </tr>\n",
       "    <tr>\n",
       "      <th>2038.0</th>\n",
       "      <td>1.409445e+08</td>\n",
       "    </tr>\n",
       "    <tr>\n",
       "      <th>2039.0</th>\n",
       "      <td>1.356439e+08</td>\n",
       "    </tr>\n",
       "    <tr>\n",
       "      <th>2040.0</th>\n",
       "      <td>1.276090e+08</td>\n",
       "    </tr>\n",
       "    <tr>\n",
       "      <th>2041.0</th>\n",
       "      <td>6.694147e+07</td>\n",
       "    </tr>\n",
       "    <tr>\n",
       "      <th>2042.0</th>\n",
       "      <td>4.439123e+07</td>\n",
       "    </tr>\n",
       "    <tr>\n",
       "      <th>2043.0</th>\n",
       "      <td>3.441838e+07</td>\n",
       "    </tr>\n",
       "    <tr>\n",
       "      <th>2044.0</th>\n",
       "      <td>2.633514e+07</td>\n",
       "    </tr>\n",
       "    <tr>\n",
       "      <th>2045.0</th>\n",
       "      <td>2.107603e+07</td>\n",
       "    </tr>\n",
       "    <tr>\n",
       "      <th>2046.0</th>\n",
       "      <td>1.289287e+07</td>\n",
       "    </tr>\n",
       "    <tr>\n",
       "      <th>2047.0</th>\n",
       "      <td>6.177203e+06</td>\n",
       "    </tr>\n",
       "    <tr>\n",
       "      <th>2048.0</th>\n",
       "      <td>3.360635e+06</td>\n",
       "    </tr>\n",
       "    <tr>\n",
       "      <th>2049.0</th>\n",
       "      <td>1.334673e+06</td>\n",
       "    </tr>\n",
       "    <tr>\n",
       "      <th>2050.0</th>\n",
       "      <td>0.000000e+00</td>\n",
       "    </tr>\n",
       "  </tbody>\n",
       "</table>\n",
       "</div>"
      ],
      "text/plain": [
       "        compliant_emissions\n",
       "year                       \n",
       "2027.0         3.335484e+08\n",
       "2028.0         3.225803e+08\n",
       "2029.0         3.067583e+08\n",
       "2030.0         2.780274e+08\n",
       "2031.0         2.462242e+08\n",
       "2032.0         2.277874e+08\n",
       "2033.0         2.196453e+08\n",
       "2034.0         2.100763e+08\n",
       "2035.0         1.975086e+08\n",
       "2036.0         1.610890e+08\n",
       "2037.0         1.470195e+08\n",
       "2038.0         1.409445e+08\n",
       "2039.0         1.356439e+08\n",
       "2040.0         1.276090e+08\n",
       "2041.0         6.694147e+07\n",
       "2042.0         4.439123e+07\n",
       "2043.0         3.441838e+07\n",
       "2044.0         2.633514e+07\n",
       "2045.0         2.107603e+07\n",
       "2046.0         1.289287e+07\n",
       "2047.0         6.177203e+06\n",
       "2048.0         3.360635e+06\n",
       "2049.0         1.334673e+06\n",
       "2050.0         0.000000e+00"
      ]
     },
     "execution_count": 8,
     "metadata": {},
     "output_type": "execute_result"
    }
   ],
   "source": [
    "jan_model.emissions_by_year"
   ]
  },
  {
   "cell_type": "code",
   "execution_count": 9,
   "id": "dc891fc4",
   "metadata": {},
   "outputs": [
    {
     "data": {
      "text/plain": [
       "0.8637739067995087"
      ]
     },
     "execution_count": 9,
     "metadata": {},
     "output_type": "execute_result"
    }
   ],
   "source": [
    "# Calculate percent of CO2 reduction by 2040\n",
    "\n",
    "jan_model.get_percent_emissions_reduction_by_given_year(2040)"
   ]
  },
  {
   "cell_type": "markdown",
   "id": "4cc4b502-3c51-4ab0-9969-14f2940b9d40",
   "metadata": {},
   "source": [
    "## June proposal"
   ]
  },
  {
   "cell_type": "code",
   "execution_count": 10,
   "id": "1a7ecfd9-d2c4-49d8-82e4-acf51f88f476",
   "metadata": {},
   "outputs": [],
   "source": [
    "june_model = BaselineBEPSModel(EMISSIONS_PATH, JUNE_TARGETS_PATH, BUILDING_DATA_PATH, JUNE_FINE_YEARS, FINE_PER_SQ_FT)"
   ]
  }
 ],
 "metadata": {
  "kernelspec": {
   "display_name": "Python 3 (ipykernel)",
   "language": "python",
   "name": "python3"
  },
  "language_info": {
   "codemirror_mode": {
    "name": "ipython",
    "version": 3
   },
   "file_extension": ".py",
   "mimetype": "text/x-python",
   "name": "python",
   "nbconvert_exporter": "python",
   "pygments_lexer": "ipython3",
   "version": "3.11.3"
  }
 },
 "nbformat": 4,
 "nbformat_minor": 5
}
